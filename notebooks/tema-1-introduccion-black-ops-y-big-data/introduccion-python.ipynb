{
    "cells": [
        {
            "cell_type": "markdown",
            "id": "intro",
            "metadata": {},
            "source": [
                "# Introducción a Python\n",
                "\n",
                "En este notebook, exploraremos los conceptos básicos de Python, incluyendo sintaxis básica, estructuras de control, funciones y estructuras de datos. Cada sección incluye tanto explicaciones teóricas como ejercicios prácticos para reforzar el aprendizaje.\n",
                "\n",
                "---"
            ]
        },
        {
            "cell_type": "markdown",
            "id": "tema3",
            "metadata": {},
            "source": [
                "## Sintaxis Básica y Operaciones\n",
                "\n",
                "### Variables y Tipos de Datos\n",
                "\n",
                "#### Números (Enteros y Flotantes)\n",
                "\n",
                "- **Enteros**: Números sin parte decimal. Ejemplo: `5`, `-3`, `100`.\n",
                "- **Flotantes**: Números con parte decimal. Ejemplo: `3.14`, `-0.001`, `2.0`.\n"
            ]
        },
        {
            "cell_type": "code",
            "execution_count": 1,
            "id": "numeros",
            "metadata": {},
            "outputs": [
                {
                    "name": "stdout",
                    "output_type": "stream",
                    "text": [
                        "Entero: 10\n",
                        "Flotante: 3.14\n"
                    ]
                }
            ],
            "source": [
                "# Ejemplo de variables numéricas\n",
                "entero = 10\n",
                "flotante = 3.14\n",
                "\n",
                "print(\"Entero:\", entero)\n",
                "print(\"Flotante:\", flotante)"
            ]
        },
        {
            "cell_type": "markdown",
            "id": "cadenas",
            "metadata": {},
            "source": [
                "#### Cadenas de Caracteres (Strings)\n",
                "\n",
                "- Secuencias de caracteres encerradas entre comillas simples `'` o dobles `\"`.\n"
            ]
        },
        {
            "cell_type": "code",
            "execution_count": 2,
            "id": "strings",
            "metadata": {},
            "outputs": [
                {
                    "name": "stdout",
                    "output_type": "stream",
                    "text": [
                        "Hola, Python!\n"
                    ]
                }
            ],
            "source": [
                "# Ejemplo de cadenas\n",
                "mensaje = \"Hola, Python!\"\n",
                "print(mensaje)"
            ]
        },
        {
            "cell_type": "markdown",
            "id": "booleanos",
            "metadata": {},
            "source": [
                "#### Booleanos\n",
                "\n",
                "- Representan valores de **Verdadero** (`True`) o **Falso** (`False`).\n"
            ]
        },
        {
            "cell_type": "code",
            "execution_count": 3,
            "id": "bools",
            "metadata": {},
            "outputs": [
                {
                    "name": "stdout",
                    "output_type": "stream",
                    "text": [
                        "Es mayor: True\n"
                    ]
                }
            ],
            "source": [
                "# Ejemplo de booleanos\n",
                "es_mayor = True\n",
                "es_menor = False\n",
                "print(\"Es mayor:\", es_mayor)"
            ]
        },
        {
            "cell_type": "markdown",
            "id": "operadores-aritmeticos",
            "metadata": {},
            "source": [
                "### Operaciones Básicas\n",
                "\n",
                "#### Operadores Aritméticos\n",
                "\n",
                "- Suma `+`, Resta `-`, Multiplicación `*`, División `/`, Módulo `%`, Exponente `**`, División entera `//`.\n"
            ]
        },
        {
            "cell_type": "code",
            "execution_count": 4,
            "id": "aritmetica",
            "metadata": {},
            "outputs": [
                {
                    "name": "stdout",
                    "output_type": "stream",
                    "text": [
                        "Suma: 13\n",
                        "Resta: 7\n",
                        "Multiplicación: 30\n",
                        "División: 3.3333333333333335\n",
                        "Módulo: 1\n",
                        "Exponente: 1000\n",
                        "División entera: 3\n"
                    ]
                }
            ],
            "source": [
                "# Ejemplos de operaciones aritméticas\n",
                "a = 10\n",
                "b = 3\n",
                "\n",
                "print(\"Suma:\", a + b)\n",
                "print(\"Resta:\", a - b)\n",
                "print(\"Multiplicación:\", a * b)\n",
                "print(\"División:\", a / b)\n",
                "print(\"Módulo:\", a % b)\n",
                "print(\"Exponente:\", a ** b)\n",
                "print(\"División entera:\", a // b)"
            ]
        },
        {
            "cell_type": "markdown",
            "id": "operadores-comparacion",
            "metadata": {},
            "source": [
                "#### Operadores de Comparación\n",
                "\n",
                "- Igual a `==`, Diferente de `!=`, Mayor que `>`, Menor que `<`, Mayor o igual a `>=`, Menor o igual a `<=`.\n"
            ]
        },
        {
            "cell_type": "code",
            "execution_count": 5,
            "id": "comparacion",
            "metadata": {},
            "outputs": [
                {
                    "name": "stdout",
                    "output_type": "stream",
                    "text": [
                        "¿x es igual a y? False\n",
                        "¿x es menor que y? True\n"
                    ]
                }
            ],
            "source": [
                "# Ejemplos de operadores de comparación\n",
                "x = 5\n",
                "y = 10\n",
                "\n",
                "print(\"¿x es igual a y?\", x == y)\n",
                "print(\"¿x es menor que y?\", x < y)"
            ]
        },
        {
            "cell_type": "markdown",
            "id": "operadores-logicos",
            "metadata": {},
            "source": [
                "#### Operadores Lógicos\n",
                "\n",
                "- **and**, **or**, **not**.\n"
            ]
        },
        {
            "cell_type": "code",
            "execution_count": 6,
            "id": "logicos",
            "metadata": {},
            "outputs": [
                {
                    "name": "stdout",
                    "output_type": "stream",
                    "text": [
                        "condicion1 and condicion2: False\n",
                        "condicion1 or condicion2: True\n",
                        "not condicion1: False\n"
                    ]
                }
            ],
            "source": [
                "# Ejemplos de operadores lógicos\n",
                "condicion1 = True\n",
                "condicion2 = False\n",
                "\n",
                "print(\"condicion1 and condicion2:\", condicion1 and condicion2)\n",
                "print(\"condicion1 or condicion2:\", condicion1 or condicion2)\n",
                "print(\"not condicion1:\", not condicion1)"
            ]
        },
        {
            "cell_type": "markdown",
            "id": "manipulacion-cadenas",
            "metadata": {},
            "source": [
                "### Manipulación de Cadenas\n",
                "\n",
                "#### Concatenación\n",
                "\n",
                "- Unir cadenas usando el operador `+`.\n"
            ]
        },
        {
            "cell_type": "code",
            "execution_count": 7,
            "id": "concatenacion",
            "metadata": {},
            "outputs": [
                {
                    "name": "stdout",
                    "output_type": "stream",
                    "text": [
                        "Hola, Ana!\n"
                    ]
                }
            ],
            "source": [
                "# Ejemplo de concatenación\n",
                "nombre = \"Ana\"\n",
                "saludo = \"Hola, \" + nombre + \"!\"\n",
                "print(saludo)"
            ]
        },
        {
            "cell_type": "markdown",
            "id": "slicing",
            "metadata": {},
            "source": [
                "#### Slicing (Segmentación)\n",
                "\n",
                "- Acceder a subcadenas usando índices.\n"
            ]
        },
        {
            "cell_type": "code",
            "execution_count": 8,
            "id": "slicing-code",
            "metadata": {},
            "outputs": [
                {
                    "name": "stdout",
                    "output_type": "stream",
                    "text": [
                        "Primer carácter: P\n",
                        "Último carácter: n\n",
                        "Subcadena 'Pyt': Pyt\n"
                    ]
                }
            ],
            "source": [
                "# Ejemplo de slicing\n",
                "texto = \"Python\"\n",
                "print(\"Primer carácter:\", texto[0])\n",
                "print(\"Último carácter:\", texto[-1])\n",
                "print(\"Subcadena 'Pyt':\", texto[0:3])"
            ]
        },
        {
            "cell_type": "markdown",
            "id": "metodos-cadenas",
            "metadata": {},
            "source": [
                "#### Métodos de Cadenas\n",
                "\n",
                "- `upper()`, `lower()`, `replace()`, `find()`, etc.\n"
            ]
        },
        {
            "cell_type": "code",
            "execution_count": 9,
            "id": "metodos-cadenas-code",
            "metadata": {},
            "outputs": [
                {
                    "name": "stdout",
                    "output_type": "stream",
                    "text": [
                        "Mayúsculas: BIENVENIDOS A PYTHON\n",
                        "Minúsculas: bienvenidos a python\n",
                        "Reemplazar: Bienvenidos a la programación\n"
                    ]
                }
            ],
            "source": [
                "# Ejemplos de métodos de cadenas\n",
                "frase = \"Bienvenidos a Python\"\n",
                "print(\"Mayúsculas:\", frase.upper())\n",
                "print(\"Minúsculas:\", frase.lower())\n",
                "print(\"Reemplazar:\", frase.replace(\"Python\", \"la programación\"))"
            ]
        },
        {
            "cell_type": "markdown",
            "id": "ejercicio1",
            "metadata": {},
            "source": [
                "### **Ejercicio Práctico 1**\n",
                "\n",
                "Crea un programa que solicite al usuario su nombre y edad, y luego imprima un mensaje que diga: \"Hola, [nombre]. Tienes [edad] años.\"\n"
            ]
        },
        {
            "cell_type": "code",
            "execution_count": 10,
            "id": "solucion-ejercicio1",
            "metadata": {},
            "outputs": [
                {
                    "name": "stdout",
                    "output_type": "stream",
                    "text": [
                        "Hola, Laura. Tienes 55 años\n"
                    ]
                }
            ],
            "source": [
                "# Solución\n",
                "nombre = input(\"Introduce tu nombre: \")\n",
                "edad = input(\"Introduce tu edad: \")\n",
                "print(f\"Hola, {nombre}. Tienes {edad} años\")\n"
            ]
        },
        {
            "cell_type": "markdown",
            "id": "tema4",
            "metadata": {},
            "source": [
                "---\n",
                "\n",
                "## Estructuras de Control\n",
                "\n",
                "### Sentencias Condicionales\n",
                "\n",
                "#### `if`, `elif`, `else`\n",
                "\n",
                "Permiten ejecutar código basándose en condiciones.\n"
            ]
        },
        {
            "cell_type": "code",
            "execution_count": 11,
            "id": "condicionales",
            "metadata": {},
            "outputs": [
                {
                    "name": "stdout",
                    "output_type": "stream",
                    "text": [
                        "El número es cero.\n"
                    ]
                }
            ],
            "source": [
                "# Ejemplo de sentencia condicional\n",
                "numero = int(input(\"Ingresa un número: \"))\n",
                "\n",
                "if numero > 0:\n",
                "    print(\"El número es positivo.\")\n",
                "elif numero == 0:\n",
                "    print(\"El número es cero.\")\n",
                "else:\n",
                "    print(\"El número es negativo.\")"
            ]
        },
        {
            "cell_type": "markdown",
            "id": "bucles",
            "metadata": {},
            "source": [
                "### Bucles\n",
                "\n",
                "#### Bucle `for`\n",
                "\n",
                "- Itera sobre una secuencia (lista, cadena, rango, etc.).\n"
            ]
        },
        {
            "cell_type": "code",
            "execution_count": 12,
            "id": "bucle-for",
            "metadata": {},
            "outputs": [
                {
                    "name": "stdout",
                    "output_type": "stream",
                    "text": [
                        "Iteración: 0\n",
                        "Iteración: 1\n",
                        "Iteración: 2\n",
                        "Iteración: 3\n",
                        "Iteración: 4\n"
                    ]
                }
            ],
            "source": [
                "# Ejemplo de bucle for\n",
                "for n in range(5):\n",
                "    print(\"Iteración:\", n)"
            ]
        },
        {
            "cell_type": "markdown",
            "id": "bucle-while",
            "metadata": {},
            "source": [
                "#### Bucle `while`\n",
                "\n",
                "- Repite un bloque de código mientras una condición es verdadera.\n"
            ]
        },
        {
            "cell_type": "code",
            "execution_count": 13,
            "id": "bucle-while-code",
            "metadata": {},
            "outputs": [
                {
                    "name": "stdout",
                    "output_type": "stream",
                    "text": [
                        "Contador: 0\n",
                        "Contador: 1\n",
                        "Contador: 2\n",
                        "Contador: 3\n",
                        "Contador: 4\n"
                    ]
                }
            ],
            "source": [
                "# Ejemplo de bucle while\n",
                "contador = 0\n",
                "while contador < 5:\n",
                "    print(\"Contador:\", contador)\n",
                "    contador += 1"
            ]
        },
        {
            "cell_type": "markdown",
            "id": "control-bucles",
            "metadata": {},
            "source": [
                "### Sentencias de Control de Bucles\n",
                "\n",
                "#### `break`\n",
                "\n",
                "- Termina el bucle inmediatamente.\n"
            ]
        },
        {
            "cell_type": "code",
            "execution_count": 14,
            "id": "break-code",
            "metadata": {},
            "outputs": [
                {
                    "name": "stdout",
                    "output_type": "stream",
                    "text": [
                        "0\n",
                        "1\n",
                        "2\n",
                        "3\n",
                        "4\n"
                    ]
                }
            ],
            "source": [
                "# Uso de break\n",
                "for n in range(10):\n",
                "    if n == 5:\n",
                "        break\n",
                "    print(n)"
            ]
        },
        {
            "cell_type": "markdown",
            "id": "continue",
            "metadata": {},
            "source": [
                "#### `continue`\n",
                "\n",
                "- Salta a la siguiente iteración del bucle.\n"
            ]
        },
        {
            "cell_type": "code",
            "execution_count": 15,
            "id": "continue-code",
            "metadata": {},
            "outputs": [
                {
                    "name": "stdout",
                    "output_type": "stream",
                    "text": [
                        "0\n",
                        "1\n",
                        "3\n",
                        "4\n"
                    ]
                }
            ],
            "source": [
                "# Uso de continue\n",
                "for n in range(5):\n",
                "    if n == 2:\n",
                "        continue\n",
                "    print(n)"
            ]
        },
        {
            "cell_type": "markdown",
            "id": "pass",
            "metadata": {},
            "source": [
                "#### `pass`\n",
                "\n",
                "- No hace nada; se usa como marcador de posición.\n"
            ]
        },
        {
            "cell_type": "code",
            "execution_count": 16,
            "id": "pass-code",
            "metadata": {},
            "outputs": [],
            "source": [
                "# Uso de pass\n",
                "if True:\n",
                "    pass  # Implementar más tarde"
            ]
        },
        {
            "cell_type": "markdown",
            "id": "ejercicio2",
            "metadata": {},
            "source": [
                "### **Ejercicio Práctico 2**\n",
                "\n",
                "Escribe un programa que imprima los números del 1 al 50. Para múltiplos de tres, imprime \"Fizz\" en lugar del número, y para múltiplos de cinco, imprime \"Buzz\". Para números que son múltiplos de ambos tres y cinco, imprime \"FizzBuzz\".\n"
            ]
        },
        {
            "cell_type": "code",
            "execution_count": 17,
            "id": "solucion-ejercicio2",
            "metadata": {},
            "outputs": [
                {
                    "name": "stdout",
                    "output_type": "stream",
                    "text": [
                        "1\n",
                        "2\n",
                        "Fizz\n",
                        "4\n",
                        "Buzz\n",
                        "Fizz\n",
                        "7\n",
                        "8\n",
                        "Fizz\n",
                        "Buzz\n",
                        "11\n",
                        "Fizz\n",
                        "13\n",
                        "14\n",
                        "FizzBuzz\n",
                        "16\n",
                        "17\n",
                        "Fizz\n",
                        "19\n",
                        "Buzz\n",
                        "Fizz\n",
                        "22\n",
                        "23\n",
                        "Fizz\n",
                        "Buzz\n",
                        "26\n",
                        "Fizz\n",
                        "28\n",
                        "29\n",
                        "FizzBuzz\n",
                        "31\n",
                        "32\n",
                        "Fizz\n",
                        "34\n",
                        "Buzz\n",
                        "Fizz\n",
                        "37\n",
                        "38\n",
                        "Fizz\n",
                        "Buzz\n",
                        "41\n",
                        "Fizz\n",
                        "43\n",
                        "44\n",
                        "FizzBuzz\n",
                        "46\n",
                        "47\n",
                        "Fizz\n",
                        "49\n",
                        "Buzz\n"
                    ]
                }
            ],
            "source": [
                "# Solución\n",
                "for n in range(1, 51):\n",
                "    if (n % 3 == 0) and (n % 5 == 0):\n",
                "        print(\"FizzBuzz\")\n",
                "    elif n % 3 == 0:\n",
                "        print(\"Fizz\")\n",
                "    elif n % 5 == 0:\n",
                "        print(\"Buzz\")\n",
                "    else:\n",
                "        print(n)"
            ]
        },
        {
            "cell_type": "markdown",
            "id": "tema5",
            "metadata": {},
            "source": [
                "---\n",
                "\n",
                "## Funciones\n",
                "\n",
                "### Definición de Funciones\n",
                "\n",
                "#### Sintaxis de Definición de Funciones\n"
            ]
        },
        {
            "cell_type": "code",
            "execution_count": 18,
            "id": "definicion-funcion",
            "metadata": {},
            "outputs": [],
            "source": [
                "def nombre_de_la_funcion(parametros):\n",
                "    # Cuerpo de la función\n",
                "    return valor_de_retorno"
            ]
        },
        {
            "cell_type": "markdown",
            "id": "llamada-funcion",
            "metadata": {},
            "source": [
                "#### Llamada a Funciones\n"
            ]
        },
        {
            "cell_type": "code",
            "execution_count": 19,
            "id": "llamada-funcion-code",
            "metadata": {},
            "outputs": [
                {
                    "name": "stdout",
                    "output_type": "stream",
                    "text": [
                        "Hola!\n"
                    ]
                }
            ],
            "source": [
                "# Definición\n",
                "def saludar():\n",
                "    print(\"Hola!\")\n",
                "\n",
                "# Llamada\n",
                "saludar()"
            ]
        },
        {
            "cell_type": "markdown",
            "id": "argumentos-funcion",
            "metadata": {},
            "source": [
                "### Argumentos de Función\n",
                "\n",
                "#### Argumentos Posicionales\n",
                "\n",
                "- Se pasan en el orden en que se definen.\n"
            ]
        },
        {
            "cell_type": "code",
            "execution_count": 20,
            "id": "argumentos-posicionales",
            "metadata": {},
            "outputs": [
                {
                    "name": "stdout",
                    "output_type": "stream",
                    "text": [
                        "Suma: 8\n"
                    ]
                }
            ],
            "source": [
                "def sumar(a, b):\n",
                "    return a + b\n",
                "\n",
                "resultado = sumar(5, 3)\n",
                "print(\"Suma:\", resultado)"
            ]
        },
        {
            "cell_type": "markdown",
            "id": "argumentos-nombrados",
            "metadata": {},
            "source": [
                "#### Argumentos Nombrados\n",
                "\n",
                "- Se pasan usando el nombre del parámetro.\n"
            ]
        },
        {
            "cell_type": "code",
            "execution_count": 21,
            "id": "argumentos-nombrados-code",
            "metadata": {},
            "outputs": [
                {
                    "name": "stdout",
                    "output_type": "stream",
                    "text": [
                        "Suma: 8\n"
                    ]
                }
            ],
            "source": [
                "resultado = sumar(b=3, a=5)\n",
                "print(\"Suma:\", resultado)"
            ]
        },
        {
            "cell_type": "markdown",
            "id": "parametros-por-defecto",
            "metadata": {},
            "source": [
                "#### Parámetros por Defecto\n"
            ]
        },
        {
            "cell_type": "code",
            "execution_count": 22,
            "id": "parametros-defecto-code",
            "metadata": {},
            "outputs": [
                {
                    "name": "stdout",
                    "output_type": "stream",
                    "text": [
                        "Hola, amigo!\n",
                        "Hola, Carlos!\n"
                    ]
                }
            ],
            "source": [
                "def saludar(nombre=\"amigo\"):\n",
                "    print(\"Hola, \" + nombre + \"!\")\n",
                "\n",
                "saludar()\n",
                "saludar(\"Carlos\")"
            ]
        },
        {
            "cell_type": "markdown",
            "id": "valores-retorno",
            "metadata": {},
            "source": [
                "### Valores de Retorno\n",
                "\n",
                "- Uso de `return` para devolver valores.\n"
            ]
        },
        {
            "cell_type": "code",
            "execution_count": 23,
            "id": "return-code",
            "metadata": {},
            "outputs": [
                {
                    "name": "stdout",
                    "output_type": "stream",
                    "text": [
                        "Multiplicación: 20\n"
                    ]
                }
            ],
            "source": [
                "def multiplicar(a, b):\n",
                "    return a * b\n",
                "\n",
                "print(\"Multiplicación:\", multiplicar(4, 5))"
            ]
        },
        {
            "cell_type": "markdown",
            "id": "alcance-variables",
            "metadata": {},
            "source": [
                "### Alcance de Variables\n",
                "\n",
                "#### Variables Locales y Globales\n",
                "\n",
                "- **Local**: Definida dentro de una función.\n",
                "- **Global**: Definida fuera de todas las funciones.\n"
            ]
        },
        {
            "cell_type": "code",
            "execution_count": 24,
            "id": "alcance-code",
            "metadata": {},
            "outputs": [
                {
                    "name": "stdout",
                    "output_type": "stream",
                    "text": [
                        "Soy local\n",
                        "Soy global\n",
                        "Soy global\n"
                    ]
                }
            ],
            "source": [
                "variable_global = \"Soy global\"\n",
                "\n",
                "def funcion():\n",
                "    variable_local = \"Soy local\"\n",
                "    print(variable_local)\n",
                "    print(variable_global)\n",
                "\n",
                "funcion()\n",
                "print(variable_global)\n",
                "# print(variable_local)  # Esto causará un error"
            ]
        },
        {
            "cell_type": "markdown",
            "id": "ejercicio3",
            "metadata": {},
            "source": [
                "### **Ejercicio Práctico 3**\n",
                "\n",
                "Crea una función llamada `es_primo(n)` que devuelva `True` si el número es primo y `False` en caso contrario. Luego, utiliza esta función para imprimir todos los números primos entre 1 y 100.\n"
            ]
        },
        {
            "cell_type": "code",
            "execution_count": 25,
            "id": "solucion-ejercicio3",
            "metadata": {},
            "outputs": [
                {
                    "name": "stdout",
                    "output_type": "stream",
                    "text": [
                        "2\n",
                        "3\n",
                        "5\n",
                        "7\n",
                        "11\n",
                        "13\n",
                        "17\n",
                        "19\n",
                        "23\n",
                        "29\n",
                        "31\n",
                        "37\n",
                        "41\n",
                        "43\n",
                        "47\n",
                        "53\n",
                        "59\n",
                        "61\n",
                        "67\n",
                        "71\n",
                        "73\n",
                        "79\n",
                        "83\n",
                        "89\n",
                        "97\n"
                    ]
                }
            ],
            "source": [
                "# Solución\n",
                "def es_primo(n):\n",
                "    if n == 1:\n",
                "        return False\n",
                "    for i in range(2, n):\n",
                "        if n % i == 0:\n",
                "            return False\n",
                "    return True\n",
                "\n",
                "for i in range(1, 100):\n",
                "    if es_primo(i):\n",
                "        print(i)"
            ]
        },
        {
            "cell_type": "markdown",
            "id": "tema6",
            "metadata": {},
            "source": [
                "---\n",
                "\n",
                "## Estructuras de Datos\n",
                "\n",
                "### Listas\n",
                "\n",
                "#### Creación y Acceso\n"
            ]
        },
        {
            "cell_type": "code",
            "execution_count": 26,
            "id": "listas",
            "metadata": {},
            "outputs": [
                {
                    "name": "stdout",
                    "output_type": "stream",
                    "text": [
                        "manzana\n"
                    ]
                }
            ],
            "source": [
                "# Creación de una lista\n",
                "frutas = [\"manzana\", \"banana\", \"cereza\"]\n",
                "print(frutas[0])  # Acceso al primer elemento"
            ]
        },
        {
            "cell_type": "markdown",
            "id": "metodos-lista",
            "metadata": {},
            "source": [
                "#### Métodos de Lista\n",
                "\n",
                "- `append()`, `remove()`, `sort()`, etc.\n"
            ]
        },
        {
            "cell_type": "code",
            "execution_count": 27,
            "id": "metodos-lista-code",
            "metadata": {},
            "outputs": [
                {
                    "name": "stdout",
                    "output_type": "stream",
                    "text": [
                        "['cereza', 'manzana', 'naranja']\n"
                    ]
                }
            ],
            "source": [
                "# Uso de métodos de lista\n",
                "frutas.append(\"naranja\")\n",
                "frutas.remove(\"banana\")\n",
                "frutas.sort()\n",
                "print(frutas)"
            ]
        },
        {
            "cell_type": "markdown",
            "id": "tuplas",
            "metadata": {},
            "source": [
                "### Tuplas\n",
                "\n",
                "#### Secuencias Inmutables\n",
                "\n",
                "- No pueden ser modificadas después de su creación.\n"
            ]
        },
        {
            "cell_type": "code",
            "execution_count": 28,
            "id": "tuplas-code",
            "metadata": {},
            "outputs": [
                {
                    "name": "stdout",
                    "output_type": "stream",
                    "text": [
                        "(1, 2, 3)\n"
                    ]
                }
            ],
            "source": [
                "# Creación de una tupla\n",
                "numeros = (1, 2, 3)\n",
                "print(numeros)\n",
                "# numeros[0] = 10  # Esto causará un error"
            ]
        },
        {
            "cell_type": "markdown",
            "id": "cuando-tuplas",
            "metadata": {},
            "source": [
                "#### Cuándo Usar Tuplas\n",
                "\n",
                "- Cuando se requiere una colección inmutable de elementos.\n"
            ]
        },
        {
            "cell_type": "markdown",
            "id": "diccionarios",
            "metadata": {},
            "source": [
                "### Diccionarios\n",
                "\n",
                "#### Pares Clave-Valor\n"
            ]
        },
        {
            "cell_type": "code",
            "execution_count": 29,
            "id": "diccionarios-code",
            "metadata": {},
            "outputs": [
                {
                    "name": "stdout",
                    "output_type": "stream",
                    "text": [
                        "Ana\n"
                    ]
                }
            ],
            "source": [
                "# Creación de un diccionario\n",
                "estudiante = {\"nombre\": \"Ana\", \"edad\": 21, \"carrera\": \"Ingeniería\"}\n",
                "print(estudiante[\"nombre\"])"
            ]
        },
        {
            "cell_type": "markdown",
            "id": "modificacion-diccionarios",
            "metadata": {},
            "source": [
                "#### Acceso y Modificación\n"
            ]
        },
        {
            "cell_type": "code",
            "execution_count": 30,
            "id": "modificacion-diccionarios-code",
            "metadata": {},
            "outputs": [
                {
                    "name": "stdout",
                    "output_type": "stream",
                    "text": [
                        "{'nombre': 'Ana', 'edad': 22, 'carrera': 'Ingeniería', 'graduado': False}\n"
                    ]
                }
            ],
            "source": [
                "# Modificar valores\n",
                "estudiante[\"edad\"] = 22\n",
                "# Agregar nuevos pares clave-valor\n",
                "estudiante[\"graduado\"] = False\n",
                "print(estudiante)"
            ]
        },
        {
            "cell_type": "markdown",
            "id": "metodos-diccionario",
            "metadata": {},
            "source": [
                "#### Métodos de Diccionario\n",
                "\n",
                "- `keys()`, `values()`, `items()`, etc.\n"
            ]
        },
        {
            "cell_type": "code",
            "execution_count": 31,
            "id": "metodos-diccionario-code",
            "metadata": {},
            "outputs": [
                {
                    "name": "stdout",
                    "output_type": "stream",
                    "text": [
                        "dict_keys(['nombre', 'edad', 'carrera', 'graduado'])\n",
                        "dict_values(['Ana', 22, 'Ingeniería', False])\n",
                        "dict_items([('nombre', 'Ana'), ('edad', 22), ('carrera', 'Ingeniería'), ('graduado', False)])\n"
                    ]
                }
            ],
            "source": [
                "print(estudiante.keys())\n",
                "print(estudiante.values())\n",
                "print(estudiante.items())"
            ]
        },
        {
            "cell_type": "markdown",
            "id": "sets",
            "metadata": {},
            "source": [
                "### Conjuntos (Sets)\n",
                "\n",
                "#### Colecciones No Ordenadas\n",
                "\n",
                "- No permiten elementos duplicados.\n"
            ]
        },
        {
            "cell_type": "code",
            "execution_count": 32,
            "id": "sets-code",
            "metadata": {},
            "outputs": [
                {
                    "name": "stdout",
                    "output_type": "stream",
                    "text": [
                        "{'a', 'b', 'c'}\n"
                    ]
                }
            ],
            "source": [
                "# Creación de un conjunto\n",
                "letras = {'a', 'b', 'c', 'a'}\n",
                "print(letras)  # Salida: {'a', 'b', 'c'}"
            ]
        },
        {
            "cell_type": "markdown",
            "id": "operaciones-sets",
            "metadata": {},
            "source": [
                "#### Operaciones con Conjuntos\n",
                "\n",
                "- Unión (`union`), Intersección (`intersection`), Diferencia (`difference`).\n"
            ]
        },
        {
            "cell_type": "code",
            "execution_count": 33,
            "id": "operaciones-sets-code",
            "metadata": {},
            "outputs": [
                {
                    "name": "stdout",
                    "output_type": "stream",
                    "text": [
                        "Unión: {1, 2, 3, 4, 5}\n",
                        "Intersección: {3}\n",
                        "Diferencia: {1, 2}\n"
                    ]
                }
            ],
            "source": [
                "set1 = {1, 2, 3}\n",
                "set2 = {3, 4, 5}\n",
                "\n",
                "print(\"Unión:\", set1.union(set2))\n",
                "print(\"Intersección:\", set1.intersection(set2))\n",
                "print(\"Diferencia:\", set1.difference(set2))"
            ]
        },
        {
            "cell_type": "markdown",
            "id": "ejercicio4",
            "metadata": {},
            "source": [
                "### **Ejercicio Práctico 4**\n",
                "\n",
                "Crea un programa que cuente la cantidad de veces que aparece cada palabra en una frase ingresada por el usuario.\n"
            ]
        },
        {
            "cell_type": "code",
            "execution_count": 34,
            "id": "solucion-ejercicio4",
            "metadata": {},
            "outputs": [
                {
                    "name": "stdout",
                    "output_type": "stream",
                    "text": [
                        "{'Juan': 2, 'no': 2, 'ha': 2, 'estudiado': 1, 'y': 1, 'aprobado': 1}\n"
                    ]
                }
            ],
            "source": [
                "# Solución\n",
                "frase = input(\"Introduce una frase: \")\n",
                "palabras = frase.split()\n",
                "repeticiones = {}\n",
                "for palabra in palabras:\n",
                "    if palabra in repeticiones:\n",
                "        repeticiones[palabra] += 1\n",
                "    else:\n",
                "        repeticiones[palabra] = 1\n",
                "print(repeticiones)"
            ]
        },
        {
            "cell_type": "markdown",
            "id": "conclusion",
            "metadata": {},
            "source": [
                "---\n",
                "\n"
            ]
        },
        {
            "cell_type": "markdown",
            "id": "95066988",
            "metadata": {},
            "source": []
        }
    ],
    "metadata": {
        "kernelspec": {
            "display_name": "Python 3",
            "language": "python",
            "name": "python3"
        },
        "language_info": {
            "codemirror_mode": {
                "name": "ipython",
                "version": 3
            },
            "file_extension": ".py",
            "mimetype": "text/x-python",
            "name": "python",
            "nbconvert_exporter": "python",
            "pygments_lexer": "ipython3",
            "version": "3.10.12"
        },
        "orig_nbformat": 4
    },
    "nbformat": 4,
    "nbformat_minor": 5
}
