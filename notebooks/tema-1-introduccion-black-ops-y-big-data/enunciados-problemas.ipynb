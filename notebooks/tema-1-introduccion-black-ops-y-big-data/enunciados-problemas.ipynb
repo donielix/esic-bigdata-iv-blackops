{
    "cells": [
        {
            "cell_type": "markdown",
            "metadata": {},
            "source": [
                "# Problema 1: Adivina el número\n",
                "\n",
                "Escribe un programa en Python que:\n",
                "\n",
                "- Genere un número entero aleatorio entre 1 y 100.\n",
                "- Pida al usuario que adivine el número.\n",
                "- Después de cada intento, indique al usuario si el número que ingresó es mayor o menor que el número secreto.\n",
                "- Continúe solicitando intentos hasta que el usuario adivine el número correcto.\n",
                "- Al finalizar, muestre el número de intentos que el usuario necesitó para adivinar el número.\n",
                "\n",
                "*Pista:* Puedes utilizar el módulo `random` para generar números aleatorios, tanto el paquete que viene incluido con Python como el que incorpora `numpy`\n"
            ]
        },
        {
            "cell_type": "code",
            "execution_count": 1,
            "metadata": {},
            "outputs": [],
            "source": [
                "def adivina_numero():\n",
                "    # TODO\n",
                "    pass\n"
            ]
        },
        {
            "cell_type": "markdown",
            "metadata": {},
            "source": [
                "# Problema 2: Simulación de Crecimiento Viral en Redes Sociales\n",
                "\n",
                "\n",
                "Un influencer ha publicado un video en una plataforma de redes sociales. El primer día, el video es visto por 100 personas. Cada día, el número de visualizaciones se duplica porque los espectadores lo comparten con sus amigos.\n",
                "\n",
                "Escribe un programa en Python que calcule en cuántos días el video alcanzará o superará 1 millón de visualizaciones.\n"
            ]
        },
        {
            "cell_type": "code",
            "execution_count": 2,
            "metadata": {},
            "outputs": [],
            "source": [
                "def dias_para_millon_de_visualizaciones() -> int:\n",
                "    # TODO\n",
                "    pass"
            ]
        },
        {
            "cell_type": "code",
            "execution_count": null,
            "metadata": {},
            "outputs": [],
            "source": [
                "assert dias_para_millon_de_visualizaciones() == 14"
            ]
        },
        {
            "cell_type": "markdown",
            "metadata": {},
            "source": [
                "# Problema 3: Gestión de Inventario con Ventas Simuladas\n",
                "\n",
                "Una pequeña empresa quiere simular sus ventas y gestión de inventario. Tienen un producto con un stock inicial de 50 unidades. Cada día, venden un número aleatorio de unidades entre 1 y 10.\n",
                "\n",
                "Escribe una función que simule las ventas diarias y muestre cuántos días pasan hasta que se agote el inventario. Además, muestra el número total de unidades vendidas al final."
            ]
        },
        {
            "cell_type": "code",
            "execution_count": null,
            "metadata": {},
            "outputs": [],
            "source": [
                "def dias_restantes_inventario() -> int:\n",
                "    # TODO\n",
                "    pass"
            ]
        },
        {
            "cell_type": "markdown",
            "metadata": {},
            "source": [
                "Una vez completada esta función, ahora vamos a utilizarla para realizar múltiples experimentos, y así poder realizar mediciones en base a sus resultados.\n",
                "\n",
                "Para ello, escribe una función que calcule el valor esperado de los días que tarda el stock en agotarse, dando también una estimación de su desviación típica."
            ]
        },
        {
            "cell_type": "markdown",
            "metadata": {},
            "source": [
                "*Solucion*: en media, el stock se acaba en aproximadamente 10 días, con una desviación típica de 2 días"
            ]
        },
        {
            "cell_type": "code",
            "execution_count": null,
            "metadata": {},
            "outputs": [],
            "source": []
        }
    ],
    "metadata": {
        "kernelspec": {
            "display_name": ".venv",
            "language": "python",
            "name": "python3"
        },
        "language_info": {
            "codemirror_mode": {
                "name": "ipython",
                "version": 3
            },
            "file_extension": ".py",
            "mimetype": "text/x-python",
            "name": "python",
            "nbconvert_exporter": "python",
            "pygments_lexer": "ipython3",
            "version": "3.10.12"
        }
    },
    "nbformat": 4,
    "nbformat_minor": 2
}
