{
    "cells": [
        {
            "cell_type": "markdown",
            "metadata": {},
            "source": [
                "# Reto 1: Extract Transform Load\n",
                "Página web del reto: [website](http://91.107.217.53/)"
            ]
        },
        {
            "cell_type": "markdown",
            "metadata": {},
            "source": [
                "### Instalación de paquetes necesarios"
            ]
        },
        {
            "cell_type": "code",
            "execution_count": null,
            "metadata": {
                "execution": {
                    "iopub.execute_input": "2024-09-29T21:54:35.407430Z",
                    "iopub.status.busy": "2024-09-29T21:54:35.406544Z",
                    "iopub.status.idle": "2024-09-29T21:55:37.472380Z",
                    "shell.execute_reply": "2024-09-29T21:55:37.471075Z",
                    "shell.execute_reply.started": "2024-09-29T21:54:35.407379Z"
                },
                "trusted": true
            },
            "outputs": [],
            "source": [
                "!pip install git+https://github.com/donielix/esic-bigdata-iv-blackops.git > /dev/null"
            ]
        },
        {
            "cell_type": "markdown",
            "metadata": {},
            "source": [
                "### Importación de paquetes necesarios"
            ]
        },
        {
            "cell_type": "code",
            "execution_count": 2,
            "metadata": {
                "_cell_guid": "b1076dfc-b9ad-4769-8c92-a6c4dae69d19",
                "_uuid": "8f2839f25d086af736a60e9eeb907d3b93b6e0e5",
                "execution": {
                    "iopub.execute_input": "2024-09-29T21:55:37.475090Z",
                    "iopub.status.busy": "2024-09-29T21:55:37.474678Z",
                    "iopub.status.idle": "2024-09-29T21:55:37.657082Z",
                    "shell.execute_reply": "2024-09-29T21:55:37.656012Z",
                    "shell.execute_reply.started": "2024-09-29T21:55:37.475049Z"
                },
                "trusted": true
            },
            "outputs": [],
            "source": [
                "from blackops.utils.catalog import start_spark_session\n",
                "from blackops.utils.io import save_json\n",
                "import requests\n",
                "import pyspark.sql.functions as f\n",
                "from delta import DeltaTable\n"
            ]
        },
        {
            "cell_type": "markdown",
            "metadata": {},
            "source": [
                "### Inicialización de la sesión de Spark"
            ]
        },
        {
            "cell_type": "code",
            "execution_count": null,
            "metadata": {
                "execution": {
                    "iopub.execute_input": "2024-09-29T21:55:37.659132Z",
                    "iopub.status.busy": "2024-09-29T21:55:37.658542Z",
                    "iopub.status.idle": "2024-09-29T21:55:45.546813Z",
                    "shell.execute_reply": "2024-09-29T21:55:45.545445Z",
                    "shell.execute_reply.started": "2024-09-29T21:55:37.659093Z"
                },
                "trusted": true
            },
            "outputs": [],
            "source": [
                "spark = start_spark_session()"
            ]
        },
        {
            "cell_type": "markdown",
            "metadata": {},
            "source": [
                "### Apartado 1 - Extracción y almacenamiento de los datos en crudo\n",
                "En este apartado, debes extraer la información de la API REST (utilizando el módulo `requests`) y guardar el resultado de cada endpoint en un fichero `.json` dentro de la carpeta `data/`. Para ello, puedes hacer uso de la función auxiliar `save_json`. Para mostrar la ayuda (documentación) de una función en Python, puedes incorporar un signo de interrogación (?) al final del objeto; por ejemplo: `save_json?`."
            ]
        },
        {
            "cell_type": "code",
            "execution_count": null,
            "metadata": {},
            "outputs": [],
            "source": []
        },
        {
            "cell_type": "markdown",
            "metadata": {},
            "source": [
                "### Apartado 2 - Lectura y transformación de los ficheros JSON\n",
                "Una vez has almacenado todos los JSON con la información de la API REST en la carpeta correspondiente, debes leer cada uno de los ficheros con `pyspark`, y emplear las transformaciones correspondientes para obtener unas tablas bien estructuradas con todos los campos relevantes"
            ]
        },
        {
            "cell_type": "code",
            "execution_count": null,
            "metadata": {},
            "outputs": [],
            "source": []
        },
        {
            "cell_type": "markdown",
            "metadata": {},
            "source": [
                "### Apartado 3 - Union de todas las tablas\n",
                "Por último, une los campos relevantes de todas las tablas de este modelo de datos, y muestra una tabla el número de incidentes detectados por cada departamento y sistema operativo. Es decir, una tabla como:\n",
                "\n",
                "| departamento | sistema_operativo | n_incidentes |\n",
                "|--------------|-------------------|--------------|\n",
                "|              |                   |              |\n",
                "\n",
                "Finalmente, guarda esta tabla en el catálogo como una tabla de tipo Delta"
            ]
        },
        {
            "cell_type": "markdown",
            "metadata": {},
            "source": []
        }
    ],
    "metadata": {
        "kaggle": {
            "accelerator": "none",
            "dataSources": [],
            "isGpuEnabled": false,
            "isInternetEnabled": true,
            "language": "python",
            "sourceType": "notebook"
        },
        "kernelspec": {
            "display_name": "Python 3",
            "language": "python",
            "name": "python3"
        },
        "language_info": {
            "codemirror_mode": {
                "name": "ipython",
                "version": 3
            },
            "file_extension": ".py",
            "mimetype": "text/x-python",
            "name": "python",
            "nbconvert_exporter": "python",
            "pygments_lexer": "ipython3",
            "version": "3.10.12"
        }
    },
    "nbformat": 4,
    "nbformat_minor": 4
}
