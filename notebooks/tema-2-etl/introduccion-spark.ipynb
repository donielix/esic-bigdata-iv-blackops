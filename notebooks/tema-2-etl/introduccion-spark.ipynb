{
    "cells": [
        {
            "cell_type": "markdown",
            "metadata": {},
            "source": [
                "# Importación de módulos requeridos"
            ]
        },
        {
            "cell_type": "code",
            "execution_count": 1,
            "metadata": {},
            "outputs": [],
            "source": [
                "from pyspark.sql import SparkSession, functions as f\n",
                "from blackops.crawlers.wallapop.functions import fetch_api\n",
                "import json\n",
                "from datetime import date, timedelta\n",
                "import random"
            ]
        },
        {
            "cell_type": "code",
            "execution_count": 2,
            "metadata": {},
            "outputs": [],
            "source": [
                "random.seed(42)"
            ]
        },
        {
            "cell_type": "markdown",
            "metadata": {},
            "source": [
                "# Inicialización de la sesión de Spark\n",
                "\n",
                "En este caso no estamos utilizando un clúster, sino que haremos uso de una arquitectura local. El propio Jupyter Notebook ejercerá como Driver, como Master y como Ejecutor de las tareas.\n",
                "\n",
                "Adicionalmente, estamos instalando dependencias externas como la librería Delta, que incorpora utilidades muy importantes para el manejo de las tablas en nuestro catálogo de datos"
            ]
        },
        {
            "cell_type": "code",
            "execution_count": 3,
            "metadata": {},
            "outputs": [
                {
                    "name": "stderr",
                    "output_type": "stream",
                    "text": [
                        "24/09/25 18:28:15 WARN Utils: Your hostname, dadiego resolves to a loopback address: 127.0.1.1; using 192.168.199.128 instead (on interface eth1)\n",
                        "24/09/25 18:28:15 WARN Utils: Set SPARK_LOCAL_IP if you need to bind to another address\n"
                    ]
                },
                {
                    "name": "stdout",
                    "output_type": "stream",
                    "text": [
                        ":: loading settings :: url = jar:file:/home/dadiego/projects/esic-bigdata-iv-blackops/.venv/lib/python3.10/site-packages/pyspark/jars/ivy-2.5.1.jar!/org/apache/ivy/core/settings/ivysettings.xml\n"
                    ]
                },
                {
                    "name": "stderr",
                    "output_type": "stream",
                    "text": [
                        "Ivy Default Cache set to: /home/dadiego/.ivy2/cache\n",
                        "The jars for the packages stored in: /home/dadiego/.ivy2/jars\n",
                        "io.delta#delta-spark_2.12 added as a dependency\n",
                        ":: resolving dependencies :: org.apache.spark#spark-submit-parent-a2bfb13e-15fa-4c73-b7bb-ed0ddb58e310;1.0\n",
                        "\tconfs: [default]\n",
                        "\tfound io.delta#delta-spark_2.12;3.2.0 in central\n",
                        "\tfound io.delta#delta-storage;3.2.0 in central\n",
                        "\tfound org.antlr#antlr4-runtime;4.9.3 in central\n",
                        ":: resolution report :: resolve 164ms :: artifacts dl 15ms\n",
                        "\t:: modules in use:\n",
                        "\tio.delta#delta-spark_2.12;3.2.0 from central in [default]\n",
                        "\tio.delta#delta-storage;3.2.0 from central in [default]\n",
                        "\torg.antlr#antlr4-runtime;4.9.3 from central in [default]\n",
                        "\t---------------------------------------------------------------------\n",
                        "\t|                  |            modules            ||   artifacts   |\n",
                        "\t|       conf       | number| search|dwnlded|evicted|| number|dwnlded|\n",
                        "\t---------------------------------------------------------------------\n",
                        "\t|      default     |   3   |   0   |   0   |   0   ||   3   |   0   |\n",
                        "\t---------------------------------------------------------------------\n",
                        ":: retrieving :: org.apache.spark#spark-submit-parent-a2bfb13e-15fa-4c73-b7bb-ed0ddb58e310\n",
                        "\tconfs: [default]\n",
                        "\t0 artifacts copied, 3 already retrieved (0kB/22ms)\n",
                        "24/09/25 18:28:15 WARN NativeCodeLoader: Unable to load native-hadoop library for your platform... using builtin-java classes where applicable\n",
                        "Setting default log level to \"WARN\".\n",
                        "To adjust logging level use sc.setLogLevel(newLevel). For SparkR, use setLogLevel(newLevel).\n"
                    ]
                }
            ],
            "source": [
                "spark = (\n",
                "    SparkSession.Builder()\n",
                "    .master(\"local[*]\")\n",
                "    .config(\n",
                "        map={\n",
                "            \"spark.driver.memory\": \"8g\",\n",
                "            \"spark.jars.packages\": \"io.delta:delta-spark_2.12:3.2.0\",\n",
                "            \"spark.sql.repl.eagerEval.enabled\": \"true\",\n",
                "            \"spark.sql.extensions\": \"io.delta.sql.DeltaSparkSessionExtension\",\n",
                "            \"spark.sql.catalog.spark_catalog\": \"org.apache.spark.sql.delta.catalog.DeltaCatalog\",\n",
                "            \"spark.sql.catalogImplementation\": \"hive\",\n",
                "        }\n",
                "    )\n",
                "    .getOrCreate()\n",
                ")"
            ]
        },
        {
            "cell_type": "markdown",
            "metadata": {},
            "source": [
                "# Creación de un DataFrame de Spark\n",
                "\n",
                "En Spark podemos crear directamente un Dataframe a partir de una lista de datos, o bien de un Dataframe de pandas. Para ello se puede utilizar el método `spark.createDataFrame`."
            ]
        },
        {
            "cell_type": "code",
            "execution_count": 4,
            "metadata": {},
            "outputs": [
                {
                    "name": "stderr",
                    "output_type": "stream",
                    "text": [
                        "                                                                                \r"
                    ]
                },
                {
                    "data": {
                        "text/html": [
                            "<table border='1'>\n",
                            "<tr><th>id</th><th>nombre</th><th>edad</th><th>salario</th><th>es_empleado</th><th>fecha_contratacion</th><th>departamento</th></tr>\n",
                            "<tr><td>1</td><td>Mar&iacute;a</td><td>23</td><td>64493.03</td><td>true</td><td>2022-04-01</td><td>Marketing</td></tr>\n",
                            "<tr><td>2</td><td>Mar&iacute;a</td><td>56</td><td>25216.33</td><td>false</td><td>2024-05-24</td><td>Ventas</td></tr>\n",
                            "<tr><td>3</td><td>Mar&iacute;a</td><td>35</td><td>33959.65</td><td>true</td><td>2018-06-17</td><td>Marketing</td></tr>\n",
                            "<tr><td>4</td><td>David</td><td>48</td><td>33226.44</td><td>false</td><td>2015-09-04</td><td>Ventas</td></tr>\n",
                            "<tr><td>5</td><td>Pedro</td><td>49</td><td>40415.03</td><td>true</td><td>2022-05-04</td><td>Finanzas</td></tr>\n",
                            "<tr><td>6</td><td>Mar&iacute;a</td><td>27</td><td>42795.64</td><td>false</td><td>2015-04-01</td><td>Finanzas</td></tr>\n",
                            "<tr><td>7</td><td>Laura</td><td>38</td><td>68427.7</td><td>false</td><td>2018-09-27</td><td>Ventas</td></tr>\n",
                            "<tr><td>8</td><td>Miguel</td><td>27</td><td>53122.44</td><td>false</td><td>2018-04-12</td><td>Marketing</td></tr>\n",
                            "<tr><td>9</td><td>Mar&iacute;a</td><td>24</td><td>59675.8</td><td>false</td><td>2023-11-10</td><td>Marketing</td></tr>\n",
                            "<tr><td>10</td><td>Mar&iacute;a</td><td>46</td><td>36678.42</td><td>false</td><td>2022-12-05</td><td>Finanzas</td></tr>\n",
                            "<tr><td>11</td><td>Carla</td><td>35</td><td>60210.51</td><td>true</td><td>2017-12-02</td><td>Marketing</td></tr>\n",
                            "<tr><td>12</td><td>David</td><td>37</td><td>29804.15</td><td>false</td><td>2021-09-22</td><td>RRHH</td></tr>\n",
                            "<tr><td>13</td><td>Ana</td><td>42</td><td>70571.12</td><td>true</td><td>2022-03-08</td><td>Ventas</td></tr>\n",
                            "<tr><td>14</td><td>Carla</td><td>47</td><td>36064.45</td><td>true</td><td>2018-05-23</td><td>Finanzas</td></tr>\n",
                            "<tr><td>15</td><td>Ana</td><td>53</td><td>43737.91</td><td>false</td><td>2023-02-24</td><td>Finanzas</td></tr>\n",
                            "<tr><td>16</td><td>Pedro</td><td>37</td><td>64699.34</td><td>false</td><td>2016-05-17</td><td>RRHH</td></tr>\n",
                            "<tr><td>17</td><td>Miguel</td><td>59</td><td>43964.03</td><td>true</td><td>2023-03-15</td><td>RRHH</td></tr>\n",
                            "<tr><td>18</td><td>Sara</td><td>27</td><td>65346.93</td><td>true</td><td>2023-01-14</td><td>Marketing</td></tr>\n",
                            "<tr><td>19</td><td>Miguel</td><td>60</td><td>23811.66</td><td>false</td><td>2018-01-26</td><td>IT</td></tr>\n",
                            "<tr><td>20</td><td>David</td><td>38</td><td>78264.7</td><td>true</td><td>2017-02-14</td><td>Ventas</td></tr>\n",
                            "</table>\n"
                        ],
                        "text/plain": [
                            "+---+------+----+--------+-----------+------------------+------------+\n",
                            "| id|nombre|edad| salario|es_empleado|fecha_contratacion|departamento|\n",
                            "+---+------+----+--------+-----------+------------------+------------+\n",
                            "|  1| María|  23|64493.03|       true|        2022-04-01|   Marketing|\n",
                            "|  2| María|  56|25216.33|      false|        2024-05-24|      Ventas|\n",
                            "|  3| María|  35|33959.65|       true|        2018-06-17|   Marketing|\n",
                            "|  4| David|  48|33226.44|      false|        2015-09-04|      Ventas|\n",
                            "|  5| Pedro|  49|40415.03|       true|        2022-05-04|    Finanzas|\n",
                            "|  6| María|  27|42795.64|      false|        2015-04-01|    Finanzas|\n",
                            "|  7| Laura|  38| 68427.7|      false|        2018-09-27|      Ventas|\n",
                            "|  8|Miguel|  27|53122.44|      false|        2018-04-12|   Marketing|\n",
                            "|  9| María|  24| 59675.8|      false|        2023-11-10|   Marketing|\n",
                            "| 10| María|  46|36678.42|      false|        2022-12-05|    Finanzas|\n",
                            "| 11| Carla|  35|60210.51|       true|        2017-12-02|   Marketing|\n",
                            "| 12| David|  37|29804.15|      false|        2021-09-22|        RRHH|\n",
                            "| 13|   Ana|  42|70571.12|       true|        2022-03-08|      Ventas|\n",
                            "| 14| Carla|  47|36064.45|       true|        2018-05-23|    Finanzas|\n",
                            "| 15|   Ana|  53|43737.91|      false|        2023-02-24|    Finanzas|\n",
                            "| 16| Pedro|  37|64699.34|      false|        2016-05-17|        RRHH|\n",
                            "| 17|Miguel|  59|43964.03|       true|        2023-03-15|        RRHH|\n",
                            "| 18|  Sara|  27|65346.93|       true|        2023-01-14|   Marketing|\n",
                            "| 19|Miguel|  60|23811.66|      false|        2018-01-26|          IT|\n",
                            "| 20| David|  38| 78264.7|       true|        2017-02-14|      Ventas|\n",
                            "+---+------+----+--------+-----------+------------------+------------+"
                        ]
                    },
                    "metadata": {},
                    "output_type": "display_data"
                }
            ],
            "source": [
                "# Podemos especificar el esquema del DataFrame usando una cadena de texto\n",
                "schema = \"id INT, nombre STRING, edad INT, salario FLOAT, es_empleado BOOLEAN, fecha_contratacion DATE, departamento STRING\"\n",
                "\n",
                "# Crear una lista de datos ficticios\n",
                "nombres = [\n",
                "    \"Juan\",\n",
                "    \"María\",\n",
                "    \"Pedro\",\n",
                "    \"Ana\",\n",
                "    \"Luis\",\n",
                "    \"Carla\",\n",
                "    \"Miguel\",\n",
                "    \"Sara\",\n",
                "    \"David\",\n",
                "    \"Laura\",\n",
                "]\n",
                "departamentos = [\"Ventas\", \"Marketing\", \"Finanzas\", \"IT\", \"RRHH\"]\n",
                "\n",
                "data = [\n",
                "    (\n",
                "        i,  # id\n",
                "        random.choice(nombres),  # nombre\n",
                "        random.randint(22, 60),  # edad\n",
                "        round(random.uniform(20000, 80000), 2),  # salario\n",
                "        random.choice([True, False]),  # es_empleado\n",
                "        date(2024, 10, 1)\n",
                "        - timedelta(days=random.randint(0, 3650)),  # fecha_contratacion\n",
                "        random.choice(departamentos),  # departamento\n",
                "    )\n",
                "    for i in range(1, 21)  # Genera 20 registros\n",
                "]\n",
                "\n",
                "# Crear el DataFrame usando el esquema en string\n",
                "df = spark.createDataFrame(data, schema)\n",
                "\n",
                "display(df)"
            ]
        },
        {
            "cell_type": "markdown",
            "metadata": {},
            "source": [
                "# Operaciones de transformación\n",
                "\n",
                "La sintaxis de Spark es muy similar a la del lenguaje SQL, de hecho, admite la introducción de comandos SQL para realizar las transformaciones de los datos.\n",
                "\n",
                "### Select\n",
                "\n",
                "La operación más sencilla consiste en seleccionar un subconjunto de los datos"
            ]
        },
        {
            "cell_type": "code",
            "execution_count": 5,
            "metadata": {},
            "outputs": [
                {
                    "data": {
                        "text/html": [
                            "<table border='1'>\n",
                            "<tr><th>id</th><th>nombre</th></tr>\n",
                            "<tr><td>1</td><td>Mar&iacute;a</td></tr>\n",
                            "<tr><td>2</td><td>Mar&iacute;a</td></tr>\n",
                            "<tr><td>3</td><td>Mar&iacute;a</td></tr>\n",
                            "<tr><td>4</td><td>David</td></tr>\n",
                            "<tr><td>5</td><td>Pedro</td></tr>\n",
                            "<tr><td>6</td><td>Mar&iacute;a</td></tr>\n",
                            "<tr><td>7</td><td>Laura</td></tr>\n",
                            "<tr><td>8</td><td>Miguel</td></tr>\n",
                            "<tr><td>9</td><td>Mar&iacute;a</td></tr>\n",
                            "<tr><td>10</td><td>Mar&iacute;a</td></tr>\n",
                            "<tr><td>11</td><td>Carla</td></tr>\n",
                            "<tr><td>12</td><td>David</td></tr>\n",
                            "<tr><td>13</td><td>Ana</td></tr>\n",
                            "<tr><td>14</td><td>Carla</td></tr>\n",
                            "<tr><td>15</td><td>Ana</td></tr>\n",
                            "<tr><td>16</td><td>Pedro</td></tr>\n",
                            "<tr><td>17</td><td>Miguel</td></tr>\n",
                            "<tr><td>18</td><td>Sara</td></tr>\n",
                            "<tr><td>19</td><td>Miguel</td></tr>\n",
                            "<tr><td>20</td><td>David</td></tr>\n",
                            "</table>\n"
                        ],
                        "text/plain": [
                            "+---+------+\n",
                            "| id|nombre|\n",
                            "+---+------+\n",
                            "|  1| María|\n",
                            "|  2| María|\n",
                            "|  3| María|\n",
                            "|  4| David|\n",
                            "|  5| Pedro|\n",
                            "|  6| María|\n",
                            "|  7| Laura|\n",
                            "|  8|Miguel|\n",
                            "|  9| María|\n",
                            "| 10| María|\n",
                            "| 11| Carla|\n",
                            "| 12| David|\n",
                            "| 13|   Ana|\n",
                            "| 14| Carla|\n",
                            "| 15|   Ana|\n",
                            "| 16| Pedro|\n",
                            "| 17|Miguel|\n",
                            "| 18|  Sara|\n",
                            "| 19|Miguel|\n",
                            "| 20| David|\n",
                            "+---+------+"
                        ]
                    },
                    "execution_count": 5,
                    "metadata": {},
                    "output_type": "execute_result"
                }
            ],
            "source": [
                "df.select(\"id\", \"nombre\")"
            ]
        },
        {
            "cell_type": "markdown",
            "metadata": {},
            "source": [
                "Al igual que en SQL estándar, podemos no solo seleccionar unas columnas sino aplicarles alguna función sencilla dentro del propio comando SELECT, y renombrarlas utilizando un alias"
            ]
        },
        {
            "cell_type": "code",
            "execution_count": 6,
            "metadata": {},
            "outputs": [
                {
                    "data": {
                        "text/html": [
                            "<table border='1'>\n",
                            "<tr><th>id</th><th>nombre_en_mayusculas</th></tr>\n",
                            "<tr><td>1</td><td>MAR&Iacute;A</td></tr>\n",
                            "<tr><td>2</td><td>MAR&Iacute;A</td></tr>\n",
                            "<tr><td>3</td><td>MAR&Iacute;A</td></tr>\n",
                            "<tr><td>4</td><td>DAVID</td></tr>\n",
                            "<tr><td>5</td><td>PEDRO</td></tr>\n",
                            "<tr><td>6</td><td>MAR&Iacute;A</td></tr>\n",
                            "<tr><td>7</td><td>LAURA</td></tr>\n",
                            "<tr><td>8</td><td>MIGUEL</td></tr>\n",
                            "<tr><td>9</td><td>MAR&Iacute;A</td></tr>\n",
                            "<tr><td>10</td><td>MAR&Iacute;A</td></tr>\n",
                            "<tr><td>11</td><td>CARLA</td></tr>\n",
                            "<tr><td>12</td><td>DAVID</td></tr>\n",
                            "<tr><td>13</td><td>ANA</td></tr>\n",
                            "<tr><td>14</td><td>CARLA</td></tr>\n",
                            "<tr><td>15</td><td>ANA</td></tr>\n",
                            "<tr><td>16</td><td>PEDRO</td></tr>\n",
                            "<tr><td>17</td><td>MIGUEL</td></tr>\n",
                            "<tr><td>18</td><td>SARA</td></tr>\n",
                            "<tr><td>19</td><td>MIGUEL</td></tr>\n",
                            "<tr><td>20</td><td>DAVID</td></tr>\n",
                            "</table>\n"
                        ],
                        "text/plain": [
                            "+---+--------------------+\n",
                            "| id|nombre_en_mayusculas|\n",
                            "+---+--------------------+\n",
                            "|  1|               MARÍA|\n",
                            "|  2|               MARÍA|\n",
                            "|  3|               MARÍA|\n",
                            "|  4|               DAVID|\n",
                            "|  5|               PEDRO|\n",
                            "|  6|               MARÍA|\n",
                            "|  7|               LAURA|\n",
                            "|  8|              MIGUEL|\n",
                            "|  9|               MARÍA|\n",
                            "| 10|               MARÍA|\n",
                            "| 11|               CARLA|\n",
                            "| 12|               DAVID|\n",
                            "| 13|                 ANA|\n",
                            "| 14|               CARLA|\n",
                            "| 15|                 ANA|\n",
                            "| 16|               PEDRO|\n",
                            "| 17|              MIGUEL|\n",
                            "| 18|                SARA|\n",
                            "| 19|              MIGUEL|\n",
                            "| 20|               DAVID|\n",
                            "+---+--------------------+"
                        ]
                    },
                    "execution_count": 6,
                    "metadata": {},
                    "output_type": "execute_result"
                }
            ],
            "source": [
                "df.select(\"id\", f.upper(\"nombre\").alias(\"nombre_en_mayusculas\"))"
            ]
        },
        {
            "cell_type": "markdown",
            "metadata": {},
            "source": [
                "### WithColumn\n",
                "\n",
                "Podemos añadir campos nuevos derivados utilizando el método `withColumn`"
            ]
        },
        {
            "cell_type": "code",
            "execution_count": 7,
            "metadata": {},
            "outputs": [
                {
                    "data": {
                        "text/html": [
                            "<table border='1'>\n",
                            "<tr><th>id</th><th>nombre</th><th>edad</th><th>salario</th><th>es_empleado</th><th>fecha_contratacion</th><th>departamento</th><th>a&ntilde;o_nacimiento</th></tr>\n",
                            "<tr><td>1</td><td>Mar&iacute;a</td><td>23</td><td>64493.03</td><td>true</td><td>2022-04-01</td><td>Marketing</td><td>2001</td></tr>\n",
                            "<tr><td>2</td><td>Mar&iacute;a</td><td>56</td><td>25216.33</td><td>false</td><td>2024-05-24</td><td>Ventas</td><td>1968</td></tr>\n",
                            "<tr><td>3</td><td>Mar&iacute;a</td><td>35</td><td>33959.65</td><td>true</td><td>2018-06-17</td><td>Marketing</td><td>1989</td></tr>\n",
                            "<tr><td>4</td><td>David</td><td>48</td><td>33226.44</td><td>false</td><td>2015-09-04</td><td>Ventas</td><td>1976</td></tr>\n",
                            "<tr><td>5</td><td>Pedro</td><td>49</td><td>40415.03</td><td>true</td><td>2022-05-04</td><td>Finanzas</td><td>1975</td></tr>\n",
                            "<tr><td>6</td><td>Mar&iacute;a</td><td>27</td><td>42795.64</td><td>false</td><td>2015-04-01</td><td>Finanzas</td><td>1997</td></tr>\n",
                            "<tr><td>7</td><td>Laura</td><td>38</td><td>68427.7</td><td>false</td><td>2018-09-27</td><td>Ventas</td><td>1986</td></tr>\n",
                            "<tr><td>8</td><td>Miguel</td><td>27</td><td>53122.44</td><td>false</td><td>2018-04-12</td><td>Marketing</td><td>1997</td></tr>\n",
                            "<tr><td>9</td><td>Mar&iacute;a</td><td>24</td><td>59675.8</td><td>false</td><td>2023-11-10</td><td>Marketing</td><td>2000</td></tr>\n",
                            "<tr><td>10</td><td>Mar&iacute;a</td><td>46</td><td>36678.42</td><td>false</td><td>2022-12-05</td><td>Finanzas</td><td>1978</td></tr>\n",
                            "<tr><td>11</td><td>Carla</td><td>35</td><td>60210.51</td><td>true</td><td>2017-12-02</td><td>Marketing</td><td>1989</td></tr>\n",
                            "<tr><td>12</td><td>David</td><td>37</td><td>29804.15</td><td>false</td><td>2021-09-22</td><td>RRHH</td><td>1987</td></tr>\n",
                            "<tr><td>13</td><td>Ana</td><td>42</td><td>70571.12</td><td>true</td><td>2022-03-08</td><td>Ventas</td><td>1982</td></tr>\n",
                            "<tr><td>14</td><td>Carla</td><td>47</td><td>36064.45</td><td>true</td><td>2018-05-23</td><td>Finanzas</td><td>1977</td></tr>\n",
                            "<tr><td>15</td><td>Ana</td><td>53</td><td>43737.91</td><td>false</td><td>2023-02-24</td><td>Finanzas</td><td>1971</td></tr>\n",
                            "<tr><td>16</td><td>Pedro</td><td>37</td><td>64699.34</td><td>false</td><td>2016-05-17</td><td>RRHH</td><td>1987</td></tr>\n",
                            "<tr><td>17</td><td>Miguel</td><td>59</td><td>43964.03</td><td>true</td><td>2023-03-15</td><td>RRHH</td><td>1965</td></tr>\n",
                            "<tr><td>18</td><td>Sara</td><td>27</td><td>65346.93</td><td>true</td><td>2023-01-14</td><td>Marketing</td><td>1997</td></tr>\n",
                            "<tr><td>19</td><td>Miguel</td><td>60</td><td>23811.66</td><td>false</td><td>2018-01-26</td><td>IT</td><td>1964</td></tr>\n",
                            "<tr><td>20</td><td>David</td><td>38</td><td>78264.7</td><td>true</td><td>2017-02-14</td><td>Ventas</td><td>1986</td></tr>\n",
                            "</table>\n"
                        ],
                        "text/plain": [
                            "+---+------+----+--------+-----------+------------------+------------+--------------+\n",
                            "| id|nombre|edad| salario|es_empleado|fecha_contratacion|departamento|año_nacimiento|\n",
                            "+---+------+----+--------+-----------+------------------+------------+--------------+\n",
                            "|  1| María|  23|64493.03|       true|        2022-04-01|   Marketing|          2001|\n",
                            "|  2| María|  56|25216.33|      false|        2024-05-24|      Ventas|          1968|\n",
                            "|  3| María|  35|33959.65|       true|        2018-06-17|   Marketing|          1989|\n",
                            "|  4| David|  48|33226.44|      false|        2015-09-04|      Ventas|          1976|\n",
                            "|  5| Pedro|  49|40415.03|       true|        2022-05-04|    Finanzas|          1975|\n",
                            "|  6| María|  27|42795.64|      false|        2015-04-01|    Finanzas|          1997|\n",
                            "|  7| Laura|  38| 68427.7|      false|        2018-09-27|      Ventas|          1986|\n",
                            "|  8|Miguel|  27|53122.44|      false|        2018-04-12|   Marketing|          1997|\n",
                            "|  9| María|  24| 59675.8|      false|        2023-11-10|   Marketing|          2000|\n",
                            "| 10| María|  46|36678.42|      false|        2022-12-05|    Finanzas|          1978|\n",
                            "| 11| Carla|  35|60210.51|       true|        2017-12-02|   Marketing|          1989|\n",
                            "| 12| David|  37|29804.15|      false|        2021-09-22|        RRHH|          1987|\n",
                            "| 13|   Ana|  42|70571.12|       true|        2022-03-08|      Ventas|          1982|\n",
                            "| 14| Carla|  47|36064.45|       true|        2018-05-23|    Finanzas|          1977|\n",
                            "| 15|   Ana|  53|43737.91|      false|        2023-02-24|    Finanzas|          1971|\n",
                            "| 16| Pedro|  37|64699.34|      false|        2016-05-17|        RRHH|          1987|\n",
                            "| 17|Miguel|  59|43964.03|       true|        2023-03-15|        RRHH|          1965|\n",
                            "| 18|  Sara|  27|65346.93|       true|        2023-01-14|   Marketing|          1997|\n",
                            "| 19|Miguel|  60|23811.66|      false|        2018-01-26|          IT|          1964|\n",
                            "| 20| David|  38| 78264.7|       true|        2017-02-14|      Ventas|          1986|\n",
                            "+---+------+----+--------+-----------+------------------+------------+--------------+"
                        ]
                    },
                    "execution_count": 7,
                    "metadata": {},
                    "output_type": "execute_result"
                }
            ],
            "source": [
                "df.withColumn(\"año_nacimiento\", f.year(f.current_date()) - f.col(\"edad\"))"
            ]
        },
        {
            "cell_type": "markdown",
            "metadata": {},
            "source": [
                "### Filter\n",
                "\n",
                "Podemos filtrar los datos de acuerdo a alguna condición especificada. Por ejemplo, queremos obtener únicamente los datos de los empleados"
            ]
        },
        {
            "cell_type": "code",
            "execution_count": 10,
            "metadata": {},
            "outputs": [
                {
                    "data": {
                        "text/html": [
                            "<table border='1'>\n",
                            "<tr><th>id</th><th>nombre</th><th>edad</th><th>salario</th><th>es_empleado</th><th>fecha_contratacion</th><th>departamento</th></tr>\n",
                            "<tr><td>1</td><td>Mar&iacute;a</td><td>23</td><td>64493.03</td><td>true</td><td>2022-04-01</td><td>Marketing</td></tr>\n",
                            "<tr><td>3</td><td>Mar&iacute;a</td><td>35</td><td>33959.65</td><td>true</td><td>2018-06-17</td><td>Marketing</td></tr>\n",
                            "<tr><td>5</td><td>Pedro</td><td>49</td><td>40415.03</td><td>true</td><td>2022-05-04</td><td>Finanzas</td></tr>\n",
                            "<tr><td>11</td><td>Carla</td><td>35</td><td>60210.51</td><td>true</td><td>2017-12-02</td><td>Marketing</td></tr>\n",
                            "<tr><td>13</td><td>Ana</td><td>42</td><td>70571.12</td><td>true</td><td>2022-03-08</td><td>Ventas</td></tr>\n",
                            "<tr><td>14</td><td>Carla</td><td>47</td><td>36064.45</td><td>true</td><td>2018-05-23</td><td>Finanzas</td></tr>\n",
                            "<tr><td>17</td><td>Miguel</td><td>59</td><td>43964.03</td><td>true</td><td>2023-03-15</td><td>RRHH</td></tr>\n",
                            "<tr><td>18</td><td>Sara</td><td>27</td><td>65346.93</td><td>true</td><td>2023-01-14</td><td>Marketing</td></tr>\n",
                            "<tr><td>20</td><td>David</td><td>38</td><td>78264.7</td><td>true</td><td>2017-02-14</td><td>Ventas</td></tr>\n",
                            "</table>\n"
                        ],
                        "text/plain": [
                            "+---+------+----+--------+-----------+------------------+------------+\n",
                            "| id|nombre|edad| salario|es_empleado|fecha_contratacion|departamento|\n",
                            "+---+------+----+--------+-----------+------------------+------------+\n",
                            "|  1| María|  23|64493.03|       true|        2022-04-01|   Marketing|\n",
                            "|  3| María|  35|33959.65|       true|        2018-06-17|   Marketing|\n",
                            "|  5| Pedro|  49|40415.03|       true|        2022-05-04|    Finanzas|\n",
                            "| 11| Carla|  35|60210.51|       true|        2017-12-02|   Marketing|\n",
                            "| 13|   Ana|  42|70571.12|       true|        2022-03-08|      Ventas|\n",
                            "| 14| Carla|  47|36064.45|       true|        2018-05-23|    Finanzas|\n",
                            "| 17|Miguel|  59|43964.03|       true|        2023-03-15|        RRHH|\n",
                            "| 18|  Sara|  27|65346.93|       true|        2023-01-14|   Marketing|\n",
                            "| 20| David|  38| 78264.7|       true|        2017-02-14|      Ventas|\n",
                            "+---+------+----+--------+-----------+------------------+------------+"
                        ]
                    },
                    "execution_count": 10,
                    "metadata": {},
                    "output_type": "execute_result"
                }
            ],
            "source": [
                "df.filter(f.col(\"es_empleado\") == True)"
            ]
        },
        {
            "cell_type": "markdown",
            "metadata": {},
            "source": [
                "### Agrupaciones\n",
                "\n",
                "Utilizando el comando group by, poodemos agrupar nuestro dataset según los valores de una o varias columnas y posteriormente realizar una operación de agregación sobre cada conjunto, para así obtener estadísticas descriptivas de nuestros datos.\n",
                "\n",
                "Por ejemplo, podemos obtener el número de empleados en marketing "
            ]
        },
        {
            "cell_type": "code",
            "execution_count": 13,
            "metadata": {},
            "outputs": [
                {
                    "data": {
                        "text/html": [
                            "<table border='1'>\n",
                            "<tr><th>departamento</th><th>salario_total</th></tr>\n",
                            "<tr><td>Finanzas</td><td>199691.453125</td></tr>\n",
                            "<tr><td>Ventas</td><td>275706.294921875</td></tr>\n",
                            "<tr><td>Marketing</td><td>336808.36328125</td></tr>\n",
                            "<tr><td>RRHH</td><td>138467.521484375</td></tr>\n",
                            "<tr><td>IT</td><td>23811.66015625</td></tr>\n",
                            "</table>\n"
                        ],
                        "text/plain": [
                            "+------------+----------------+\n",
                            "|departamento|   salario_total|\n",
                            "+------------+----------------+\n",
                            "|    Finanzas|   199691.453125|\n",
                            "|      Ventas|275706.294921875|\n",
                            "|   Marketing| 336808.36328125|\n",
                            "|        RRHH|138467.521484375|\n",
                            "|          IT|  23811.66015625|\n",
                            "+------------+----------------+"
                        ]
                    },
                    "execution_count": 13,
                    "metadata": {},
                    "output_type": "execute_result"
                }
            ],
            "source": [
                "df.groupBy(\"departamento\").agg(f.sum(\"salario\").alias(\"salario_total\"))"
            ]
        },
        {
            "cell_type": "code",
            "execution_count": null,
            "metadata": {},
            "outputs": [],
            "source": []
        }
    ],
    "metadata": {
        "kernelspec": {
            "display_name": ".venv",
            "language": "python",
            "name": "python3"
        },
        "language_info": {
            "codemirror_mode": {
                "name": "ipython",
                "version": 3
            },
            "file_extension": ".py",
            "mimetype": "text/x-python",
            "name": "python",
            "nbconvert_exporter": "python",
            "pygments_lexer": "ipython3",
            "version": "3.10.12"
        }
    },
    "nbformat": 4,
    "nbformat_minor": 2
}
