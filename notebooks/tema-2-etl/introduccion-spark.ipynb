{
    "cells": [
        {
            "cell_type": "markdown",
            "metadata": {},
            "source": [
                "# Introducción\n",
                "En este Notebook aprenderemos las operaciones básicas más utilizadas en PySpark, incluyendo un ejercicio práctico en el que realizaremos una pequeña ETL para extraer unos datos desde una API y los volcaremos en el catálogo de datos de Spark."
            ]
        },
        {
            "cell_type": "markdown",
            "metadata": {},
            "source": [
                "# Importación de módulos requeridos\n",
                "En primer lugar necesitamos importar las funciones y objetos requeridos para la implementación.\n",
                "\n",
                "- `SparkSession`: objeto necesario para la interacción con la herramienta de Spark a través de Python.\n",
                "- `pyspark.sql.functions`: funciones de SQL que ofrece pyspark, necesarias para las transformaciones de los datos en la ETL.\n",
                "- `fetch_api, save_json`: estas funciones están definidas dentro de nuestra propia librería llamada `blackops`. Contienen el código necesario para extraer y almacenar los datos de la API.\n",
                "- `date, timedelta`: funciones para crear objetos de tipo fecha y timestamp dentro de Python.\n",
                "- `random`: módulo utilizado para la generación de datos aleatorios.\n",
                "- `DeltaTable`: objeto para interaccionar con tablas de tipo Delta. Se trata de un formato ampliamente utilizado en Spark, que ofrece muchas funcionalidades añadidas a nuestro catálogo de datos, como por ejemplo la posibilidad de revertir cambios."
            ]
        },
        {
            "cell_type": "code",
            "execution_count": 1,
            "metadata": {},
            "outputs": [],
            "source": [
                "from pyspark.sql import SparkSession\n",
                "import pyspark.sql.functions as f\n",
                "from blackops.crawlers.wallapop.functions import fetch_api, save_json\n",
                "from datetime import date, timedelta\n",
                "import random\n",
                "from delta import DeltaTable"
            ]
        },
        {
            "cell_type": "markdown",
            "metadata": {},
            "source": [
                "Establecemos una semilla para la generación de números aleatorios. De esta manera, los resultados serán reproducibles"
            ]
        },
        {
            "cell_type": "code",
            "execution_count": 2,
            "metadata": {},
            "outputs": [],
            "source": [
                "random.seed(45)"
            ]
        },
        {
            "cell_type": "markdown",
            "metadata": {},
            "source": [
                "# Inicialización de la sesión de Spark\n",
                "\n",
                "Establecemos ahora la comunicación con el motor de Spark desde Python, a través del objeto `SparkSession` de la librería `pyspark`.\n",
                "\n",
                "En este caso de prueba no estamos utilizando un clúster, sino que haremos uso de una arquitectura local. El propio Jupyter Notebook ejercerá como Driver, como Master y como Ejecutor de las tareas.\n",
                "\n",
                "Adicionalmente, estamos instalando dependencias externas como la librería Delta, que incorpora utilidades muy importantes para el manejo de las tablas en nuestro catálogo de datos (histórico de versiones de tablas, omisión de ficheros innecesarios en la lectura, etc.)"
            ]
        },
        {
            "cell_type": "code",
            "execution_count": 3,
            "metadata": {},
            "outputs": [
                {
                    "name": "stderr",
                    "output_type": "stream",
                    "text": [
                        "24/09/27 20:51:12 WARN Utils: Your hostname, pop-os resolves to a loopback address: 127.0.1.1; using 192.168.1.40 instead (on interface enp3s0)\n",
                        "24/09/27 20:51:12 WARN Utils: Set SPARK_LOCAL_IP if you need to bind to another address\n",
                        "Ivy Default Cache set to: /home/dadiego/.ivy2/cache\n",
                        "The jars for the packages stored in: /home/dadiego/.ivy2/jars\n",
                        "io.delta#delta-spark_2.12 added as a dependency\n",
                        ":: resolving dependencies :: org.apache.spark#spark-submit-parent-428a4bd4-8266-4cdf-b070-bd9901676959;1.0\n",
                        "\tconfs: [default]\n"
                    ]
                },
                {
                    "name": "stdout",
                    "output_type": "stream",
                    "text": [
                        ":: loading settings :: url = jar:file:/home/dadiego/projects/ESIC/esic-bigdata-iv-blackops/.venv/lib/python3.10/site-packages/pyspark/jars/ivy-2.5.1.jar!/org/apache/ivy/core/settings/ivysettings.xml\n"
                    ]
                },
                {
                    "name": "stderr",
                    "output_type": "stream",
                    "text": [
                        "\tfound io.delta#delta-spark_2.12;3.2.0 in central\n",
                        "\tfound io.delta#delta-storage;3.2.0 in central\n",
                        "\tfound org.antlr#antlr4-runtime;4.9.3 in central\n",
                        ":: resolution report :: resolve 108ms :: artifacts dl 5ms\n",
                        "\t:: modules in use:\n",
                        "\tio.delta#delta-spark_2.12;3.2.0 from central in [default]\n",
                        "\tio.delta#delta-storage;3.2.0 from central in [default]\n",
                        "\torg.antlr#antlr4-runtime;4.9.3 from central in [default]\n",
                        "\t---------------------------------------------------------------------\n",
                        "\t|                  |            modules            ||   artifacts   |\n",
                        "\t|       conf       | number| search|dwnlded|evicted|| number|dwnlded|\n",
                        "\t---------------------------------------------------------------------\n",
                        "\t|      default     |   3   |   0   |   0   |   0   ||   3   |   0   |\n",
                        "\t---------------------------------------------------------------------\n",
                        ":: retrieving :: org.apache.spark#spark-submit-parent-428a4bd4-8266-4cdf-b070-bd9901676959\n",
                        "\tconfs: [default]\n",
                        "\t0 artifacts copied, 3 already retrieved (0kB/4ms)\n",
                        "24/09/27 20:51:13 WARN NativeCodeLoader: Unable to load native-hadoop library for your platform... using builtin-java classes where applicable\n",
                        "Setting default log level to \"WARN\".\n",
                        "To adjust logging level use sc.setLogLevel(newLevel). For SparkR, use setLogLevel(newLevel).\n"
                    ]
                }
            ],
            "source": [
                "spark = (\n",
                "    SparkSession.Builder()\n",
                "    .master(\"local[*]\")\n",
                "    .config(\n",
                "        map={\n",
                "            \"spark.driver.memory\": \"8g\",\n",
                "            \"spark.jars.packages\": \"io.delta:delta-spark_2.12:3.2.0\",\n",
                "            \"spark.sql.extensions\": \"io.delta.sql.DeltaSparkSessionExtension\",\n",
                "            \"spark.sql.catalog.spark_catalog\": \"org.apache.spark.sql.delta.catalog.DeltaCatalog\",\n",
                "            \"spark.databricks.delta.retentionDurationCheck.enabled\": \"false\",\n",
                "            \"spark.sql.catalogImplementation\": \"hive\",\n",
                "            \"spark.sql.repl.eagerEval.enabled\": \"true\",\n",
                "        }\n",
                "    )\n",
                "    .getOrCreate()\n",
                ")"
            ]
        },
        {
            "cell_type": "markdown",
            "metadata": {},
            "source": [
                "Una vez se ha inicializado la sesión, podemos acceder a la web `localhost:4040` para consultar la interfaz de administración que ofrece Spark. Allí, se podrá monitorizar las tareas que se mandan desde el Driver.\n",
                "\n",
                "**Nota**: Si al inicializar la sesión de Spark obtenemos algún error en el que se nos indica que la variable `JAVA_HOME` no existe, lo más probable es que no tengamos instalado Java en nuestro sistema, y necesitamos instalarlo ya que Spark depende de Java para su funcionamiento. Para ello, en Linux podemos utilizar el gestor de paquetes: `sudo apt update && sudo apt install openjdk-17-jdk -y`."
            ]
        },
        {
            "cell_type": "markdown",
            "metadata": {},
            "source": [
                "# Creación de un DataFrame de Spark\n",
                "\n",
                "En Spark podemos crear directamente un Dataframe a partir de una lista de datos, o bien de un Dataframe de pandas. Para ello se puede utilizar el método `spark.createDataFrame`.\n",
                "Debemos especificar tanto los datos como el esquema que tiene el Dataframe (sus columnas y sus tipos).\n",
                "\n",
                "En este caso hacemos uso del paquete `random` para generar datos aleatorios (pero reproducibles, al haber establecido una semilla)."
            ]
        },
        {
            "cell_type": "code",
            "execution_count": 4,
            "metadata": {},
            "outputs": [
                {
                    "name": "stderr",
                    "output_type": "stream",
                    "text": [
                        "                                                                                \r"
                    ]
                },
                {
                    "data": {
                        "text/html": [
                            "<table border='1'>\n",
                            "<tr><th>id</th><th>nombre</th><th>edad</th><th>salario</th><th>es_empleado</th><th>fecha_contratacion</th><th>departamento</th></tr>\n",
                            "<tr><td>1</td><td>Luis</td><td>48</td><td>49281.69</td><td>true</td><td>2021-05-09</td><td>Finanzas</td></tr>\n",
                            "<tr><td>2</td><td>Juan</td><td>26</td><td>49055.36</td><td>true</td><td>2021-07-27</td><td>Ventas</td></tr>\n",
                            "<tr><td>3</td><td>Luis</td><td>24</td><td>73947.68</td><td>true</td><td>2023-03-28</td><td>Finanzas</td></tr>\n",
                            "<tr><td>4</td><td>Pedro</td><td>35</td><td>79554.92</td><td>false</td><td>2023-11-29</td><td>RRHH</td></tr>\n",
                            "<tr><td>5</td><td>Miguel</td><td>31</td><td>62027.07</td><td>true</td><td>2022-10-27</td><td>Finanzas</td></tr>\n",
                            "<tr><td>6</td><td>Luis</td><td>44</td><td>66505.58</td><td>false</td><td>2023-09-13</td><td>IT</td></tr>\n",
                            "<tr><td>7</td><td>Mar&iacute;a</td><td>23</td><td>65070.76</td><td>false</td><td>2015-12-18</td><td>IT</td></tr>\n",
                            "<tr><td>8</td><td>David</td><td>56</td><td>72059.12</td><td>false</td><td>2018-02-06</td><td>Ventas</td></tr>\n",
                            "<tr><td>9</td><td>Sara</td><td>45</td><td>74705.86</td><td>false</td><td>2023-01-02</td><td>Ventas</td></tr>\n",
                            "<tr><td>10</td><td>Ana</td><td>53</td><td>62691.89</td><td>false</td><td>2021-06-16</td><td>Marketing</td></tr>\n",
                            "<tr><td>11</td><td>Miguel</td><td>46</td><td>70126.54</td><td>true</td><td>2018-03-14</td><td>IT</td></tr>\n",
                            "<tr><td>12</td><td>David</td><td>27</td><td>53608.56</td><td>true</td><td>2014-11-09</td><td>RRHH</td></tr>\n",
                            "<tr><td>13</td><td>Laura</td><td>23</td><td>57455.18</td><td>false</td><td>2021-03-08</td><td>Finanzas</td></tr>\n",
                            "<tr><td>14</td><td>Pedro</td><td>33</td><td>20602.28</td><td>false</td><td>2024-03-12</td><td>IT</td></tr>\n",
                            "<tr><td>15</td><td>Mar&iacute;a</td><td>22</td><td>57444.64</td><td>false</td><td>2017-10-22</td><td>Finanzas</td></tr>\n",
                            "<tr><td>16</td><td>Sara</td><td>50</td><td>32029.18</td><td>false</td><td>2022-01-13</td><td>RRHH</td></tr>\n",
                            "<tr><td>17</td><td>Ana</td><td>53</td><td>21659.3</td><td>true</td><td>2018-01-19</td><td>Finanzas</td></tr>\n",
                            "<tr><td>18</td><td>Sara</td><td>28</td><td>30491.18</td><td>true</td><td>2015-12-13</td><td>Ventas</td></tr>\n",
                            "<tr><td>19</td><td>Mar&iacute;a</td><td>26</td><td>61548.89</td><td>false</td><td>2015-11-03</td><td>RRHH</td></tr>\n",
                            "<tr><td>20</td><td>Pedro</td><td>27</td><td>59899.06</td><td>false</td><td>2015-02-25</td><td>IT</td></tr>\n",
                            "</table>\n",
                            "only showing top 20 rows\n"
                        ],
                        "text/plain": [
                            "+---+------+----+--------+-----------+------------------+------------+\n",
                            "| id|nombre|edad| salario|es_empleado|fecha_contratacion|departamento|\n",
                            "+---+------+----+--------+-----------+------------------+------------+\n",
                            "|  1|  Luis|  48|49281.69|       true|        2021-05-09|    Finanzas|\n",
                            "|  2|  Juan|  26|49055.36|       true|        2021-07-27|      Ventas|\n",
                            "|  3|  Luis|  24|73947.68|       true|        2023-03-28|    Finanzas|\n",
                            "|  4| Pedro|  35|79554.92|      false|        2023-11-29|        RRHH|\n",
                            "|  5|Miguel|  31|62027.07|       true|        2022-10-27|    Finanzas|\n",
                            "|  6|  Luis|  44|66505.58|      false|        2023-09-13|          IT|\n",
                            "|  7| María|  23|65070.76|      false|        2015-12-18|          IT|\n",
                            "|  8| David|  56|72059.12|      false|        2018-02-06|      Ventas|\n",
                            "|  9|  Sara|  45|74705.86|      false|        2023-01-02|      Ventas|\n",
                            "| 10|   Ana|  53|62691.89|      false|        2021-06-16|   Marketing|\n",
                            "| 11|Miguel|  46|70126.54|       true|        2018-03-14|          IT|\n",
                            "| 12| David|  27|53608.56|       true|        2014-11-09|        RRHH|\n",
                            "| 13| Laura|  23|57455.18|      false|        2021-03-08|    Finanzas|\n",
                            "| 14| Pedro|  33|20602.28|      false|        2024-03-12|          IT|\n",
                            "| 15| María|  22|57444.64|      false|        2017-10-22|    Finanzas|\n",
                            "| 16|  Sara|  50|32029.18|      false|        2022-01-13|        RRHH|\n",
                            "| 17|   Ana|  53| 21659.3|       true|        2018-01-19|    Finanzas|\n",
                            "| 18|  Sara|  28|30491.18|       true|        2015-12-13|      Ventas|\n",
                            "| 19| María|  26|61548.89|      false|        2015-11-03|        RRHH|\n",
                            "| 20| Pedro|  27|59899.06|      false|        2015-02-25|          IT|\n",
                            "+---+------+----+--------+-----------+------------------+------------+\n",
                            "only showing top 20 rows"
                        ]
                    },
                    "metadata": {},
                    "output_type": "display_data"
                }
            ],
            "source": [
                "# Podemos especificar el esquema del DataFrame usando una cadena de texto\n",
                "schema = \"id INT, nombre STRING, edad INT, salario FLOAT, es_empleado BOOLEAN, fecha_contratacion DATE, departamento STRING\"\n",
                "\n",
                "# Crear una lista de datos ficticios\n",
                "nombres = [\n",
                "    \"Juan\",\n",
                "    \"María\",\n",
                "    \"Pedro\",\n",
                "    \"Ana\",\n",
                "    \"Luis\",\n",
                "    \"Carla\",\n",
                "    \"Miguel\",\n",
                "    \"Sara\",\n",
                "    \"David\",\n",
                "    \"Laura\",\n",
                "]\n",
                "departamentos = [\"Ventas\", \"Marketing\", \"Finanzas\", \"IT\", \"RRHH\"]\n",
                "\n",
                "data = [\n",
                "    (\n",
                "        i,  # id\n",
                "        random.choice(nombres),  # nombre\n",
                "        random.randint(22, 60),  # edad\n",
                "        round(random.uniform(20000, 80000), 2),  # salario\n",
                "        random.choice([True, False]),  # es_empleado\n",
                "        date(2024, 10, 1)\n",
                "        - timedelta(days=random.randint(0, 3650)),  # fecha_contratacion\n",
                "        random.choice(departamentos),  # departamento\n",
                "    )\n",
                "    for i in range(1, 31)  # Genera 30 registros aleatorios\n",
                "]\n",
                "\n",
                "# Crear el DataFrame usando el esquema en string\n",
                "df = spark.createDataFrame(data, schema)\n",
                "\n",
                "# Mostramos el DataFrame resultante por pantalla\n",
                "display(df)"
            ]
        },
        {
            "cell_type": "markdown",
            "metadata": {},
            "source": [
                "# Operaciones de transformación\n",
                "\n",
                "La sintaxis de Spark es muy similar a la del lenguaje SQL, de hecho, admite la introducción de comandos SQL para realizar las transformaciones de los datos. Vamos a ver algunas de las operaciones más habituales.\n",
                "\n",
                "### Select\n",
                "\n",
                "La operación más sencilla consiste en seleccionar simplemente un subconjunto de los datos, sin ninguna otra operación de transformación o filtro añadido. Por ejemplo, seleccionemos únicamente los campos `id` y `nombre`."
            ]
        },
        {
            "cell_type": "code",
            "execution_count": 5,
            "metadata": {},
            "outputs": [
                {
                    "data": {
                        "text/html": [
                            "<table border='1'>\n",
                            "<tr><th>id</th><th>nombre</th></tr>\n",
                            "<tr><td>1</td><td>Luis</td></tr>\n",
                            "<tr><td>2</td><td>Juan</td></tr>\n",
                            "<tr><td>3</td><td>Luis</td></tr>\n",
                            "<tr><td>4</td><td>Pedro</td></tr>\n",
                            "<tr><td>5</td><td>Miguel</td></tr>\n",
                            "<tr><td>6</td><td>Luis</td></tr>\n",
                            "<tr><td>7</td><td>Mar&iacute;a</td></tr>\n",
                            "<tr><td>8</td><td>David</td></tr>\n",
                            "<tr><td>9</td><td>Sara</td></tr>\n",
                            "<tr><td>10</td><td>Ana</td></tr>\n",
                            "<tr><td>11</td><td>Miguel</td></tr>\n",
                            "<tr><td>12</td><td>David</td></tr>\n",
                            "<tr><td>13</td><td>Laura</td></tr>\n",
                            "<tr><td>14</td><td>Pedro</td></tr>\n",
                            "<tr><td>15</td><td>Mar&iacute;a</td></tr>\n",
                            "<tr><td>16</td><td>Sara</td></tr>\n",
                            "<tr><td>17</td><td>Ana</td></tr>\n",
                            "<tr><td>18</td><td>Sara</td></tr>\n",
                            "<tr><td>19</td><td>Mar&iacute;a</td></tr>\n",
                            "<tr><td>20</td><td>Pedro</td></tr>\n",
                            "</table>\n",
                            "only showing top 20 rows\n"
                        ],
                        "text/plain": [
                            "+---+------+\n",
                            "| id|nombre|\n",
                            "+---+------+\n",
                            "|  1|  Luis|\n",
                            "|  2|  Juan|\n",
                            "|  3|  Luis|\n",
                            "|  4| Pedro|\n",
                            "|  5|Miguel|\n",
                            "|  6|  Luis|\n",
                            "|  7| María|\n",
                            "|  8| David|\n",
                            "|  9|  Sara|\n",
                            "| 10|   Ana|\n",
                            "| 11|Miguel|\n",
                            "| 12| David|\n",
                            "| 13| Laura|\n",
                            "| 14| Pedro|\n",
                            "| 15| María|\n",
                            "| 16|  Sara|\n",
                            "| 17|   Ana|\n",
                            "| 18|  Sara|\n",
                            "| 19| María|\n",
                            "| 20| Pedro|\n",
                            "+---+------+\n",
                            "only showing top 20 rows"
                        ]
                    },
                    "execution_count": 5,
                    "metadata": {},
                    "output_type": "execute_result"
                }
            ],
            "source": [
                "df.select(\"id\", \"nombre\")"
            ]
        },
        {
            "cell_type": "markdown",
            "metadata": {},
            "source": [
                "Al igual que en SQL estándar, podemos no solo seleccionar unas columnas sino aplicarles alguna función de transformación dentro del propio comando SELECT, y renombrarlas utilizando un alias.\n",
                "\n",
                "Las funciones SQL en Spark están contenidas en el módulo `pyspark.sql.functions`, que hemos importado al principio y lo hemos almacenado en un objeto con alias `f` (por sencillez de uso).\n",
                "\n",
                "Vamos a seleccionar en este caso los mismos campos que en el ejemplo anterior, sin embargo, al campo `nombre` le vamos a aplicar una transformación para visualizar el nombre en mayúsculas, y al resultado lo renombraremos `nombre_en_mayusculas`."
            ]
        },
        {
            "cell_type": "code",
            "execution_count": 6,
            "metadata": {},
            "outputs": [
                {
                    "data": {
                        "text/html": [
                            "<table border='1'>\n",
                            "<tr><th>id</th><th>nombre_en_mayusculas</th></tr>\n",
                            "<tr><td>1</td><td>LUIS</td></tr>\n",
                            "<tr><td>2</td><td>JUAN</td></tr>\n",
                            "<tr><td>3</td><td>LUIS</td></tr>\n",
                            "<tr><td>4</td><td>PEDRO</td></tr>\n",
                            "<tr><td>5</td><td>MIGUEL</td></tr>\n",
                            "<tr><td>6</td><td>LUIS</td></tr>\n",
                            "<tr><td>7</td><td>MAR&Iacute;A</td></tr>\n",
                            "<tr><td>8</td><td>DAVID</td></tr>\n",
                            "<tr><td>9</td><td>SARA</td></tr>\n",
                            "<tr><td>10</td><td>ANA</td></tr>\n",
                            "<tr><td>11</td><td>MIGUEL</td></tr>\n",
                            "<tr><td>12</td><td>DAVID</td></tr>\n",
                            "<tr><td>13</td><td>LAURA</td></tr>\n",
                            "<tr><td>14</td><td>PEDRO</td></tr>\n",
                            "<tr><td>15</td><td>MAR&Iacute;A</td></tr>\n",
                            "<tr><td>16</td><td>SARA</td></tr>\n",
                            "<tr><td>17</td><td>ANA</td></tr>\n",
                            "<tr><td>18</td><td>SARA</td></tr>\n",
                            "<tr><td>19</td><td>MAR&Iacute;A</td></tr>\n",
                            "<tr><td>20</td><td>PEDRO</td></tr>\n",
                            "</table>\n",
                            "only showing top 20 rows\n"
                        ],
                        "text/plain": [
                            "+---+--------------------+\n",
                            "| id|nombre_en_mayusculas|\n",
                            "+---+--------------------+\n",
                            "|  1|                LUIS|\n",
                            "|  2|                JUAN|\n",
                            "|  3|                LUIS|\n",
                            "|  4|               PEDRO|\n",
                            "|  5|              MIGUEL|\n",
                            "|  6|                LUIS|\n",
                            "|  7|               MARÍA|\n",
                            "|  8|               DAVID|\n",
                            "|  9|                SARA|\n",
                            "| 10|                 ANA|\n",
                            "| 11|              MIGUEL|\n",
                            "| 12|               DAVID|\n",
                            "| 13|               LAURA|\n",
                            "| 14|               PEDRO|\n",
                            "| 15|               MARÍA|\n",
                            "| 16|                SARA|\n",
                            "| 17|                 ANA|\n",
                            "| 18|                SARA|\n",
                            "| 19|               MARÍA|\n",
                            "| 20|               PEDRO|\n",
                            "+---+--------------------+\n",
                            "only showing top 20 rows"
                        ]
                    },
                    "execution_count": 6,
                    "metadata": {},
                    "output_type": "execute_result"
                }
            ],
            "source": [
                "df.select(\"id\", f.upper(\"nombre\").alias(\"nombre_en_mayusculas\"))"
            ]
        },
        {
            "cell_type": "markdown",
            "metadata": {},
            "source": [
                "### WithColumn\n",
                "\n",
                "Podemos añadir campos nuevos derivados a partir de otros campos utilizando el método `withColumn`. Este comando conservará todas las columnas de la tabla, y añadirá una adicional, con las transformaciones que le indiquemos.\n",
                "\n",
                "Este método opera fila a fila, es decir, aplicará las transformaciones correspondientes registro a registro.\n",
                "\n",
                "Por ejemplo, en nuestra tabla disponemos del campo `edad`, pero supongamos que nos interesa, para nuestra analítica, disponer de un campo con el año de nacimiento. En tal caso, podríamos concatenar dos funciones SQL: con la primera, `current_date`, extraemos la fecha actual, y sobre dicha fecha aplicamos la función `year` para extraer el año. Finalmente, a este año actual le restamos la edad que tiene el usuario para así calcular su año de nacimiento. Cada usuario dispondrá así de un año de nacimiento (transformación fila a fila)."
            ]
        },
        {
            "cell_type": "code",
            "execution_count": 7,
            "metadata": {},
            "outputs": [
                {
                    "data": {
                        "text/html": [
                            "<table border='1'>\n",
                            "<tr><th>id</th><th>nombre</th><th>edad</th><th>salario</th><th>es_empleado</th><th>fecha_contratacion</th><th>departamento</th><th>a&ntilde;o_nacimiento</th></tr>\n",
                            "<tr><td>1</td><td>Luis</td><td>48</td><td>49281.69</td><td>true</td><td>2021-05-09</td><td>Finanzas</td><td>1976</td></tr>\n",
                            "<tr><td>2</td><td>Juan</td><td>26</td><td>49055.36</td><td>true</td><td>2021-07-27</td><td>Ventas</td><td>1998</td></tr>\n",
                            "<tr><td>3</td><td>Luis</td><td>24</td><td>73947.68</td><td>true</td><td>2023-03-28</td><td>Finanzas</td><td>2000</td></tr>\n",
                            "<tr><td>4</td><td>Pedro</td><td>35</td><td>79554.92</td><td>false</td><td>2023-11-29</td><td>RRHH</td><td>1989</td></tr>\n",
                            "<tr><td>5</td><td>Miguel</td><td>31</td><td>62027.07</td><td>true</td><td>2022-10-27</td><td>Finanzas</td><td>1993</td></tr>\n",
                            "<tr><td>6</td><td>Luis</td><td>44</td><td>66505.58</td><td>false</td><td>2023-09-13</td><td>IT</td><td>1980</td></tr>\n",
                            "<tr><td>7</td><td>Mar&iacute;a</td><td>23</td><td>65070.76</td><td>false</td><td>2015-12-18</td><td>IT</td><td>2001</td></tr>\n",
                            "<tr><td>8</td><td>David</td><td>56</td><td>72059.12</td><td>false</td><td>2018-02-06</td><td>Ventas</td><td>1968</td></tr>\n",
                            "<tr><td>9</td><td>Sara</td><td>45</td><td>74705.86</td><td>false</td><td>2023-01-02</td><td>Ventas</td><td>1979</td></tr>\n",
                            "<tr><td>10</td><td>Ana</td><td>53</td><td>62691.89</td><td>false</td><td>2021-06-16</td><td>Marketing</td><td>1971</td></tr>\n",
                            "<tr><td>11</td><td>Miguel</td><td>46</td><td>70126.54</td><td>true</td><td>2018-03-14</td><td>IT</td><td>1978</td></tr>\n",
                            "<tr><td>12</td><td>David</td><td>27</td><td>53608.56</td><td>true</td><td>2014-11-09</td><td>RRHH</td><td>1997</td></tr>\n",
                            "<tr><td>13</td><td>Laura</td><td>23</td><td>57455.18</td><td>false</td><td>2021-03-08</td><td>Finanzas</td><td>2001</td></tr>\n",
                            "<tr><td>14</td><td>Pedro</td><td>33</td><td>20602.28</td><td>false</td><td>2024-03-12</td><td>IT</td><td>1991</td></tr>\n",
                            "<tr><td>15</td><td>Mar&iacute;a</td><td>22</td><td>57444.64</td><td>false</td><td>2017-10-22</td><td>Finanzas</td><td>2002</td></tr>\n",
                            "<tr><td>16</td><td>Sara</td><td>50</td><td>32029.18</td><td>false</td><td>2022-01-13</td><td>RRHH</td><td>1974</td></tr>\n",
                            "<tr><td>17</td><td>Ana</td><td>53</td><td>21659.3</td><td>true</td><td>2018-01-19</td><td>Finanzas</td><td>1971</td></tr>\n",
                            "<tr><td>18</td><td>Sara</td><td>28</td><td>30491.18</td><td>true</td><td>2015-12-13</td><td>Ventas</td><td>1996</td></tr>\n",
                            "<tr><td>19</td><td>Mar&iacute;a</td><td>26</td><td>61548.89</td><td>false</td><td>2015-11-03</td><td>RRHH</td><td>1998</td></tr>\n",
                            "<tr><td>20</td><td>Pedro</td><td>27</td><td>59899.06</td><td>false</td><td>2015-02-25</td><td>IT</td><td>1997</td></tr>\n",
                            "</table>\n",
                            "only showing top 20 rows\n"
                        ],
                        "text/plain": [
                            "+---+------+----+--------+-----------+------------------+------------+--------------+\n",
                            "| id|nombre|edad| salario|es_empleado|fecha_contratacion|departamento|año_nacimiento|\n",
                            "+---+------+----+--------+-----------+------------------+------------+--------------+\n",
                            "|  1|  Luis|  48|49281.69|       true|        2021-05-09|    Finanzas|          1976|\n",
                            "|  2|  Juan|  26|49055.36|       true|        2021-07-27|      Ventas|          1998|\n",
                            "|  3|  Luis|  24|73947.68|       true|        2023-03-28|    Finanzas|          2000|\n",
                            "|  4| Pedro|  35|79554.92|      false|        2023-11-29|        RRHH|          1989|\n",
                            "|  5|Miguel|  31|62027.07|       true|        2022-10-27|    Finanzas|          1993|\n",
                            "|  6|  Luis|  44|66505.58|      false|        2023-09-13|          IT|          1980|\n",
                            "|  7| María|  23|65070.76|      false|        2015-12-18|          IT|          2001|\n",
                            "|  8| David|  56|72059.12|      false|        2018-02-06|      Ventas|          1968|\n",
                            "|  9|  Sara|  45|74705.86|      false|        2023-01-02|      Ventas|          1979|\n",
                            "| 10|   Ana|  53|62691.89|      false|        2021-06-16|   Marketing|          1971|\n",
                            "| 11|Miguel|  46|70126.54|       true|        2018-03-14|          IT|          1978|\n",
                            "| 12| David|  27|53608.56|       true|        2014-11-09|        RRHH|          1997|\n",
                            "| 13| Laura|  23|57455.18|      false|        2021-03-08|    Finanzas|          2001|\n",
                            "| 14| Pedro|  33|20602.28|      false|        2024-03-12|          IT|          1991|\n",
                            "| 15| María|  22|57444.64|      false|        2017-10-22|    Finanzas|          2002|\n",
                            "| 16|  Sara|  50|32029.18|      false|        2022-01-13|        RRHH|          1974|\n",
                            "| 17|   Ana|  53| 21659.3|       true|        2018-01-19|    Finanzas|          1971|\n",
                            "| 18|  Sara|  28|30491.18|       true|        2015-12-13|      Ventas|          1996|\n",
                            "| 19| María|  26|61548.89|      false|        2015-11-03|        RRHH|          1998|\n",
                            "| 20| Pedro|  27|59899.06|      false|        2015-02-25|          IT|          1997|\n",
                            "+---+------+----+--------+-----------+------------------+------------+--------------+\n",
                            "only showing top 20 rows"
                        ]
                    },
                    "execution_count": 7,
                    "metadata": {},
                    "output_type": "execute_result"
                }
            ],
            "source": [
                "df.withColumn(\"año_nacimiento\", f.year(f.current_date()) - f.col(\"edad\"))"
            ]
        },
        {
            "cell_type": "markdown",
            "metadata": {},
            "source": [
                "### Filter\n",
                "\n",
                "Podemos filtrar los datos de acuerdo a alguna condición especificada. Esta sentencia se corresponde con el comando `WHERE` en SQL. Por ejemplo, queremos obtener únicamente los datos de los empleados. \n",
                "\n",
                "Recordemos que en Python el operador de igualdad es `==`.\n",
                "\n",
                "Para poder realizar operaciones con columnas, necesitamos especificar que se trata de una columna del DataFrame haciendo uso de la función `col`, puesto que si no lo que estaríamos es comparando un string con un booleano (`\"es_empleado\" == True`), que será siempre igual a `False`."
            ]
        },
        {
            "cell_type": "code",
            "execution_count": 8,
            "metadata": {},
            "outputs": [
                {
                    "data": {
                        "text/html": [
                            "<table border='1'>\n",
                            "<tr><th>id</th><th>nombre</th><th>edad</th><th>salario</th><th>es_empleado</th><th>fecha_contratacion</th><th>departamento</th></tr>\n",
                            "<tr><td>1</td><td>Luis</td><td>48</td><td>49281.69</td><td>true</td><td>2021-05-09</td><td>Finanzas</td></tr>\n",
                            "<tr><td>2</td><td>Juan</td><td>26</td><td>49055.36</td><td>true</td><td>2021-07-27</td><td>Ventas</td></tr>\n",
                            "<tr><td>3</td><td>Luis</td><td>24</td><td>73947.68</td><td>true</td><td>2023-03-28</td><td>Finanzas</td></tr>\n",
                            "<tr><td>5</td><td>Miguel</td><td>31</td><td>62027.07</td><td>true</td><td>2022-10-27</td><td>Finanzas</td></tr>\n",
                            "<tr><td>11</td><td>Miguel</td><td>46</td><td>70126.54</td><td>true</td><td>2018-03-14</td><td>IT</td></tr>\n",
                            "<tr><td>12</td><td>David</td><td>27</td><td>53608.56</td><td>true</td><td>2014-11-09</td><td>RRHH</td></tr>\n",
                            "<tr><td>17</td><td>Ana</td><td>53</td><td>21659.3</td><td>true</td><td>2018-01-19</td><td>Finanzas</td></tr>\n",
                            "<tr><td>18</td><td>Sara</td><td>28</td><td>30491.18</td><td>true</td><td>2015-12-13</td><td>Ventas</td></tr>\n",
                            "<tr><td>23</td><td>Carla</td><td>50</td><td>73172.89</td><td>true</td><td>2015-08-21</td><td>IT</td></tr>\n",
                            "<tr><td>25</td><td>Sara</td><td>59</td><td>59973.55</td><td>true</td><td>2018-04-23</td><td>Marketing</td></tr>\n",
                            "<tr><td>29</td><td>Miguel</td><td>37</td><td>69922.06</td><td>true</td><td>2023-10-26</td><td>Finanzas</td></tr>\n",
                            "<tr><td>30</td><td>Luis</td><td>27</td><td>70247.43</td><td>true</td><td>2020-05-23</td><td>Finanzas</td></tr>\n",
                            "</table>\n"
                        ],
                        "text/plain": [
                            "+---+------+----+--------+-----------+------------------+------------+\n",
                            "| id|nombre|edad| salario|es_empleado|fecha_contratacion|departamento|\n",
                            "+---+------+----+--------+-----------+------------------+------------+\n",
                            "|  1|  Luis|  48|49281.69|       true|        2021-05-09|    Finanzas|\n",
                            "|  2|  Juan|  26|49055.36|       true|        2021-07-27|      Ventas|\n",
                            "|  3|  Luis|  24|73947.68|       true|        2023-03-28|    Finanzas|\n",
                            "|  5|Miguel|  31|62027.07|       true|        2022-10-27|    Finanzas|\n",
                            "| 11|Miguel|  46|70126.54|       true|        2018-03-14|          IT|\n",
                            "| 12| David|  27|53608.56|       true|        2014-11-09|        RRHH|\n",
                            "| 17|   Ana|  53| 21659.3|       true|        2018-01-19|    Finanzas|\n",
                            "| 18|  Sara|  28|30491.18|       true|        2015-12-13|      Ventas|\n",
                            "| 23| Carla|  50|73172.89|       true|        2015-08-21|          IT|\n",
                            "| 25|  Sara|  59|59973.55|       true|        2018-04-23|   Marketing|\n",
                            "| 29|Miguel|  37|69922.06|       true|        2023-10-26|    Finanzas|\n",
                            "| 30|  Luis|  27|70247.43|       true|        2020-05-23|    Finanzas|\n",
                            "+---+------+----+--------+-----------+------------------+------------+"
                        ]
                    },
                    "execution_count": 8,
                    "metadata": {},
                    "output_type": "execute_result"
                }
            ],
            "source": [
                "df.filter(f.col(\"es_empleado\") == True)\n",
                "\n",
                "# Si hacemos df.filter(\"es_empleado\" == True) obtendremos un error porque los tipos no son los esperados."
            ]
        },
        {
            "cell_type": "markdown",
            "metadata": {},
            "source": [
                "### Agrupaciones\n",
                "\n",
                "Utilizando el comando group by, podemos agrupar nuestro dataset según los valores de una o varias columnas y posteriormente realizar una operación de agregación sobre cada conjunto, para así obtener estadísticas descriptivas de nuestros datos.\n",
                "\n",
                "Por ejemplo, podemos obtener el número de empleados en marketing, con lo cual debemos agrupar por departamento y realizar una operación de agregación de suma. Estas operaciones se denominan \"de agregación\" o \"de reducción\" porque actúan sobre un conjunto de filas (todas aquellas que comparten el mismo valor del grupo) y devuelven un único valor"
            ]
        },
        {
            "cell_type": "code",
            "execution_count": 9,
            "metadata": {},
            "outputs": [
                {
                    "data": {
                        "text/html": [
                            "<table border='1'>\n",
                            "<tr><th>departamento</th><th>salario_total</th></tr>\n",
                            "<tr><td>Finanzas</td><td>524206.53515625</td></tr>\n",
                            "<tr><td>Ventas</td><td>421618.7890625</td></tr>\n",
                            "<tr><td>RRHH</td><td>292734.91015625</td></tr>\n",
                            "<tr><td>IT</td><td>355377.107421875</td></tr>\n",
                            "<tr><td>Marketing</td><td>122665.44140625</td></tr>\n",
                            "</table>\n"
                        ],
                        "text/plain": [
                            "+------------+----------------+\n",
                            "|departamento|   salario_total|\n",
                            "+------------+----------------+\n",
                            "|    Finanzas| 524206.53515625|\n",
                            "|      Ventas|  421618.7890625|\n",
                            "|        RRHH| 292734.91015625|\n",
                            "|          IT|355377.107421875|\n",
                            "|   Marketing| 122665.44140625|\n",
                            "+------------+----------------+"
                        ]
                    },
                    "execution_count": 9,
                    "metadata": {},
                    "output_type": "execute_result"
                }
            ],
            "source": [
                "df.groupBy(\"departamento\").agg(f.sum(\"salario\").alias(\"salario_total\"))"
            ]
        },
        {
            "cell_type": "markdown",
            "metadata": {},
            "source": [
                "### Combinaciones\n",
                "Naturalmente, la riqueza de PySpark es que podemos combinar filtros con agrupaciones, adición de columnas, cambios de tipos, etc para que nuestro dato final quede pulido.\n",
                "\n",
                "Al contrario que en Pandas, todas las operaciones de transformación en Spark son *lazy*, es decir, no se evalúan hasta que se pide una acción (resultado). Esto permite que el catalizador de Spark optimice toda la cadena de consultas de la manera más apropiada antes de ser ejecutadas.\n",
                "\n",
                "Veamos un ejemplo de consulta algo más avanzada: supongamos que queremos"
            ]
        },
        {
            "cell_type": "code",
            "execution_count": 10,
            "metadata": {},
            "outputs": [
                {
                    "data": {
                        "text/html": [
                            "<table border='1'>\n",
                            "<tr><th>categoria_mes</th><th>departamento_mas_repetido</th></tr>\n",
                            "<tr><td>octubre-diciembre</td><td>RRHH</td></tr>\n",
                            "<tr><td>junio-septiembre</td><td>Marketing</td></tr>\n",
                            "<tr><td>enero-mayo</td><td>Ventas</td></tr>\n",
                            "</table>\n"
                        ],
                        "text/plain": [
                            "+-----------------+-------------------------+\n",
                            "|    categoria_mes|departamento_mas_repetido|\n",
                            "+-----------------+-------------------------+\n",
                            "|octubre-diciembre|                     RRHH|\n",
                            "| junio-septiembre|                Marketing|\n",
                            "|       enero-mayo|                   Ventas|\n",
                            "+-----------------+-------------------------+"
                        ]
                    },
                    "execution_count": 10,
                    "metadata": {},
                    "output_type": "execute_result"
                }
            ],
            "source": [
                "df.filter(\n",
                "    (f.col(\"es_empleado\") == False) & (f.year(\"fecha_contratacion\") > 2016)\n",
                ").withColumn(\"mes_contratacion\", f.month(\"fecha_contratacion\")).withColumn(\n",
                "    \"categoria_mes\",\n",
                "    f.when(f.col(\"mes_contratacion\").between(1, 5), f.lit(\"enero-mayo\"))\n",
                "    .when(f.col(\"mes_contratacion\").between(6, 9), f.lit(\"junio-septiembre\"))\n",
                "    .otherwise(f.lit(\"octubre-diciembre\")),\n",
                ").groupBy(\n",
                "    \"categoria_mes\"\n",
                ").agg(\n",
                "    f.mode(\"departamento\").alias(\"departamento_mas_repetido\")\n",
                ")"
            ]
        },
        {
            "cell_type": "markdown",
            "metadata": {},
            "source": [
                "# Caso práctico: Extracción de datos de Wallapop\n",
                "Vamos a construir un pequeño ejemplo de una ETL. Extraeremos datos en crudo desde la API REST de Wallapop, los guardamos en una carpeta de almacenamiento, los leemos con spark, realizamos algunas transformaciones y almacenamos la tabla resultante en nuestro catálogo de datos"
            ]
        },
        {
            "cell_type": "code",
            "execution_count": 11,
            "metadata": {},
            "outputs": [],
            "source": [
                "try:\n",
                "    json_data = fetch_api(product=\"portátil\")\n",
                "    save_json(obj=json_data, path=\"data/wallapop.json\", indent=4)\n",
                "except Exception as e:\n",
                "    print(f\"Warning: No ha sido posible descargar los datos de la API: {e}\")"
            ]
        },
        {
            "cell_type": "markdown",
            "metadata": {},
            "source": [
                "Podemos previsualizar cuál es la estructura de nuestro fichero JSON utilizando el comando externo `cat` de nuestra terminal (válido únicamente en sistemas Unix, con `jq` instalado).\n",
                "\n",
                "Si no está instalado `jq`, puede instalarse mediante `sudo apt update && sudo apt install jq -y`"
            ]
        },
        {
            "cell_type": "code",
            "execution_count": 12,
            "metadata": {},
            "outputs": [
                {
                    "name": "stdout",
                    "output_type": "stream",
                    "text": [
                        "\u001b[1;39m{\n",
                        "  \u001b[0m\u001b[34;1m\"data\"\u001b[0m\u001b[1;39m: \u001b[0m\u001b[1;39m{\n",
                        "    \u001b[0m\u001b[34;1m\"section\"\u001b[0m\u001b[1;39m: \u001b[0m\u001b[1;39m{\n",
                        "      \u001b[0m\u001b[34;1m\"payload\"\u001b[0m\u001b[1;39m: \u001b[0m\u001b[1;39m{\n",
                        "        \u001b[0m\u001b[34;1m\"order\"\u001b[0m\u001b[1;39m: \u001b[0m\u001b[0;32m\"most_relevance\"\u001b[0m\u001b[1;39m,\n",
                        "        \u001b[0m\u001b[34;1m\"title\"\u001b[0m\u001b[1;39m: \u001b[0m\u001b[0;32m\"Find what you want\"\u001b[0m\u001b[1;39m,\n",
                        "        \u001b[0m\u001b[34;1m\"items\"\u001b[0m\u001b[1;39m: \u001b[0m\u001b[1;39m[\n",
                        "          \u001b[1;39m{\n",
                        "            \u001b[0m\u001b[34;1m\"id\"\u001b[0m\u001b[1;39m: \u001b[0m\u001b[0;32m\"e658282neg6o\"\u001b[0m\u001b[1;39m,\n",
                        "            \u001b[0m\u001b[34;1m\"user_id\"\u001b[0m\u001b[1;39m: \u001b[0m\u001b[0;32m\"ejkx1revk16x\"\u001b[0m\u001b[1;39m,\n",
                        "            \u001b[0m\u001b[34;1m\"title\"\u001b[0m\u001b[1;39m: \u001b[0m\u001b[0;32m\"ventilador portátil \"\u001b[0m\u001b[1;39m,\n",
                        "            \u001b[0m\u001b[34;1m\"description\"\u001b[0m\u001b[1;39m: \u001b[0m\u001b[0;32m\"Ventilador portable para portátiles para la refrigeración de estos mismos. tiene unos años pero va perfecto.\"\u001b[0m\u001b[1;39m,\n",
                        "            \u001b[0m\u001b[34;1m\"category_id\"\u001b[0m\u001b[1;39m: \u001b[0m\u001b[0;39m24200\u001b[0m\u001b[1;39m,\n",
                        "            \u001b[0m\u001b[34;1m\"price\"\u001b[0m\u001b[1;39m: \u001b[0m\u001b[1;39m{\n",
                        "              \u001b[0m\u001b[34;1m\"amount\"\u001b[0m\u001b[1;39m: \u001b[0m\u001b[0;39m5\u001b[0m\u001b[1;39m,\n",
                        "              \u001b[0m\u001b[34;1m\"currency\"\u001b[0m\u001b[1;39m: \u001b[0m\u001b[0;32m\"EUR\"\u001b[0m\u001b[1;39m\n",
                        "            \u001b[1;39m}\u001b[0m\u001b[1;39m,\n",
                        "            \u001b[0m\u001b[34;1m\"images\"\u001b[0m\u001b[1;39m: \u001b[0m\u001b[1;39m[\n",
                        "              \u001b[1;39m{\n",
                        "                \u001b[0m\u001b[34;1m\"average_color\"\u001b[0m\u001b[1;39m: \u001b[0m\u001b[0;32m\"13C1AC\"\u001b[0m\u001b[1;39m,\n"
                    ]
                }
            ],
            "source": [
                "%%sh\n",
                "cat data/wallapop.json | jq -C | head -20"
            ]
        },
        {
            "cell_type": "markdown",
            "metadata": {},
            "source": [
                "Una vez determinada la estructura que tiene nuestro fichero JSON de información, notamos que los datos que queremos obtener se encuentran dentro de la ruta `data -> section -> payload -> items`. Dicha ruta se corresponde con un array (lista) de items, que son los productos de Wallapop; cada uno de ellos tiene unos campos, algunos simples como `id`, `user_id`, y otros compuestos como `price -> amount` o `price -> currency`.\n",
                "\n",
                "En primer lugar, observemos que si leemos el fichero JSON directamente no obtenemos una estructura muy amigable"
            ]
        },
        {
            "cell_type": "code",
            "execution_count": 13,
            "metadata": {},
            "outputs": [
                {
                    "name": "stdout",
                    "output_type": "stream",
                    "text": [
                        "+--------------------------------------------------+--------------------------------------------------+\n",
                        "|                                              data|                                              meta|\n",
                        "+--------------------------------------------------+--------------------------------------------------+\n",
                        "|{{{[{{none}, 24200, 1727444183886, Ventilador p...|{eyJhbGciOiJIUzI1NiJ9.eyJwYXJhbXMiOnsic2VhcmNoU...|\n",
                        "+--------------------------------------------------+--------------------------------------------------+\n",
                        "\n"
                    ]
                }
            ],
            "source": [
                "wallapop = spark.read.json(\"data/wallapop.json\", multiLine=True)\n",
                "wallapop.show(truncate=50)"
            ]
        },
        {
            "cell_type": "markdown",
            "metadata": {},
            "source": [
                "Esto es porque nos ha cogido las dos primeras claves más externas de nuestro fichero JSON, que son los campos `\"data\"` y `\"meta\"`.\n",
                "\n",
                "Observemos qué estructura hemos cargado haciendo un `printSchema` de nuestro DataFrame. De esta manera obtendremos información de los campos y sus tipos"
            ]
        },
        {
            "cell_type": "code",
            "execution_count": 14,
            "metadata": {},
            "outputs": [
                {
                    "name": "stdout",
                    "output_type": "stream",
                    "text": [
                        "root\n",
                        " |-- data: struct (nullable = true)\n",
                        " |    |-- section: struct (nullable = true)\n",
                        " |    |    |-- payload: struct (nullable = true)\n",
                        " |    |    |    |-- items: array (nullable = true)\n",
                        " |    |    |    |    |-- element: struct (containsNull = true)\n",
                        " |    |    |    |    |    |-- bump: struct (nullable = true)\n",
                        " |    |    |    |    |    |    |-- type: string (nullable = true)\n",
                        " |    |    |    |    |    |-- category_id: long (nullable = true)\n",
                        " |    |    |    |    |    |-- created_at: long (nullable = true)\n",
                        " |    |    |    |    |    |-- description: string (nullable = true)\n",
                        " |    |    |    |    |    |-- discount: struct (nullable = true)\n",
                        " |    |    |    |    |    |    |-- percentage: long (nullable = true)\n",
                        " |    |    |    |    |    |    |-- previous_price: struct (nullable = true)\n",
                        " |    |    |    |    |    |    |    |-- amount: double (nullable = true)\n",
                        " |    |    |    |    |    |    |    |-- currency: string (nullable = true)\n",
                        " |    |    |    |    |    |-- favorited: struct (nullable = true)\n",
                        " |    |    |    |    |    |    |-- flag: boolean (nullable = true)\n",
                        " |    |    |    |    |    |-- id: string (nullable = true)\n",
                        " |    |    |    |    |    |-- images: array (nullable = true)\n",
                        " |    |    |    |    |    |    |-- element: struct (containsNull = true)\n",
                        " |    |    |    |    |    |    |    |-- average_color: string (nullable = true)\n",
                        " |    |    |    |    |    |    |    |-- urls: struct (nullable = true)\n",
                        " |    |    |    |    |    |    |    |    |-- big: string (nullable = true)\n",
                        " |    |    |    |    |    |    |    |    |-- medium: string (nullable = true)\n",
                        " |    |    |    |    |    |    |    |    |-- small: string (nullable = true)\n",
                        " |    |    |    |    |    |-- is_favoriteable: struct (nullable = true)\n",
                        " |    |    |    |    |    |    |-- flag: boolean (nullable = true)\n",
                        " |    |    |    |    |    |-- is_refurbished: struct (nullable = true)\n",
                        " |    |    |    |    |    |    |-- flag: boolean (nullable = true)\n",
                        " |    |    |    |    |    |-- location: struct (nullable = true)\n",
                        " |    |    |    |    |    |    |-- city: string (nullable = true)\n",
                        " |    |    |    |    |    |    |-- country_code: string (nullable = true)\n",
                        " |    |    |    |    |    |    |-- latitude: double (nullable = true)\n",
                        " |    |    |    |    |    |    |-- longitude: double (nullable = true)\n",
                        " |    |    |    |    |    |    |-- postal_code: string (nullable = true)\n",
                        " |    |    |    |    |    |    |-- region: string (nullable = true)\n",
                        " |    |    |    |    |    |    |-- region2: string (nullable = true)\n",
                        " |    |    |    |    |    |-- modified_at: long (nullable = true)\n",
                        " |    |    |    |    |    |-- price: struct (nullable = true)\n",
                        " |    |    |    |    |    |    |-- amount: double (nullable = true)\n",
                        " |    |    |    |    |    |    |-- currency: string (nullable = true)\n",
                        " |    |    |    |    |    |-- reserved: struct (nullable = true)\n",
                        " |    |    |    |    |    |    |-- flag: boolean (nullable = true)\n",
                        " |    |    |    |    |    |-- shipping: struct (nullable = true)\n",
                        " |    |    |    |    |    |    |-- cost_configuration_id: string (nullable = true)\n",
                        " |    |    |    |    |    |    |-- item_is_shippable: boolean (nullable = true)\n",
                        " |    |    |    |    |    |    |-- user_allows_shipping: boolean (nullable = true)\n",
                        " |    |    |    |    |    |-- taxonomy: array (nullable = true)\n",
                        " |    |    |    |    |    |    |-- element: struct (containsNull = true)\n",
                        " |    |    |    |    |    |    |    |-- icon: string (nullable = true)\n",
                        " |    |    |    |    |    |    |    |-- id: long (nullable = true)\n",
                        " |    |    |    |    |    |    |    |-- name: string (nullable = true)\n",
                        " |    |    |    |    |    |-- title: string (nullable = true)\n",
                        " |    |    |    |    |    |-- user_id: string (nullable = true)\n",
                        " |    |    |    |    |    |-- web_slug: string (nullable = true)\n",
                        " |    |    |    |-- order: string (nullable = true)\n",
                        " |    |    |    |-- title: string (nullable = true)\n",
                        " |    |    |-- type: string (nullable = true)\n",
                        " |    |-- tracking: struct (nullable = true)\n",
                        " |    |    |-- location: struct (nullable = true)\n",
                        " |    |    |    |-- country_code: string (nullable = true)\n",
                        " |    |    |    |-- latitude: double (nullable = true)\n",
                        " |    |    |    |-- longitude: double (nullable = true)\n",
                        " |    |    |-- variant: string (nullable = true)\n",
                        " |-- meta: struct (nullable = true)\n",
                        " |    |-- next_page: string (nullable = true)\n",
                        " |    |-- next_section_type: string (nullable = true)\n",
                        "\n"
                    ]
                }
            ],
            "source": [
                "wallapop.printSchema()"
            ]
        },
        {
            "cell_type": "markdown",
            "metadata": {},
            "source": [
                "Ahora, para navegar a través de nuestro fichero JSON, podemos utilizar la sintáxis por puntos; es decir, para obtener el campo deseado `\"items\"`, que contiene la información de todos los productos, debemos acceder mediante `data.section.payload.items`."
            ]
        },
        {
            "cell_type": "code",
            "execution_count": 15,
            "metadata": {},
            "outputs": [
                {
                    "name": "stdout",
                    "output_type": "stream",
                    "text": [
                        "+----------------------------------------------------------------------------------------------------+\n",
                        "|                                                                                               items|\n",
                        "+----------------------------------------------------------------------------------------------------+\n",
                        "|[{{none}, 24200, 1727444183886, Ventilador portable para portátiles para la refrigeración de esto...|\n",
                        "+----------------------------------------------------------------------------------------------------+\n",
                        "\n"
                    ]
                }
            ],
            "source": [
                "wallapop.select(\"data.section.payload.items\").show(truncate=100)"
            ]
        },
        {
            "cell_type": "markdown",
            "metadata": {},
            "source": [
                "Sin embargo, seguimos sin apreciar una estructura legible. Esto es porque se nos está mostrando un único registro (fila) que contiene toda la información de los productos. Lo que nos interesa es que cada elemento de esta lista se muestre en un registro a parte. Para ello se utiliza la función SQL `explode`, que coge un array de elementos y devuelve un registro por cada uno de esos elementos. Veámoslo"
            ]
        },
        {
            "cell_type": "code",
            "execution_count": 16,
            "metadata": {},
            "outputs": [
                {
                    "name": "stdout",
                    "output_type": "stream",
                    "text": [
                        "+----------------------------------------------------------------------------------------------------+\n",
                        "|                                                                                                 col|\n",
                        "+----------------------------------------------------------------------------------------------------+\n",
                        "|{{none}, 24200, 1727444183886, Ventilador portable para portátiles para la refrigeración de estos...|\n",
                        "|{{none}, 24200, 1727425889144, Se vende mini impresora portatil. Se conecta mediante bluetooth y ...|\n",
                        "|{{none}, 24200, 1727460919304, Ordenador HP Compaq nc6400 con cargador y batería (2h). Formateado...|\n",
                        "|{{none}, 24200, 1727447381099, Windows 11 home \\nAMD Ryzem 5 5500U, 2100Mhz, 6 procesadores princ...|\n",
                        "|{{none}, 24200, 1727456331822, NUEVO blanco comprado el 15 de septiembre, con garantía.\\nNo nos s...|\n",
                        "|{{none}, 24200, 1727451202521, Proyector portátil 4k Wifi6,\\nBluetooth 5.0,130 pulgadas,180 grado...|\n",
                        "|{{none}, 24200, 1727460582620, PIEZAS PARA ORDENADOR. DESCRIPCIÓN EN FOTOS. SOLO ENVIO.  NO SE SI...|\n",
                        "|{{none}, 24200, 1727458469974, funda negra con bolsillo externo. forrado interior tacto suave. ex...|\n",
                        "|{{none}, 24200, 1727389069647, vendo pantallas de portátiles las cuales han sido desechadas de es...|\n",
                        "|{{none}, 24200, 1727456498039, Nebula Mars 3 Air 1080P proyector portátil, wifi, mini proyector p...|\n",
                        "|{{none}, 24200, 1727449508005, \\n•500 GB de almacenamiento\\n• RAM 8GB\\n• intel core 17\\n• con win...|\n",
                        "|{{none}, 24200, 1727456569464, HP Probook 440 G4 procesador I5 7200u 2,50Ghz - 2,70Ghz - 8Gb de m...|\n",
                        "|{{none}, 24200, 1727450168872, esta genial, NULL, {false}, v6ggngqgq56e, [{13C1AC, {https://cdn.w...|\n",
                        "|{{none}, 24200, 1727444927683, maletin para portatil, medidas 40x30 cm, negro, nuevo., NULL, {fal...|\n",
                        "|{{none}, 24200, 1727365954314, ‎Tamaño 8,89 x 33,02 x 10,16 cm.\\nla calidad de impresión es decen...|\n",
                        "|{{none}, 24200, 1727452818525, Consola portátil NUEVA a estrenar,con sd de 64 GB repleta de j.u.e...|\n",
                        "|{{none}, 24200, 1727390117535, 2 teclas para portátil HP con sus respectivos enganches: esc y f1,...|\n",
                        "|{{none}, 24200, 1727457300482, Consola portatil R36S nueva, con extra de funda a juego. Pantalla ...|\n",
                        "|{{none}, 24200, 1727457477684, Con funda. Sin cargador, NULL, {false}, v6ggngxdkl6e, [{13C1AC, {h...|\n",
                        "|{{none}, 24200, 1727448722635, Batería Portatil Solar de 20.000mAh.\\nBateria en perfecto estado, ...|\n",
                        "+----------------------------------------------------------------------------------------------------+\n",
                        "only showing top 20 rows\n",
                        "\n"
                    ]
                }
            ],
            "source": [
                "wallapop.select(f.explode(\"data.section.payload.items\")).show(truncate=100)"
            ]
        },
        {
            "cell_type": "markdown",
            "metadata": {},
            "source": [
                "Bien, ya hemos avanzado, disponemos ahora de un registro por cada producto de la lista `items`, como queríamos. Sin embargo, se sigue mostrando toda la información en una misma columna. Eso lo solucionamos seleccionando los campos anidados deseados. Por ejemplo, supongamos que queremos coger el `id` del producto, el `user_id` del usuario y la fecha de creación del anuncio `created_at`. Una buena manera de operar sería crear una nueva columna llamada, por ejemplo, `\"data\"`, que contenga los registros explotados del campo de `\"items\"`, y luego utilizar este nuevo campo para obtener la info de los otros campos descendientes"
            ]
        },
        {
            "cell_type": "code",
            "execution_count": 17,
            "metadata": {},
            "outputs": [
                {
                    "data": {
                        "text/html": [
                            "<table border='1'>\n",
                            "<tr><th>id</th><th>user_id</th><th>created_at</th></tr>\n",
                            "<tr><td>e658282neg6o</td><td>ejkx1revk16x</td><td>1727444183886</td></tr>\n",
                            "<tr><td>nz04x447dejo</td><td>v6g4e7nxnl6e</td><td>1727425889144</td></tr>\n",
                            "<tr><td>nz04x4eg3djo</td><td>wzyl0ok43x65</td><td>1727460919304</td></tr>\n",
                            "<tr><td>36e1g1rngkjd</td><td>nz0mw4e73djo</td><td>1727447381099</td></tr>\n",
                            "<tr><td>mzn2m2kmw7zn</td><td>kmznv8v2q06n</td><td>1727456331822</td></tr>\n",
                            "<tr><td>x6qm2m88gnjy</td><td>3zlg9e318pjx</td><td>1727451202521</td></tr>\n",
                            "<tr><td>pzp2324vr9j3</td><td>e65y9rpllgjo</td><td>1727460582620</td></tr>\n",
                            "<tr><td>3zl8x83m026x</td><td>436ew7keok6d</td><td>1727458469974</td></tr>\n",
                            "<tr><td>qjw4v4lvnqzo</td><td>3zlgne4p28jx</td><td>1727389069647</td></tr>\n",
                            "<tr><td>nz04x4p1qvjo</td><td>0j2yqrr3pnzy</td><td>1727456498039</td></tr>\n",
                            "<tr><td>pzp232mvo5j3</td><td>e65y3x4em2jo</td><td>1727449508005</td></tr>\n",
                            "<tr><td>qzme1edwxyjv</td><td>qnzxr7e9kmz2</td><td>1727456569464</td></tr>\n",
                            "<tr><td>v6ggngqgq56e</td><td>qjwyr2qex4zo</td><td>1727450168872</td></tr>\n",
                            "<tr><td>ejk8w8nxeyjx</td><td>wzylvgr4kv65</td><td>1727444927683</td></tr>\n",
                            "<tr><td>8z8k94n77lz3</td><td>xpzpko59wkj3</td><td>1727365954314</td></tr>\n",
                            "<tr><td>3zl8x8w8v86x</td><td>mznlo5rdoyjn</td><td>1727452818525</td></tr>\n",
                            "<tr><td>0j24k49d2ezy</td><td>ke657qrkkpjo</td><td>1727390117535</td></tr>\n",
                            "<tr><td>8z8k9k3xodz3</td><td>k3zl4w3el2jx</td><td>1727457300482</td></tr>\n",
                            "<tr><td>v6ggngxdkl6e</td><td>7v6gl11lw7je</td><td>1727457477684</td></tr>\n",
                            "<tr><td>pzp232mo3mj3</td><td>kp61kw0prdz5</td><td>1727448722635</td></tr>\n",
                            "</table>\n",
                            "only showing top 20 rows\n"
                        ],
                        "text/plain": [
                            "+------------+------------+-------------+\n",
                            "|          id|     user_id|   created_at|\n",
                            "+------------+------------+-------------+\n",
                            "|e658282neg6o|ejkx1revk16x|1727444183886|\n",
                            "|nz04x447dejo|v6g4e7nxnl6e|1727425889144|\n",
                            "|nz04x4eg3djo|wzyl0ok43x65|1727460919304|\n",
                            "|36e1g1rngkjd|nz0mw4e73djo|1727447381099|\n",
                            "|mzn2m2kmw7zn|kmznv8v2q06n|1727456331822|\n",
                            "|x6qm2m88gnjy|3zlg9e318pjx|1727451202521|\n",
                            "|pzp2324vr9j3|e65y9rpllgjo|1727460582620|\n",
                            "|3zl8x83m026x|436ew7keok6d|1727458469974|\n",
                            "|qjw4v4lvnqzo|3zlgne4p28jx|1727389069647|\n",
                            "|nz04x4p1qvjo|0j2yqrr3pnzy|1727456498039|\n",
                            "|pzp232mvo5j3|e65y3x4em2jo|1727449508005|\n",
                            "|qzme1edwxyjv|qnzxr7e9kmz2|1727456569464|\n",
                            "|v6ggngqgq56e|qjwyr2qex4zo|1727450168872|\n",
                            "|ejk8w8nxeyjx|wzylvgr4kv65|1727444927683|\n",
                            "|8z8k94n77lz3|xpzpko59wkj3|1727365954314|\n",
                            "|3zl8x8w8v86x|mznlo5rdoyjn|1727452818525|\n",
                            "|0j24k49d2ezy|ke657qrkkpjo|1727390117535|\n",
                            "|8z8k9k3xodz3|k3zl4w3el2jx|1727457300482|\n",
                            "|v6ggngxdkl6e|7v6gl11lw7je|1727457477684|\n",
                            "|pzp232mo3mj3|kp61kw0prdz5|1727448722635|\n",
                            "+------------+------------+-------------+\n",
                            "only showing top 20 rows"
                        ]
                    },
                    "execution_count": 17,
                    "metadata": {},
                    "output_type": "execute_result"
                }
            ],
            "source": [
                "wallapop.withColumn(\"data\", f.explode(\"data.section.payload.items\")).select(\n",
                "    \"data.id\", \"data.user_id\", \"data.created_at\"\n",
                ")"
            ]
        },
        {
            "cell_type": "markdown",
            "metadata": {},
            "source": [
                "Fenomenal. Ahora, siguiendo esta misma operación, obtendremos un dataset completo tabular de los campos del JSON más relevantes. Observemos que para todos los campos seleccionados, se hace una conversión de tipos (método `cast`) y se asigna un alias (método `alias`). Esto es para que la tabla resultante sea consistente, y tenga siempre el mismo esquema de salida.\n",
                "\n",
                "Notemos también que a campos que representan fechas pero se muestran como números enteros (milisegundos desde 1970, esto se conoce como UNIX time), como `created_at` o `modified_at`, les aplicamos una conversión mediante la función `from_unixtime` para representarlos como una fecha legible"
            ]
        },
        {
            "cell_type": "code",
            "execution_count": 18,
            "metadata": {},
            "outputs": [
                {
                    "name": "stdout",
                    "output_type": "stream",
                    "text": [
                        "root\n",
                        " |-- id: string (nullable = true)\n",
                        " |-- title: string (nullable = true)\n",
                        " |-- user_id: string (nullable = true)\n",
                        " |-- category_id: integer (nullable = true)\n",
                        " |-- created_at: timestamp (nullable = true)\n",
                        " |-- modified_at: timestamp (nullable = true)\n",
                        " |-- description: string (nullable = true)\n",
                        " |-- percentage: integer (nullable = true)\n",
                        " |-- previous_price_amount: double (nullable = true)\n",
                        " |-- previous_price_currency: string (nullable = true)\n",
                        " |-- favorited: boolean (nullable = true)\n",
                        " |-- is_favoriteable: boolean (nullable = true)\n",
                        " |-- is_refurbished: boolean (nullable = true)\n",
                        " |-- latitude: double (nullable = true)\n",
                        " |-- longitude: double (nullable = true)\n",
                        " |-- postal_code: string (nullable = true)\n",
                        " |-- city: string (nullable = true)\n",
                        " |-- region: string (nullable = true)\n",
                        " |-- region2: string (nullable = true)\n",
                        " |-- country_code: string (nullable = true)\n",
                        " |-- amount: double (nullable = true)\n",
                        " |-- currency: string (nullable = true)\n",
                        " |-- reserved: string (nullable = true)\n",
                        " |-- item_is_shippable: boolean (nullable = true)\n",
                        " |-- user_allows_shipping: boolean (nullable = true)\n",
                        " |-- __timestamp: timestamp (nullable = false)\n",
                        "\n"
                    ]
                },
                {
                    "name": "stderr",
                    "output_type": "stream",
                    "text": [
                        "24/09/27 20:51:25 WARN SparkStringUtils: Truncated the string representation of a plan since it was too large. This behavior can be adjusted by setting 'spark.sql.debug.maxToStringFields'.\n"
                    ]
                },
                {
                    "data": {
                        "text/html": [
                            "<table border='1'>\n",
                            "<tr><th>id</th><th>title</th><th>user_id</th><th>category_id</th><th>created_at</th><th>modified_at</th><th>description</th><th>percentage</th><th>previous_price_amount</th><th>previous_price_currency</th><th>favorited</th><th>is_favoriteable</th><th>is_refurbished</th><th>latitude</th><th>longitude</th><th>postal_code</th><th>city</th><th>region</th><th>region2</th><th>country_code</th><th>amount</th><th>currency</th><th>reserved</th><th>item_is_shippable</th><th>user_allows_shipping</th><th>__timestamp</th></tr>\n",
                            "<tr><td>e658282neg6o</td><td>ventilador port&aacute;til </td><td>ejkx1revk16x</td><td>24200</td><td>2024-09-27 15:36:23</td><td>2024-09-27 15:36:34</td><td>Ventilador portab...</td><td>NULL</td><td>NULL</td><td>NULL</td><td>false</td><td>true</td><td>false</td><td>40.23246875179884</td><td>-3.979483127852885</td><td>28607</td><td>El &Aacute;lamo</td><td>Comunidad de Madrid</td><td>Madrid</td><td>ES</td><td>5.0</td><td>EUR</td><td>false</td><td>true</td><td>false</td><td>2024-09-27 20:51:...</td></tr>\n",
                            "<tr><td>nz04x447dejo</td><td>Mini impresora po...</td><td>v6g4e7nxnl6e</td><td>24200</td><td>2024-09-27 10:31:29</td><td>2024-09-27 10:31:42</td><td>Se vende mini imp...</td><td>NULL</td><td>NULL</td><td>NULL</td><td>false</td><td>true</td><td>false</td><td>40.3050436</td><td>-3.7321354</td><td>28900</td><td>Getafe</td><td>Comunidad de Madrid</td><td>Madrid</td><td>ES</td><td>10.0</td><td>EUR</td><td>false</td><td>true</td><td>false</td><td>2024-09-27 20:51:...</td></tr>\n",
                            "<tr><td>nz04x4eg3djo</td><td>Port&aacute;til HP</td><td>wzyl0ok43x65</td><td>24200</td><td>2024-09-27 20:15:19</td><td>2024-09-27 20:15:29</td><td>Ordenador HP Comp...</td><td>NULL</td><td>NULL</td><td>NULL</td><td>false</td><td>true</td><td>false</td><td>40.21658585209891</td><td>-3.5658869161492475</td><td>28330</td><td>San Mart&iacute;n de la ...</td><td>Comunidad de Madrid</td><td>Madrid</td><td>ES</td><td>49.0</td><td>EUR</td><td>false</td><td>true</td><td>true</td><td>2024-09-27 20:51:...</td></tr>\n",
                            "<tr><td>36e1g1rngkjd</td><td>Port&aacute;til</td><td>nz0mw4e73djo</td><td>24200</td><td>2024-09-27 16:29:41</td><td>2024-09-27 16:29:51</td><td>Windows 11 home \\...</td><td>NULL</td><td>NULL</td><td>NULL</td><td>false</td><td>true</td><td>false</td><td>40.22316733838915</td><td>-3.641699137214548</td><td>28330</td><td>Poligono Industri...</td><td>Comunidad de Madrid</td><td>Madrid</td><td>ES</td><td>850.0</td><td>EUR</td><td>false</td><td>true</td><td>true</td><td>2024-09-27 20:51:...</td></tr>\n",
                            "<tr><td>mzn2m2kmw7zn</td><td>Ordenador portatil</td><td>kmznv8v2q06n</td><td>24200</td><td>2024-09-27 18:58:51</td><td>2024-09-27 19:26:34</td><td>NUEVO blanco comp...</td><td>NULL</td><td>NULL</td><td>NULL</td><td>false</td><td>true</td><td>false</td><td>40.20501457010712</td><td>-3.5702336876836434</td><td>28330</td><td>San Mart&iacute;n de la ...</td><td>Comunidad de Madrid</td><td>Madrid</td><td>ES</td><td>330.0</td><td>EUR</td><td>false</td><td>true</td><td>false</td><td>2024-09-27 20:51:...</td></tr>\n",
                            "<tr><td>x6qm2m88gnjy</td><td>Proyector port&aacute;til </td><td>3zlg9e318pjx</td><td>24200</td><td>2024-09-27 17:33:22</td><td>2024-09-27 18:32:44</td><td>Proyector port&aacute;ti...</td><td>NULL</td><td>NULL</td><td>NULL</td><td>false</td><td>true</td><td>false</td><td>40.35463163576748</td><td>-3.700728932308431</td><td>28021</td><td>Madrid</td><td>Comunidad de Madrid</td><td>Madrid</td><td>ES</td><td>45.0</td><td>EUR</td><td>true</td><td>true</td><td>false</td><td>2024-09-27 20:51:...</td></tr>\n",
                            "<tr><td>pzp2324vr9j3</td><td>ORDENADOR PORTATI...</td><td>e65y9rpllgjo</td><td>24200</td><td>2024-09-27 20:09:42</td><td>2024-09-27 20:09:53</td><td>PIEZAS PARA ORDEN...</td><td>NULL</td><td>NULL</td><td>NULL</td><td>false</td><td>true</td><td>false</td><td>40.457704764564234</td><td>-3.754137266350963</td><td>28040</td><td>Madrid</td><td>Comunidad de Madrid</td><td>Madrid</td><td>ES</td><td>30.0</td><td>EUR</td><td>false</td><td>true</td><td>true</td><td>2024-09-27 20:51:...</td></tr>\n",
                            "<tr><td>3zl8x83m026x</td><td>Funda portatil th...</td><td>436ew7keok6d</td><td>24200</td><td>2024-09-27 19:34:29</td><td>2024-09-27 19:34:40</td><td>funda negra con b...</td><td>NULL</td><td>NULL</td><td>NULL</td><td>false</td><td>true</td><td>false</td><td>40.444460875975295</td><td>-3.6541878236811187</td><td>28027</td><td>Madrid</td><td>Comunidad de Madrid</td><td>Madrid</td><td>ES</td><td>6.0</td><td>EUR</td><td>false</td><td>true</td><td>true</td><td>2024-09-27 20:51:...</td></tr>\n",
                            "<tr><td>qjw4v4lvnqzo</td><td>Pantallas de port...</td><td>3zlgne4p28jx</td><td>24200</td><td>2024-09-27 00:17:49</td><td>2024-09-27 00:17:59</td><td>vendo pantallas d...</td><td>NULL</td><td>NULL</td><td>NULL</td><td>false</td><td>true</td><td>false</td><td>40.45743719910675</td><td>-3.4686690029732072</td><td>28850</td><td>Torrej&oacute;n de Ardoz</td><td>Comunidad de Madrid</td><td>Madrid</td><td>ES</td><td>20.0</td><td>EUR</td><td>false</td><td>true</td><td>true</td><td>2024-09-27 20:51:...</td></tr>\n",
                            "<tr><td>nz04x4p1qvjo</td><td>Proyector port&aacute;ti...</td><td>0j2yqrr3pnzy</td><td>24200</td><td>2024-09-27 19:01:38</td><td>2024-09-27 19:01:48</td><td>Nebula Mars 3 Air...</td><td>NULL</td><td>NULL</td><td>NULL</td><td>false</td><td>true</td><td>false</td><td>40.42426170604599</td><td>-3.695479791260909</td><td>28070</td><td>Madrid</td><td>Comunidad de Madrid</td><td>Madrid</td><td>ES</td><td>470.0</td><td>EUR</td><td>false</td><td>true</td><td>true</td><td>2024-09-27 20:51:...</td></tr>\n",
                            "<tr><td>pzp232mvo5j3</td><td>PORTATIL HP</td><td>e65y3x4em2jo</td><td>24200</td><td>2024-09-27 17:05:08</td><td>2024-09-27 17:18:02</td><td>\\n&bull;500 GB de alma...</td><td>NULL</td><td>NULL</td><td>NULL</td><td>false</td><td>true</td><td>false</td><td>40.5735457896997</td><td>-3.9437009626605066</td><td>28250</td><td>Torrelodones</td><td>Comunidad de Madrid</td><td>Madrid</td><td>ES</td><td>80.0</td><td>EUR</td><td>true</td><td>true</td><td>true</td><td>2024-09-27 20:51:...</td></tr>\n",
                            "<tr><td>qzme1edwxyjv</td><td>Ordenador portati...</td><td>qnzxr7e9kmz2</td><td>24200</td><td>2024-09-27 19:02:49</td><td>2024-09-27 19:03:00</td><td>HP Probook 440 G4...</td><td>NULL</td><td>NULL</td><td>NULL</td><td>false</td><td>true</td><td>false</td><td>40.38851158148574</td><td>-3.757716321448765</td><td>28047</td><td>Madrid</td><td>Comunidad de Madrid</td><td>Madrid</td><td>ES</td><td>220.0</td><td>EUR</td><td>false</td><td>true</td><td>true</td><td>2024-09-27 20:51:...</td></tr>\n",
                            "<tr><td>v6ggngqgq56e</td><td>cargadpr portatil</td><td>qjwyr2qex4zo</td><td>24200</td><td>2024-09-27 17:16:08</td><td>2024-09-27 17:20:19</td><td>esta genial</td><td>NULL</td><td>NULL</td><td>NULL</td><td>false</td><td>true</td><td>false</td><td>39.97252244439486</td><td>-3.439383463833284</td><td>45350</td><td>Noblejas</td><td>Castilla-La Mancha</td><td>Toledo</td><td>ES</td><td>20.0</td><td>EUR</td><td>true</td><td>true</td><td>true</td><td>2024-09-27 20:51:...</td></tr>\n",
                            "<tr><td>ejk8w8nxeyjx</td><td>Maletin para port...</td><td>wzylvgr4kv65</td><td>24200</td><td>2024-09-27 15:48:47</td><td>2024-09-27 15:48:57</td><td>maletin para port...</td><td>NULL</td><td>NULL</td><td>NULL</td><td>false</td><td>true</td><td>false</td><td>40.42623128086043</td><td>-3.6385160524938174</td><td>28017</td><td>Madrid</td><td>Comunidad de Madrid</td><td>Madrid</td><td>ES</td><td>5.0</td><td>EUR</td><td>false</td><td>true</td><td>true</td><td>2024-09-27 20:51:...</td></tr>\n",
                            "<tr><td>8z8k94n77lz3</td><td>Impresora port&aacute;til</td><td>xpzpko59wkj3</td><td>24200</td><td>2024-09-26 17:52:34</td><td>2024-09-26 18:03:06</td><td>&lrm;Tama&ntilde;o 8,89 x 33...</td><td>54</td><td>551.0</td><td>EUR</td><td>false</td><td>true</td><td>false</td><td>40.20350476503987</td><td>-3.8072525979736342</td><td>28991</td><td>Torrej&oacute;n de la Ca...</td><td>Comunidad de Madrid</td><td>Madrid</td><td>ES</td><td>255.0</td><td>EUR</td><td>false</td><td>true</td><td>true</td><td>2024-09-27 20:51:...</td></tr>\n",
                            "<tr><td>3zl8x8w8v86x</td><td>Consola Port&aacute;til ...</td><td>mznlo5rdoyjn</td><td>24200</td><td>2024-09-27 18:00:18</td><td>2024-09-27 18:00:30</td><td>Consola port&aacute;til ...</td><td>NULL</td><td>NULL</td><td>NULL</td><td>false</td><td>true</td><td>false</td><td>40.33386078920616</td><td>-3.8709273891448257</td><td>28933</td><td>M&oacute;stoles</td><td>Comunidad de Madrid</td><td>Madrid</td><td>ES</td><td>45.0</td><td>EUR</td><td>false</td><td>true</td><td>true</td><td>2024-09-27 20:51:...</td></tr>\n",
                            "<tr><td>0j24k49d2ezy</td><td>2 teclas para por...</td><td>ke657qrkkpjo</td><td>24200</td><td>2024-09-27 00:35:17</td><td>2024-09-27 07:24:29</td><td>2 teclas para por...</td><td>NULL</td><td>NULL</td><td>NULL</td><td>false</td><td>true</td><td>false</td><td>40.477585643599106</td><td>-3.6918482453717743</td><td>28029</td><td>Madrid</td><td>Comunidad de Madrid</td><td>Madrid</td><td>ES</td><td>4.0</td><td>EUR</td><td>true</td><td>true</td><td>true</td><td>2024-09-27 20:51:...</td></tr>\n",
                            "<tr><td>8z8k9k3xodz3</td><td>Consola portatil ...</td><td>k3zl4w3el2jx</td><td>24200</td><td>2024-09-27 19:15:00</td><td>2024-09-27 19:15:10</td><td>Consola portatil ...</td><td>NULL</td><td>NULL</td><td>NULL</td><td>false</td><td>true</td><td>false</td><td>40.43532648436177</td><td>-3.626103168787882</td><td>28017</td><td>Madrid</td><td>Comunidad de Madrid</td><td>Madrid</td><td>ES</td><td>35.0</td><td>EUR</td><td>false</td><td>true</td><td>false</td><td>2024-09-27 20:51:...</td></tr>\n",
                            "<tr><td>v6ggngxdkl6e</td><td>Port&aacute;til HP Windo...</td><td>7v6gl11lw7je</td><td>24200</td><td>2024-09-27 19:17:57</td><td>2024-09-27 19:18:07</td><td>Con funda. Sin ca...</td><td>NULL</td><td>NULL</td><td>NULL</td><td>false</td><td>true</td><td>false</td><td>40.4474583210984</td><td>-3.5920358316294463</td><td>28022</td><td>Madrid</td><td>Comunidad de Madrid</td><td>Madrid</td><td>ES</td><td>10.0</td><td>EUR</td><td>false</td><td>true</td><td>true</td><td>2024-09-27 20:51:...</td></tr>\n",
                            "<tr><td>pzp232mo3mj3</td><td>Bater&iacute;a Port&aacute;til ...</td><td>kp61kw0prdz5</td><td>24200</td><td>2024-09-27 16:52:02</td><td>2024-09-27 16:52:13</td><td>Bater&iacute;a Portatil ...</td><td>NULL</td><td>NULL</td><td>NULL</td><td>false</td><td>true</td><td>false</td><td>40.369822322304884</td><td>-3.794419615655231</td><td>28917</td><td>La Fortuna</td><td>Comunidad de Madrid</td><td>Madrid</td><td>ES</td><td>30.0</td><td>EUR</td><td>false</td><td>true</td><td>true</td><td>2024-09-27 20:51:...</td></tr>\n",
                            "</table>\n",
                            "only showing top 20 rows\n"
                        ],
                        "text/plain": [
                            "+------------+--------------------+------------+-----------+-------------------+-------------------+--------------------+----------+---------------------+-----------------------+---------+---------------+--------------+------------------+-------------------+-----------+--------------------+-------------------+-------+------------+------+--------+--------+-----------------+--------------------+--------------------+\n",
                            "|          id|               title|     user_id|category_id|         created_at|        modified_at|         description|percentage|previous_price_amount|previous_price_currency|favorited|is_favoriteable|is_refurbished|          latitude|          longitude|postal_code|                city|             region|region2|country_code|amount|currency|reserved|item_is_shippable|user_allows_shipping|         __timestamp|\n",
                            "+------------+--------------------+------------+-----------+-------------------+-------------------+--------------------+----------+---------------------+-----------------------+---------+---------------+--------------+------------------+-------------------+-----------+--------------------+-------------------+-------+------------+------+--------+--------+-----------------+--------------------+--------------------+\n",
                            "|e658282neg6o|ventilador portátil |ejkx1revk16x|      24200|2024-09-27 15:36:23|2024-09-27 15:36:34|Ventilador portab...|      NULL|                 NULL|                   NULL|    false|           true|         false| 40.23246875179884| -3.979483127852885|      28607|            El Álamo|Comunidad de Madrid| Madrid|          ES|   5.0|     EUR|   false|             true|               false|2024-09-27 20:51:...|\n",
                            "|nz04x447dejo|Mini impresora po...|v6g4e7nxnl6e|      24200|2024-09-27 10:31:29|2024-09-27 10:31:42|Se vende mini imp...|      NULL|                 NULL|                   NULL|    false|           true|         false|        40.3050436|         -3.7321354|      28900|              Getafe|Comunidad de Madrid| Madrid|          ES|  10.0|     EUR|   false|             true|               false|2024-09-27 20:51:...|\n",
                            "|nz04x4eg3djo|         Portátil HP|wzyl0ok43x65|      24200|2024-09-27 20:15:19|2024-09-27 20:15:29|Ordenador HP Comp...|      NULL|                 NULL|                   NULL|    false|           true|         false| 40.21658585209891|-3.5658869161492475|      28330|San Martín de la ...|Comunidad de Madrid| Madrid|          ES|  49.0|     EUR|   false|             true|                true|2024-09-27 20:51:...|\n",
                            "|36e1g1rngkjd|            Portátil|nz0mw4e73djo|      24200|2024-09-27 16:29:41|2024-09-27 16:29:51|Windows 11 home \\...|      NULL|                 NULL|                   NULL|    false|           true|         false| 40.22316733838915| -3.641699137214548|      28330|Poligono Industri...|Comunidad de Madrid| Madrid|          ES| 850.0|     EUR|   false|             true|                true|2024-09-27 20:51:...|\n",
                            "|mzn2m2kmw7zn|  Ordenador portatil|kmznv8v2q06n|      24200|2024-09-27 18:58:51|2024-09-27 19:26:34|NUEVO blanco comp...|      NULL|                 NULL|                   NULL|    false|           true|         false| 40.20501457010712|-3.5702336876836434|      28330|San Martín de la ...|Comunidad de Madrid| Madrid|          ES| 330.0|     EUR|   false|             true|               false|2024-09-27 20:51:...|\n",
                            "|x6qm2m88gnjy| Proyector portátil |3zlg9e318pjx|      24200|2024-09-27 17:33:22|2024-09-27 18:32:44|Proyector portáti...|      NULL|                 NULL|                   NULL|    false|           true|         false| 40.35463163576748| -3.700728932308431|      28021|              Madrid|Comunidad de Madrid| Madrid|          ES|  45.0|     EUR|    true|             true|               false|2024-09-27 20:51:...|\n",
                            "|pzp2324vr9j3|ORDENADOR PORTATI...|e65y9rpllgjo|      24200|2024-09-27 20:09:42|2024-09-27 20:09:53|PIEZAS PARA ORDEN...|      NULL|                 NULL|                   NULL|    false|           true|         false|40.457704764564234| -3.754137266350963|      28040|              Madrid|Comunidad de Madrid| Madrid|          ES|  30.0|     EUR|   false|             true|                true|2024-09-27 20:51:...|\n",
                            "|3zl8x83m026x|Funda portatil th...|436ew7keok6d|      24200|2024-09-27 19:34:29|2024-09-27 19:34:40|funda negra con b...|      NULL|                 NULL|                   NULL|    false|           true|         false|40.444460875975295|-3.6541878236811187|      28027|              Madrid|Comunidad de Madrid| Madrid|          ES|   6.0|     EUR|   false|             true|                true|2024-09-27 20:51:...|\n",
                            "|qjw4v4lvnqzo|Pantallas de port...|3zlgne4p28jx|      24200|2024-09-27 00:17:49|2024-09-27 00:17:59|vendo pantallas d...|      NULL|                 NULL|                   NULL|    false|           true|         false| 40.45743719910675|-3.4686690029732072|      28850|   Torrejón de Ardoz|Comunidad de Madrid| Madrid|          ES|  20.0|     EUR|   false|             true|                true|2024-09-27 20:51:...|\n",
                            "|nz04x4p1qvjo|Proyector portáti...|0j2yqrr3pnzy|      24200|2024-09-27 19:01:38|2024-09-27 19:01:48|Nebula Mars 3 Air...|      NULL|                 NULL|                   NULL|    false|           true|         false| 40.42426170604599| -3.695479791260909|      28070|              Madrid|Comunidad de Madrid| Madrid|          ES| 470.0|     EUR|   false|             true|                true|2024-09-27 20:51:...|\n",
                            "|pzp232mvo5j3|         PORTATIL HP|e65y3x4em2jo|      24200|2024-09-27 17:05:08|2024-09-27 17:18:02|\\n•500 GB de alma...|      NULL|                 NULL|                   NULL|    false|           true|         false|  40.5735457896997|-3.9437009626605066|      28250|        Torrelodones|Comunidad de Madrid| Madrid|          ES|  80.0|     EUR|    true|             true|                true|2024-09-27 20:51:...|\n",
                            "|qzme1edwxyjv|Ordenador portati...|qnzxr7e9kmz2|      24200|2024-09-27 19:02:49|2024-09-27 19:03:00|HP Probook 440 G4...|      NULL|                 NULL|                   NULL|    false|           true|         false| 40.38851158148574| -3.757716321448765|      28047|              Madrid|Comunidad de Madrid| Madrid|          ES| 220.0|     EUR|   false|             true|                true|2024-09-27 20:51:...|\n",
                            "|v6ggngqgq56e|   cargadpr portatil|qjwyr2qex4zo|      24200|2024-09-27 17:16:08|2024-09-27 17:20:19|         esta genial|      NULL|                 NULL|                   NULL|    false|           true|         false| 39.97252244439486| -3.439383463833284|      45350|            Noblejas| Castilla-La Mancha| Toledo|          ES|  20.0|     EUR|    true|             true|                true|2024-09-27 20:51:...|\n",
                            "|ejk8w8nxeyjx|Maletin para port...|wzylvgr4kv65|      24200|2024-09-27 15:48:47|2024-09-27 15:48:57|maletin para port...|      NULL|                 NULL|                   NULL|    false|           true|         false| 40.42623128086043|-3.6385160524938174|      28017|              Madrid|Comunidad de Madrid| Madrid|          ES|   5.0|     EUR|   false|             true|                true|2024-09-27 20:51:...|\n",
                            "|8z8k94n77lz3|  Impresora portátil|xpzpko59wkj3|      24200|2024-09-26 17:52:34|2024-09-26 18:03:06|‎Tamaño 8,89 x 33...|        54|                551.0|                    EUR|    false|           true|         false| 40.20350476503987|-3.8072525979736342|      28991|Torrejón de la Ca...|Comunidad de Madrid| Madrid|          ES| 255.0|     EUR|   false|             true|                true|2024-09-27 20:51:...|\n",
                            "|3zl8x8w8v86x|Consola Portátil ...|mznlo5rdoyjn|      24200|2024-09-27 18:00:18|2024-09-27 18:00:30|Consola portátil ...|      NULL|                 NULL|                   NULL|    false|           true|         false| 40.33386078920616|-3.8709273891448257|      28933|            Móstoles|Comunidad de Madrid| Madrid|          ES|  45.0|     EUR|   false|             true|                true|2024-09-27 20:51:...|\n",
                            "|0j24k49d2ezy|2 teclas para por...|ke657qrkkpjo|      24200|2024-09-27 00:35:17|2024-09-27 07:24:29|2 teclas para por...|      NULL|                 NULL|                   NULL|    false|           true|         false|40.477585643599106|-3.6918482453717743|      28029|              Madrid|Comunidad de Madrid| Madrid|          ES|   4.0|     EUR|    true|             true|                true|2024-09-27 20:51:...|\n",
                            "|8z8k9k3xodz3|Consola portatil ...|k3zl4w3el2jx|      24200|2024-09-27 19:15:00|2024-09-27 19:15:10|Consola portatil ...|      NULL|                 NULL|                   NULL|    false|           true|         false| 40.43532648436177| -3.626103168787882|      28017|              Madrid|Comunidad de Madrid| Madrid|          ES|  35.0|     EUR|   false|             true|               false|2024-09-27 20:51:...|\n",
                            "|v6ggngxdkl6e|Portátil HP Windo...|7v6gl11lw7je|      24200|2024-09-27 19:17:57|2024-09-27 19:18:07|Con funda. Sin ca...|      NULL|                 NULL|                   NULL|    false|           true|         false|  40.4474583210984|-3.5920358316294463|      28022|              Madrid|Comunidad de Madrid| Madrid|          ES|  10.0|     EUR|   false|             true|                true|2024-09-27 20:51:...|\n",
                            "|pzp232mo3mj3|Batería Portátil ...|kp61kw0prdz5|      24200|2024-09-27 16:52:02|2024-09-27 16:52:13|Batería Portatil ...|      NULL|                 NULL|                   NULL|    false|           true|         false|40.369822322304884| -3.794419615655231|      28917|          La Fortuna|Comunidad de Madrid| Madrid|          ES|  30.0|     EUR|   false|             true|                true|2024-09-27 20:51:...|\n",
                            "+------------+--------------------+------------+-----------+-------------------+-------------------+--------------------+----------+---------------------+-----------------------+---------+---------------+--------------+------------------+-------------------+-----------+--------------------+-------------------+-------+------------+------+--------+--------+-----------------+--------------------+--------------------+\n",
                            "only showing top 20 rows"
                        ]
                    },
                    "metadata": {},
                    "output_type": "display_data"
                }
            ],
            "source": [
                "wallapop = (\n",
                "    spark.read.json(\"data/wallapop.json\", multiLine=True, primitivesAsString=True)\n",
                "    .withColumn(\"data\", f.explode(\"data.section.payload.items\"))\n",
                "    .select(\n",
                "        f.col(\"data.id\").cast(\"string\").alias(\"id\"),\n",
                "        f.col(\"data.title\").cast(\"string\").alias(\"title\"),\n",
                "        f.col(\"data.user_id\").cast(\"string\").alias(\"user_id\"),\n",
                "        f.col(\"data.category_id\").cast(\"int\").alias(\"category_id\"),\n",
                "        f.from_unixtime((f.col(\"data.created_at\") / 1000))\n",
                "        .cast(\"timestamp\")\n",
                "        .alias(\"created_at\"),\n",
                "        f.from_unixtime(f.col(\"data.modified_at\") / 1000)\n",
                "        .cast(\"timestamp\")\n",
                "        .alias(\"modified_at\"),\n",
                "        f.col(\"data.description\").cast(\"string\").alias(\"description\"),\n",
                "        f.col(\"data.discount.percentage\").cast(\"int\").alias(\"percentage\"),\n",
                "        f.col(\"data.discount.previous_price.amount\")\n",
                "        .cast(\"double\")\n",
                "        .alias(\"previous_price_amount\"),\n",
                "        f.col(\"data.discount.previous_price.currency\")\n",
                "        .cast(\"string\")\n",
                "        .alias(\"previous_price_currency\"),\n",
                "        f.col(\"data.favorited.flag\").cast(\"boolean\").alias(\"favorited\"),\n",
                "        f.col(\"data.is_favoriteable.flag\").cast(\"boolean\").alias(\"is_favoriteable\"),\n",
                "        f.col(\"data.is_refurbished.flag\").cast(\"boolean\").alias(\"is_refurbished\"),\n",
                "        f.col(\"data.location.latitude\").cast(\"double\").alias(\"latitude\"),\n",
                "        f.col(\"data.location.longitude\").cast(\"double\").alias(\"longitude\"),\n",
                "        f.col(\"data.location.postal_code\").cast(\"string\").alias(\"postal_code\"),\n",
                "        f.col(\"data.location.city\").cast(\"string\").alias(\"city\"),\n",
                "        f.col(\"data.location.region\").cast(\"string\").alias(\"region\"),\n",
                "        f.col(\"data.location.region2\").cast(\"string\").alias(\"region2\"),\n",
                "        f.col(\"data.location.country_code\").cast(\"string\").alias(\"country_code\"),\n",
                "        f.col(\"data.price.amount\").cast(\"double\").alias(\"amount\"),\n",
                "        f.col(\"data.price.currency\").cast(\"string\").alias(\"currency\"),\n",
                "        f.col(\"data.reserved.flag\").alias(\"reserved\"),\n",
                "        f.col(\"data.shipping.item_is_shippable\")\n",
                "        .cast(\"boolean\")\n",
                "        .alias(\"item_is_shippable\"),\n",
                "        f.col(\"data.shipping.user_allows_shipping\")\n",
                "        .cast(\"boolean\")\n",
                "        .alias(\"user_allows_shipping\"),\n",
                "        f.current_timestamp().alias(\"__timestamp\"),\n",
                "    )\n",
                ")\n",
                "wallapop.printSchema()\n",
                "display(wallapop)"
            ]
        },
        {
            "cell_type": "markdown",
            "metadata": {},
            "source": [
                "Genial, ya hemos leído y transformado nuestro set de datos inicialmente desestructurado en una tabla bien estructurada, con unos campos y tipos fijados.\n",
                "\n",
                "Ahora, para completar la ETL, almacenaremos esta tabla en el catálogo de datos de Spark. En este caso, al estar trabajando de manera local, dicho catálogo de datos estará localizado en esta misma ruta (`metastore_db/`, `spark-warehouse/`, `derby.log`), sin embargo, cuando trabajemos en un entorno corporativo, habitualmente el catálogo de datos se alojará en una arquitectura cloud, como AWS, Azure, GCP, Databricks, etc.\n",
                "\n",
                "Aunque no es necesario, es una buena práctica crear en primera instancia la tabla sobre la que escribiremos nuestro dataset, con un schema concreto, metadatos, etc."
            ]
        },
        {
            "cell_type": "code",
            "execution_count": 19,
            "metadata": {},
            "outputs": [
                {
                    "name": "stderr",
                    "output_type": "stream",
                    "text": [
                        "24/09/27 20:51:26 WARN HiveConf: HiveConf of name hive.stats.jdbc.timeout does not exist\n",
                        "24/09/27 20:51:26 WARN HiveConf: HiveConf of name hive.stats.retries.wait does not exist\n",
                        "24/09/27 20:51:28 WARN ObjectStore: Version information not found in metastore. hive.metastore.schema.verification is not enabled so recording the schema version 2.3.0\n",
                        "24/09/27 20:51:28 WARN ObjectStore: setMetaStoreSchemaVersion called but recording version is disabled: version = 2.3.0, comment = Set by MetaStore dadiego@127.0.1.1\n",
                        "24/09/27 20:51:28 WARN ObjectStore: Failed to get database default, returning NoSuchObjectException\n",
                        "24/09/27 20:51:29 WARN HiveExternalCatalog: Couldn't find corresponding Hive SerDe for data source provider delta. Persisting data source table `spark_catalog`.`default`.`wallapop` into Hive metastore in Spark SQL specific format, which is NOT compatible with Hive.\n",
                        "24/09/27 20:51:29 WARN SessionState: METASTORE_FILTER_HOOK will be ignored, since hive.security.authorization.manager is set to instance of HiveAuthorizerFactory.\n",
                        "24/09/27 20:51:29 WARN HiveConf: HiveConf of name hive.internal.ss.authz.settings.applied.marker does not exist\n",
                        "24/09/27 20:51:29 WARN HiveConf: HiveConf of name hive.stats.jdbc.timeout does not exist\n",
                        "24/09/27 20:51:29 WARN HiveConf: HiveConf of name hive.stats.retries.wait does not exist\n"
                    ]
                }
            ],
            "source": [
                "dt = (\n",
                "    DeltaTable.createIfNotExists(spark)\n",
                "    .addColumns(wallapop.schema)\n",
                "    .tableName(\"wallapop\")\n",
                "    .comment(\"Tabla de productos de Wallapop\")\n",
                "    .execute()\n",
                ")"
            ]
        },
        {
            "cell_type": "markdown",
            "metadata": {},
            "source": [
                "Con el método `createIfNotExists` estamos indicando que cree únicamente la tabla en el catálogo de datos si esta no existía previamente"
            ]
        },
        {
            "cell_type": "code",
            "execution_count": 20,
            "metadata": {},
            "outputs": [
                {
                    "name": "stderr",
                    "output_type": "stream",
                    "text": [
                        "                                                                                \r"
                    ]
                }
            ],
            "source": [
                "(\n",
                "    dt.alias(\"target\")\n",
                "    .merge(\n",
                "        wallapop.alias(\"source\"),\n",
                "        \"source.id = target.id AND source.user_id = target.user_id\",\n",
                "    )\n",
                "    .whenMatchedUpdateAll()\n",
                "    .whenNotMatchedInsertAll()\n",
                "    .execute()\n",
                ")"
            ]
        },
        {
            "cell_type": "markdown",
            "metadata": {},
            "source": [
                "Una vez creada la tabla e insertados los datos en la misma, podemos consultar el catálogo mediante SQL"
            ]
        },
        {
            "cell_type": "code",
            "execution_count": 21,
            "metadata": {},
            "outputs": [
                {
                    "data": {
                        "text/html": [
                            "<table border='1'>\n",
                            "<tr><th>id</th><th>title</th><th>user_id</th><th>category_id</th><th>created_at</th><th>modified_at</th><th>description</th><th>percentage</th><th>previous_price_amount</th><th>previous_price_currency</th><th>favorited</th><th>is_favoriteable</th><th>is_refurbished</th><th>latitude</th><th>longitude</th><th>postal_code</th><th>city</th><th>region</th><th>region2</th><th>country_code</th><th>amount</th><th>currency</th><th>reserved</th><th>item_is_shippable</th><th>user_allows_shipping</th><th>__timestamp</th></tr>\n",
                            "<tr><td>e658282neg6o</td><td>ventilador port&aacute;til </td><td>ejkx1revk16x</td><td>24200</td><td>2024-09-27 15:36:23</td><td>2024-09-27 15:36:34</td><td>Ventilador portab...</td><td>NULL</td><td>NULL</td><td>NULL</td><td>false</td><td>true</td><td>false</td><td>40.23246875179884</td><td>-3.979483127852885</td><td>28607</td><td>El &Aacute;lamo</td><td>Comunidad de Madrid</td><td>Madrid</td><td>ES</td><td>5.0</td><td>EUR</td><td>false</td><td>true</td><td>false</td><td>2024-09-27 20:51:...</td></tr>\n",
                            "<tr><td>nz04x447dejo</td><td>Mini impresora po...</td><td>v6g4e7nxnl6e</td><td>24200</td><td>2024-09-27 10:31:29</td><td>2024-09-27 10:31:42</td><td>Se vende mini imp...</td><td>NULL</td><td>NULL</td><td>NULL</td><td>false</td><td>true</td><td>false</td><td>40.3050436</td><td>-3.7321354</td><td>28900</td><td>Getafe</td><td>Comunidad de Madrid</td><td>Madrid</td><td>ES</td><td>10.0</td><td>EUR</td><td>false</td><td>true</td><td>false</td><td>2024-09-27 20:51:...</td></tr>\n",
                            "<tr><td>nz04x4eg3djo</td><td>Port&aacute;til HP</td><td>wzyl0ok43x65</td><td>24200</td><td>2024-09-27 20:15:19</td><td>2024-09-27 20:15:29</td><td>Ordenador HP Comp...</td><td>NULL</td><td>NULL</td><td>NULL</td><td>false</td><td>true</td><td>false</td><td>40.21658585209891</td><td>-3.5658869161492475</td><td>28330</td><td>San Mart&iacute;n de la ...</td><td>Comunidad de Madrid</td><td>Madrid</td><td>ES</td><td>49.0</td><td>EUR</td><td>false</td><td>true</td><td>true</td><td>2024-09-27 20:51:...</td></tr>\n",
                            "<tr><td>36e1g1rngkjd</td><td>Port&aacute;til</td><td>nz0mw4e73djo</td><td>24200</td><td>2024-09-27 16:29:41</td><td>2024-09-27 16:29:51</td><td>Windows 11 home \\...</td><td>NULL</td><td>NULL</td><td>NULL</td><td>false</td><td>true</td><td>false</td><td>40.22316733838915</td><td>-3.641699137214548</td><td>28330</td><td>Poligono Industri...</td><td>Comunidad de Madrid</td><td>Madrid</td><td>ES</td><td>850.0</td><td>EUR</td><td>false</td><td>true</td><td>true</td><td>2024-09-27 20:51:...</td></tr>\n",
                            "<tr><td>mzn2m2kmw7zn</td><td>Ordenador portatil</td><td>kmznv8v2q06n</td><td>24200</td><td>2024-09-27 18:58:51</td><td>2024-09-27 19:26:34</td><td>NUEVO blanco comp...</td><td>NULL</td><td>NULL</td><td>NULL</td><td>false</td><td>true</td><td>false</td><td>40.20501457010712</td><td>-3.5702336876836434</td><td>28330</td><td>San Mart&iacute;n de la ...</td><td>Comunidad de Madrid</td><td>Madrid</td><td>ES</td><td>330.0</td><td>EUR</td><td>false</td><td>true</td><td>false</td><td>2024-09-27 20:51:...</td></tr>\n",
                            "</table>\n"
                        ],
                        "text/plain": [
                            "+------------+--------------------+------------+-----------+-------------------+-------------------+--------------------+----------+---------------------+-----------------------+---------+---------------+--------------+-----------------+-------------------+-----------+--------------------+-------------------+-------+------------+------+--------+--------+-----------------+--------------------+--------------------+\n",
                            "|          id|               title|     user_id|category_id|         created_at|        modified_at|         description|percentage|previous_price_amount|previous_price_currency|favorited|is_favoriteable|is_refurbished|         latitude|          longitude|postal_code|                city|             region|region2|country_code|amount|currency|reserved|item_is_shippable|user_allows_shipping|         __timestamp|\n",
                            "+------------+--------------------+------------+-----------+-------------------+-------------------+--------------------+----------+---------------------+-----------------------+---------+---------------+--------------+-----------------+-------------------+-----------+--------------------+-------------------+-------+------------+------+--------+--------+-----------------+--------------------+--------------------+\n",
                            "|e658282neg6o|ventilador portátil |ejkx1revk16x|      24200|2024-09-27 15:36:23|2024-09-27 15:36:34|Ventilador portab...|      NULL|                 NULL|                   NULL|    false|           true|         false|40.23246875179884| -3.979483127852885|      28607|            El Álamo|Comunidad de Madrid| Madrid|          ES|   5.0|     EUR|   false|             true|               false|2024-09-27 20:51:...|\n",
                            "|nz04x447dejo|Mini impresora po...|v6g4e7nxnl6e|      24200|2024-09-27 10:31:29|2024-09-27 10:31:42|Se vende mini imp...|      NULL|                 NULL|                   NULL|    false|           true|         false|       40.3050436|         -3.7321354|      28900|              Getafe|Comunidad de Madrid| Madrid|          ES|  10.0|     EUR|   false|             true|               false|2024-09-27 20:51:...|\n",
                            "|nz04x4eg3djo|         Portátil HP|wzyl0ok43x65|      24200|2024-09-27 20:15:19|2024-09-27 20:15:29|Ordenador HP Comp...|      NULL|                 NULL|                   NULL|    false|           true|         false|40.21658585209891|-3.5658869161492475|      28330|San Martín de la ...|Comunidad de Madrid| Madrid|          ES|  49.0|     EUR|   false|             true|                true|2024-09-27 20:51:...|\n",
                            "|36e1g1rngkjd|            Portátil|nz0mw4e73djo|      24200|2024-09-27 16:29:41|2024-09-27 16:29:51|Windows 11 home \\...|      NULL|                 NULL|                   NULL|    false|           true|         false|40.22316733838915| -3.641699137214548|      28330|Poligono Industri...|Comunidad de Madrid| Madrid|          ES| 850.0|     EUR|   false|             true|                true|2024-09-27 20:51:...|\n",
                            "|mzn2m2kmw7zn|  Ordenador portatil|kmznv8v2q06n|      24200|2024-09-27 18:58:51|2024-09-27 19:26:34|NUEVO blanco comp...|      NULL|                 NULL|                   NULL|    false|           true|         false|40.20501457010712|-3.5702336876836434|      28330|San Martín de la ...|Comunidad de Madrid| Madrid|          ES| 330.0|     EUR|   false|             true|               false|2024-09-27 20:51:...|\n",
                            "+------------+--------------------+------------+-----------+-------------------+-------------------+--------------------+----------+---------------------+-----------------------+---------+---------------+--------------+-----------------+-------------------+-----------+--------------------+-------------------+-------+------------+------+--------+--------+-----------------+--------------------+--------------------+"
                        ]
                    },
                    "execution_count": 21,
                    "metadata": {},
                    "output_type": "execute_result"
                }
            ],
            "source": [
                "spark.sql(\"select * from wallapop limit 5\")"
            ]
        },
        {
            "cell_type": "code",
            "execution_count": null,
            "metadata": {},
            "outputs": [],
            "source": []
        },
        {
            "cell_type": "code",
            "execution_count": null,
            "metadata": {},
            "outputs": [],
            "source": []
        }
    ],
    "metadata": {
        "kernelspec": {
            "display_name": ".venv",
            "language": "python",
            "name": "python3"
        },
        "language_info": {
            "codemirror_mode": {
                "name": "ipython",
                "version": 3
            },
            "file_extension": ".py",
            "mimetype": "text/x-python",
            "name": "python",
            "nbconvert_exporter": "python",
            "pygments_lexer": "ipython3",
            "version": "3.10.12"
        }
    },
    "nbformat": 4,
    "nbformat_minor": 2
}
