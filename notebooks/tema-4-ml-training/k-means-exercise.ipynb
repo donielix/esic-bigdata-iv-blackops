{
    "cells": [
        {
            "cell_type": "markdown",
            "metadata": {},
            "source": [
                "# Ejercicio\n",
                "\n",
                "1. Lee el fichero alojado en `data/kmeans-exercise.csv`.\n",
                "2. Entrena diferentes algoritmos de Clustering para detectar las agrupaciones presentes en el conjunto de datos\n",
                "3. Dibuja un gráfico de puntos coloreados especificando el cluster al que pertenece cada punto.\n",
                "4. Compara los resultados obtenidos mediante el método no supervisado con las etiquetas que se muestran en la tabla, y evalúa el rendimiento del modelo"
            ]
        },
        {
            "cell_type": "code",
            "execution_count": null,
            "metadata": {},
            "outputs": [],
            "source": []
        },
        {
            "cell_type": "code",
            "execution_count": null,
            "metadata": {},
            "outputs": [],
            "source": []
        }
    ],
    "metadata": {
        "kernelspec": {
            "display_name": ".venv",
            "language": "python",
            "name": "python3"
        },
        "language_info": {
            "codemirror_mode": {
                "name": "ipython",
                "version": 3
            },
            "file_extension": ".py",
            "mimetype": "text/x-python",
            "name": "python",
            "nbconvert_exporter": "python",
            "pygments_lexer": "ipython3",
            "version": "3.11.10"
        }
    },
    "nbformat": 4,
    "nbformat_minor": 2
}
