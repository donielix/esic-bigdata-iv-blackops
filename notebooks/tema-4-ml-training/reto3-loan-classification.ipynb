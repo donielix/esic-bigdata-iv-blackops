{
    "cells": [
        {
            "cell_type": "code",
            "execution_count": 1,
            "metadata": {},
            "outputs": [],
            "source": [
                "from blackops.utils.catalog import read_table"
            ]
        },
        {
            "cell_type": "code",
            "execution_count": 2,
            "metadata": {},
            "outputs": [
                {
                    "name": "stderr",
                    "output_type": "stream",
                    "text": [
                        "24/11/12 01:45:35 WARN Utils: Your hostname, dadiego resolves to a loopback address: 127.0.1.1; using 192.168.104.128 instead (on interface eth1)\n",
                        "24/11/12 01:45:35 WARN Utils: Set SPARK_LOCAL_IP if you need to bind to another address\n"
                    ]
                },
                {
                    "name": "stdout",
                    "output_type": "stream",
                    "text": [
                        ":: loading settings :: url = jar:file:/home/dadiego/projects/esic-bigdata-iv-blackops/.venv/lib/python3.11/site-packages/pyspark/jars/ivy-2.5.1.jar!/org/apache/ivy/core/settings/ivysettings.xml\n"
                    ]
                },
                {
                    "name": "stderr",
                    "output_type": "stream",
                    "text": [
                        "Ivy Default Cache set to: /home/dadiego/.ivy2/cache\n",
                        "The jars for the packages stored in: /home/dadiego/.ivy2/jars\n",
                        "io.delta#delta-spark_2.12 added as a dependency\n",
                        "io.delta#delta-sharing-spark_2.12 added as a dependency\n",
                        ":: resolving dependencies :: org.apache.spark#spark-submit-parent-fe2d1347-d221-4ea5-945a-dbac960c9c76;1.0\n",
                        "\tconfs: [default]\n",
                        "\tfound io.delta#delta-spark_2.12;3.2.0 in central\n",
                        "\tfound io.delta#delta-storage;3.2.0 in central\n",
                        "\tfound org.antlr#antlr4-runtime;4.9.3 in central\n",
                        "\tfound io.delta#delta-sharing-spark_2.12;3.2.0 in central\n",
                        "\tfound io.delta#delta-sharing-client_2.12;1.0.5 in central\n",
                        "\tfound org.apache.httpcomponents#httpclient;4.5.13 in central\n",
                        "\tfound org.apache.httpcomponents#httpcore;4.4.13 in central\n",
                        "\tfound commons-logging#commons-logging;1.2 in central\n",
                        "\tfound commons-codec#commons-codec;1.11 in central\n",
                        ":: resolution report :: resolve 969ms :: artifacts dl 23ms\n",
                        "\t:: modules in use:\n",
                        "\tcommons-codec#commons-codec;1.11 from central in [default]\n",
                        "\tcommons-logging#commons-logging;1.2 from central in [default]\n",
                        "\tio.delta#delta-sharing-client_2.12;1.0.5 from central in [default]\n",
                        "\tio.delta#delta-sharing-spark_2.12;3.2.0 from central in [default]\n",
                        "\tio.delta#delta-spark_2.12;3.2.0 from central in [default]\n",
                        "\tio.delta#delta-storage;3.2.0 from central in [default]\n",
                        "\torg.antlr#antlr4-runtime;4.9.3 from central in [default]\n",
                        "\torg.apache.httpcomponents#httpclient;4.5.13 from central in [default]\n",
                        "\torg.apache.httpcomponents#httpcore;4.4.13 from central in [default]\n",
                        "\t---------------------------------------------------------------------\n",
                        "\t|                  |            modules            ||   artifacts   |\n",
                        "\t|       conf       | number| search|dwnlded|evicted|| number|dwnlded|\n",
                        "\t---------------------------------------------------------------------\n",
                        "\t|      default     |   9   |   0   |   0   |   0   ||   9   |   0   |\n",
                        "\t---------------------------------------------------------------------\n",
                        ":: retrieving :: org.apache.spark#spark-submit-parent-fe2d1347-d221-4ea5-945a-dbac960c9c76\n",
                        "\tconfs: [default]\n",
                        "\t0 artifacts copied, 9 already retrieved (0kB/37ms)\n",
                        "24/11/12 01:45:37 WARN NativeCodeLoader: Unable to load native-hadoop library for your platform... using builtin-java classes where applicable\n",
                        "Setting default log level to \"WARN\".\n",
                        "To adjust logging level use sc.setLogLevel(newLevel). For SparkR, use setLogLevel(newLevel).\n"
                    ]
                }
            ],
            "source": [
                "df = read_table(table_name=\"loan_data\")"
            ]
        },
        {
            "cell_type": "code",
            "execution_count": 4,
            "metadata": {},
            "outputs": [
                {
                    "data": {
                        "text/html": [
                            "<table border='1'>\n",
                            "<tr><th>person_age</th><th>person_gender</th><th>person_education</th><th>person_income</th><th>person_emp_exp</th><th>person_home_ownership</th><th>loan_amnt</th><th>loan_intent</th><th>loan_int_rate</th><th>loan_percent_income</th><th>cb_person_cred_hist_length</th><th>credit_score</th><th>previous_loan_defaults_on_file</th><th>loan_status</th></tr>\n",
                            "<tr><td>22.0</td><td>female</td><td>Master</td><td>71948.0</td><td>0</td><td>RENT</td><td>35000.0</td><td>PERSONAL</td><td>16.02</td><td>0.49</td><td>3.0</td><td>561</td><td>No</td><td>1</td></tr>\n",
                            "<tr><td>21.0</td><td>female</td><td>High School</td><td>12282.0</td><td>0</td><td>OWN</td><td>1000.0</td><td>EDUCATION</td><td>11.14</td><td>0.08</td><td>2.0</td><td>504</td><td>Yes</td><td>0</td></tr>\n",
                            "<tr><td>25.0</td><td>female</td><td>High School</td><td>12438.0</td><td>3</td><td>MORTGAGE</td><td>5500.0</td><td>MEDICAL</td><td>12.87</td><td>0.44</td><td>3.0</td><td>635</td><td>No</td><td>1</td></tr>\n",
                            "<tr><td>23.0</td><td>female</td><td>Bachelor</td><td>79753.0</td><td>0</td><td>RENT</td><td>35000.0</td><td>MEDICAL</td><td>15.23</td><td>0.44</td><td>2.0</td><td>675</td><td>No</td><td>1</td></tr>\n",
                            "<tr><td>24.0</td><td>male</td><td>Master</td><td>66135.0</td><td>1</td><td>RENT</td><td>35000.0</td><td>MEDICAL</td><td>14.27</td><td>0.53</td><td>4.0</td><td>586</td><td>No</td><td>1</td></tr>\n",
                            "<tr><td>21.0</td><td>female</td><td>High School</td><td>12951.0</td><td>0</td><td>OWN</td><td>2500.0</td><td>VENTURE</td><td>7.14</td><td>0.19</td><td>2.0</td><td>532</td><td>No</td><td>1</td></tr>\n",
                            "<tr><td>26.0</td><td>female</td><td>Bachelor</td><td>93471.0</td><td>1</td><td>RENT</td><td>35000.0</td><td>EDUCATION</td><td>12.42</td><td>0.37</td><td>3.0</td><td>701</td><td>No</td><td>1</td></tr>\n",
                            "<tr><td>24.0</td><td>female</td><td>High School</td><td>95550.0</td><td>5</td><td>RENT</td><td>35000.0</td><td>MEDICAL</td><td>11.11</td><td>0.37</td><td>4.0</td><td>585</td><td>No</td><td>1</td></tr>\n",
                            "<tr><td>24.0</td><td>female</td><td>Associate</td><td>100684.0</td><td>3</td><td>RENT</td><td>35000.0</td><td>PERSONAL</td><td>8.9</td><td>0.35</td><td>2.0</td><td>544</td><td>No</td><td>1</td></tr>\n",
                            "<tr><td>21.0</td><td>female</td><td>High School</td><td>12739.0</td><td>0</td><td>OWN</td><td>1600.0</td><td>VENTURE</td><td>14.74</td><td>0.13</td><td>3.0</td><td>640</td><td>No</td><td>1</td></tr>\n",
                            "<tr><td>22.0</td><td>female</td><td>High School</td><td>102985.0</td><td>0</td><td>RENT</td><td>35000.0</td><td>VENTURE</td><td>10.37</td><td>0.34</td><td>4.0</td><td>621</td><td>No</td><td>1</td></tr>\n",
                            "<tr><td>21.0</td><td>female</td><td>Associate</td><td>13113.0</td><td>0</td><td>OWN</td><td>4500.0</td><td>HOMEIMPROVEMENT</td><td>8.63</td><td>0.34</td><td>2.0</td><td>651</td><td>No</td><td>1</td></tr>\n",
                            "<tr><td>23.0</td><td>male</td><td>Bachelor</td><td>114860.0</td><td>3</td><td>RENT</td><td>35000.0</td><td>VENTURE</td><td>7.9</td><td>0.3</td><td>2.0</td><td>573</td><td>No</td><td>1</td></tr>\n",
                            "<tr><td>26.0</td><td>male</td><td>Master</td><td>130713.0</td><td>0</td><td>RENT</td><td>35000.0</td><td>EDUCATION</td><td>18.39</td><td>0.27</td><td>4.0</td><td>708</td><td>No</td><td>1</td></tr>\n",
                            "<tr><td>23.0</td><td>female</td><td>Associate</td><td>138998.0</td><td>0</td><td>RENT</td><td>35000.0</td><td>EDUCATION</td><td>7.9</td><td>0.25</td><td>4.0</td><td>583</td><td>No</td><td>0</td></tr>\n",
                            "<tr><td>23.0</td><td>female</td><td>Master</td><td>600891.0</td><td>5</td><td>MORTGAGE</td><td>30000.0</td><td>DEBTCONSOLIDATION</td><td>10.65</td><td>0.05</td><td>3.0</td><td>670</td><td>Yes</td><td>0</td></tr>\n",
                            "<tr><td>23.0</td><td>male</td><td>Bachelor</td><td>144943.0</td><td>0</td><td>RENT</td><td>35000.0</td><td>EDUCATION</td><td>7.9</td><td>0.24</td><td>4.0</td><td>663</td><td>No</td><td>0</td></tr>\n",
                            "<tr><td>23.0</td><td>female</td><td>High School</td><td>111369.0</td><td>0</td><td>RENT</td><td>35000.0</td><td>MEDICAL</td><td>20.0</td><td>0.31</td><td>4.0</td><td>694</td><td>No</td><td>1</td></tr>\n",
                            "<tr><td>23.0</td><td>male</td><td>Bachelor</td><td>136628.0</td><td>0</td><td>RENT</td><td>35000.0</td><td>DEBTCONSOLIDATION</td><td>18.25</td><td>0.26</td><td>4.0</td><td>709</td><td>No</td><td>1</td></tr>\n",
                            "<tr><td>24.0</td><td>female</td><td>Master</td><td>14283.0</td><td>1</td><td>MORTGAGE</td><td>1750.0</td><td>EDUCATION</td><td>10.99</td><td>0.12</td><td>2.0</td><td>679</td><td>No</td><td>1</td></tr>\n",
                            "</table>\n",
                            "only showing top 20 rows\n"
                        ],
                        "text/plain": [
                            "+----------+-------------+----------------+-------------+--------------+---------------------+---------+-----------------+-------------+-------------------+--------------------------+------------+------------------------------+-----------+\n",
                            "|person_age|person_gender|person_education|person_income|person_emp_exp|person_home_ownership|loan_amnt|      loan_intent|loan_int_rate|loan_percent_income|cb_person_cred_hist_length|credit_score|previous_loan_defaults_on_file|loan_status|\n",
                            "+----------+-------------+----------------+-------------+--------------+---------------------+---------+-----------------+-------------+-------------------+--------------------------+------------+------------------------------+-----------+\n",
                            "|      22.0|       female|          Master|      71948.0|             0|                 RENT|  35000.0|         PERSONAL|        16.02|               0.49|                       3.0|         561|                            No|          1|\n",
                            "|      21.0|       female|     High School|      12282.0|             0|                  OWN|   1000.0|        EDUCATION|        11.14|               0.08|                       2.0|         504|                           Yes|          0|\n",
                            "|      25.0|       female|     High School|      12438.0|             3|             MORTGAGE|   5500.0|          MEDICAL|        12.87|               0.44|                       3.0|         635|                            No|          1|\n",
                            "|      23.0|       female|        Bachelor|      79753.0|             0|                 RENT|  35000.0|          MEDICAL|        15.23|               0.44|                       2.0|         675|                            No|          1|\n",
                            "|      24.0|         male|          Master|      66135.0|             1|                 RENT|  35000.0|          MEDICAL|        14.27|               0.53|                       4.0|         586|                            No|          1|\n",
                            "|      21.0|       female|     High School|      12951.0|             0|                  OWN|   2500.0|          VENTURE|         7.14|               0.19|                       2.0|         532|                            No|          1|\n",
                            "|      26.0|       female|        Bachelor|      93471.0|             1|                 RENT|  35000.0|        EDUCATION|        12.42|               0.37|                       3.0|         701|                            No|          1|\n",
                            "|      24.0|       female|     High School|      95550.0|             5|                 RENT|  35000.0|          MEDICAL|        11.11|               0.37|                       4.0|         585|                            No|          1|\n",
                            "|      24.0|       female|       Associate|     100684.0|             3|                 RENT|  35000.0|         PERSONAL|          8.9|               0.35|                       2.0|         544|                            No|          1|\n",
                            "|      21.0|       female|     High School|      12739.0|             0|                  OWN|   1600.0|          VENTURE|        14.74|               0.13|                       3.0|         640|                            No|          1|\n",
                            "|      22.0|       female|     High School|     102985.0|             0|                 RENT|  35000.0|          VENTURE|        10.37|               0.34|                       4.0|         621|                            No|          1|\n",
                            "|      21.0|       female|       Associate|      13113.0|             0|                  OWN|   4500.0|  HOMEIMPROVEMENT|         8.63|               0.34|                       2.0|         651|                            No|          1|\n",
                            "|      23.0|         male|        Bachelor|     114860.0|             3|                 RENT|  35000.0|          VENTURE|          7.9|                0.3|                       2.0|         573|                            No|          1|\n",
                            "|      26.0|         male|          Master|     130713.0|             0|                 RENT|  35000.0|        EDUCATION|        18.39|               0.27|                       4.0|         708|                            No|          1|\n",
                            "|      23.0|       female|       Associate|     138998.0|             0|                 RENT|  35000.0|        EDUCATION|          7.9|               0.25|                       4.0|         583|                            No|          0|\n",
                            "|      23.0|       female|          Master|     600891.0|             5|             MORTGAGE|  30000.0|DEBTCONSOLIDATION|        10.65|               0.05|                       3.0|         670|                           Yes|          0|\n",
                            "|      23.0|         male|        Bachelor|     144943.0|             0|                 RENT|  35000.0|        EDUCATION|          7.9|               0.24|                       4.0|         663|                            No|          0|\n",
                            "|      23.0|       female|     High School|     111369.0|             0|                 RENT|  35000.0|          MEDICAL|         20.0|               0.31|                       4.0|         694|                            No|          1|\n",
                            "|      23.0|         male|        Bachelor|     136628.0|             0|                 RENT|  35000.0|DEBTCONSOLIDATION|        18.25|               0.26|                       4.0|         709|                            No|          1|\n",
                            "|      24.0|       female|          Master|      14283.0|             1|             MORTGAGE|   1750.0|        EDUCATION|        10.99|               0.12|                       2.0|         679|                            No|          1|\n",
                            "+----------+-------------+----------------+-------------+--------------+---------------------+---------+-----------------+-------------+-------------------+--------------------------+------------+------------------------------+-----------+\n",
                            "only showing top 20 rows"
                        ]
                    },
                    "execution_count": 4,
                    "metadata": {},
                    "output_type": "execute_result"
                }
            ],
            "source": [
                "df"
            ]
        },
        {
            "cell_type": "code",
            "execution_count": null,
            "metadata": {},
            "outputs": [],
            "source": []
        }
    ],
    "metadata": {
        "kernelspec": {
            "display_name": ".venv",
            "language": "python",
            "name": "python3"
        },
        "language_info": {
            "codemirror_mode": {
                "name": "ipython",
                "version": 3
            },
            "file_extension": ".py",
            "mimetype": "text/x-python",
            "name": "python",
            "nbconvert_exporter": "python",
            "pygments_lexer": "ipython3",
            "version": "3.11.10"
        }
    },
    "nbformat": 4,
    "nbformat_minor": 2
}
