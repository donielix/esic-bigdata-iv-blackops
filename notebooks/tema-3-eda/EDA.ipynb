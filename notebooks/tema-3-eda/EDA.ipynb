{
    "cells": [
        {
            "cell_type": "code",
            "execution_count": 1,
            "metadata": {},
            "outputs": [],
            "source": [
                "# !pip install git+https://github.com/donielix/esic-bigdata-iv-blackops.git > /dev/null"
            ]
        },
        {
            "cell_type": "markdown",
            "metadata": {},
            "source": [
                "### Importación de módulos necesarios\n",
                "Para leer los datos se necesita disponer de un fichero denominado `config.share`, puesto que es la llave de acceso al almacenamiento Cloud en donde residen las tablas. Lo más cómodo es situar dicho archivo en la misma ruta en que se ubica este Notebook, pero también puede localizarse en otra ruta y hacer referencia a la misma dentro de la función `read_table`."
            ]
        },
        {
            "cell_type": "code",
            "execution_count": 2,
            "metadata": {},
            "outputs": [],
            "source": [
                "from blackops.utils.catalog import read_table\n",
                "import pyspark.sql.functions as f"
            ]
        },
        {
            "cell_type": "code",
            "execution_count": 3,
            "metadata": {},
            "outputs": [
                {
                    "name": "stderr",
                    "output_type": "stream",
                    "text": [
                        "24/10/15 17:43:23 WARN Utils: Your hostname, dadiego resolves to a loopback address: 127.0.1.1; using 192.168.104.128 instead (on interface eth1)\n",
                        "24/10/15 17:43:23 WARN Utils: Set SPARK_LOCAL_IP if you need to bind to another address\n"
                    ]
                },
                {
                    "name": "stdout",
                    "output_type": "stream",
                    "text": [
                        ":: loading settings :: url = jar:file:/home/dadiego/projects/esic-bigdata-iv-blackops/.venv/lib/python3.10/site-packages/pyspark/jars/ivy-2.5.1.jar!/org/apache/ivy/core/settings/ivysettings.xml\n"
                    ]
                },
                {
                    "name": "stderr",
                    "output_type": "stream",
                    "text": [
                        "Ivy Default Cache set to: /home/dadiego/.ivy2/cache\n",
                        "The jars for the packages stored in: /home/dadiego/.ivy2/jars\n",
                        "io.delta#delta-spark_2.12 added as a dependency\n",
                        "io.delta#delta-sharing-spark_2.12 added as a dependency\n",
                        ":: resolving dependencies :: org.apache.spark#spark-submit-parent-1922133d-d65e-458d-ba69-e196b4fbe0bf;1.0\n",
                        "\tconfs: [default]\n",
                        "\tfound io.delta#delta-spark_2.12;3.2.0 in central\n",
                        "\tfound io.delta#delta-storage;3.2.0 in central\n",
                        "\tfound org.antlr#antlr4-runtime;4.9.3 in central\n",
                        "\tfound io.delta#delta-sharing-spark_2.12;3.2.0 in central\n",
                        "\tfound io.delta#delta-sharing-client_2.12;1.0.5 in central\n",
                        "\tfound org.apache.httpcomponents#httpclient;4.5.13 in central\n",
                        "\tfound org.apache.httpcomponents#httpcore;4.4.13 in central\n",
                        "\tfound commons-logging#commons-logging;1.2 in central\n",
                        "\tfound commons-codec#commons-codec;1.11 in central\n",
                        ":: resolution report :: resolve 377ms :: artifacts dl 17ms\n",
                        "\t:: modules in use:\n",
                        "\tcommons-codec#commons-codec;1.11 from central in [default]\n",
                        "\tcommons-logging#commons-logging;1.2 from central in [default]\n",
                        "\tio.delta#delta-sharing-client_2.12;1.0.5 from central in [default]\n",
                        "\tio.delta#delta-sharing-spark_2.12;3.2.0 from central in [default]\n",
                        "\tio.delta#delta-spark_2.12;3.2.0 from central in [default]\n",
                        "\tio.delta#delta-storage;3.2.0 from central in [default]\n",
                        "\torg.antlr#antlr4-runtime;4.9.3 from central in [default]\n",
                        "\torg.apache.httpcomponents#httpclient;4.5.13 from central in [default]\n",
                        "\torg.apache.httpcomponents#httpcore;4.4.13 from central in [default]\n",
                        "\t---------------------------------------------------------------------\n",
                        "\t|                  |            modules            ||   artifacts   |\n",
                        "\t|       conf       | number| search|dwnlded|evicted|| number|dwnlded|\n",
                        "\t---------------------------------------------------------------------\n",
                        "\t|      default     |   9   |   0   |   0   |   0   ||   9   |   0   |\n",
                        "\t---------------------------------------------------------------------\n",
                        ":: retrieving :: org.apache.spark#spark-submit-parent-1922133d-d65e-458d-ba69-e196b4fbe0bf\n",
                        "\tconfs: [default]\n",
                        "\t0 artifacts copied, 9 already retrieved (0kB/23ms)\n",
                        "24/10/15 17:43:24 WARN NativeCodeLoader: Unable to load native-hadoop library for your platform... using builtin-java classes where applicable\n",
                        "Setting default log level to \"WARN\".\n",
                        "To adjust logging level use sc.setLogLevel(newLevel). For SparkR, use setLogLevel(newLevel).\n"
                    ]
                }
            ],
            "source": [
                "df = read_table(table_name=\"cybersecurity_attacks\")"
            ]
        },
        {
            "cell_type": "code",
            "execution_count": 4,
            "metadata": {},
            "outputs": [
                {
                    "name": "stderr",
                    "output_type": "stream",
                    "text": [
                        "24/10/15 17:43:37 WARN SparkStringUtils: Truncated the string representation of a plan since it was too large. This behavior can be adjusted by setting 'spark.sql.debug.maxToStringFields'.\n",
                        "                                                                                \r"
                    ]
                },
                {
                    "data": {
                        "text/html": [
                            "<table border='1'>\n",
                            "<tr><th>Timestamp</th><th>Source IP Address</th><th>Destination IP Address</th><th>Source Port</th><th>Destination Port</th><th>Protocol</th><th>Packet Length</th><th>Packet Type</th><th>Traffic Type</th><th>Payload Data</th><th>Malware Indicators</th><th>Anomaly Scores</th><th>Alerts/Warnings</th><th>Attack Type</th><th>Attack Signature</th><th>Action Taken</th><th>Severity Level</th><th>User Information</th><th>Device Information</th><th>Network Segment</th><th>Geo-location Data</th><th>Proxy Information</th><th>Firewall Logs</th><th>IDS/IPS Alerts</th><th>Log Source</th></tr>\n",
                            "<tr><td>2023-05-30 08:33:58</td><td>103.216.15.12</td><td>84.9.164.252</td><td>31225</td><td>17616</td><td>ICMP</td><td>503</td><td>Data</td><td>HTTP</td><td>Qui natus odio asperiores nam. Optio nobis iusto accusamus ad perferendis esse at. Asperiores neq...</td><td>IoC Detected</td><td>28.67</td><td>NULL</td><td>Malware</td><td>Known Pattern B</td><td>Logged</td><td>Low</td><td>Reyansh Dugal</td><td>Mozilla/5.0 (compatible; MSIE 8.0; Windows NT 6.2; Trident/5.0)</td><td>Segment A</td><td>Jamshedpur, Sikkim</td><td>150.9.97.135</td><td>Log Data</td><td>NULL</td><td>Server</td></tr>\n",
                            "<tr><td>2020-08-26 09:08:30</td><td>78.199.217.198</td><td>66.191.137.154</td><td>17245</td><td>48166</td><td>ICMP</td><td>1174</td><td>Data</td><td>HTTP</td><td>Aperiam quos modi officiis veritatis rem. Omnis nulla dolore perspiciatis.\\nIllo animi mollitia v...</td><td>IoC Detected</td><td>51.5</td><td>NULL</td><td>Malware</td><td>Known Pattern A</td><td>Blocked</td><td>Low</td><td>Sumer Rana</td><td>Mozilla/5.0 (compatible; MSIE 8.0; Windows NT 6.0; Trident/4.0)</td><td>Segment B</td><td>Bilaspur, Nagaland</td><td>NULL</td><td>Log Data</td><td>NULL</td><td>Firewall</td></tr>\n",
                            "<tr><td>2022-11-13 09:23:25</td><td>63.79.210.48</td><td>198.219.82.17</td><td>16811</td><td>53600</td><td>UDP</td><td>306</td><td>Control</td><td>HTTP</td><td>Perferendis sapiente vitae soluta. Hic delectus quae nemo ea esse est rerum.</td><td>IoC Detected</td><td>87.42</td><td>Alert Triggered</td><td>DDoS</td><td>Known Pattern B</td><td>Ignored</td><td>Low</td><td>Himmat Karpe</td><td>Mozilla/5.0 (compatible; MSIE 9.0; Windows NT 6.2; Trident/5.0)</td><td>Segment C</td><td>Bokaro, Rajasthan</td><td>114.133.48.179</td><td>Log Data</td><td>Alert Data</td><td>Firewall</td></tr>\n",
                            "<tr><td>2023-07-02 12:38:46</td><td>163.42.196.10</td><td>101.228.192.255</td><td>20018</td><td>32534</td><td>UDP</td><td>385</td><td>Data</td><td>HTTP</td><td>Totam maxime beatae expedita explicabo porro labore. Minima ab fugit officiis dicta perspiciatis ...</td><td>NULL</td><td>15.79</td><td>Alert Triggered</td><td>Malware</td><td>Known Pattern B</td><td>Blocked</td><td>Medium</td><td>Fateh Kibe</td><td>Mozilla/5.0 (Macintosh; PPC Mac OS X 10_11_5; rv:1.9.6.20) Gecko/2583-02-14 13:30:10 Firefox/11.0</td><td>Segment B</td><td>Jaunpur, Rajasthan</td><td>NULL</td><td>NULL</td><td>Alert Data</td><td>Firewall</td></tr>\n",
                            "<tr><td>2023-07-16 15:11:07</td><td>71.166.185.76</td><td>189.243.174.238</td><td>6131</td><td>26646</td><td>TCP</td><td>1462</td><td>Data</td><td>DNS</td><td>Odit nesciunt dolorem nisi iste iusto. Animi voluptates soluta quis doloribus quas. Iure harum ni...</td><td>NULL</td><td>0.52</td><td>Alert Triggered</td><td>DDoS</td><td>Known Pattern B</td><td>Blocked</td><td>Low</td><td>Dhanush Chad</td><td>Mozilla/5.0 (compatible; MSIE 5.0; Windows NT 6.2; Trident/3.0)</td><td>Segment C</td><td>Anantapur, Tripura</td><td>149.6.110.119</td><td>NULL</td><td>Alert Data</td><td>Firewall</td></tr>\n",
                            "<tr><td>2022-10-28 15:14:27</td><td>198.102.5.160</td><td>147.190.155.133</td><td>17430</td><td>52805</td><td>UDP</td><td>1423</td><td>Data</td><td>HTTP</td><td>Repellat quas illum harum fugit incidunt exercitationem illum. Voluptate asperiores aperiam magna...</td><td>NULL</td><td>5.76</td><td>NULL</td><td>Malware</td><td>Known Pattern A</td><td>Logged</td><td>Medium</td><td>Zeeshan Viswanathan</td><td>Opera/8.58.(X11; Linux i686; nl-NL) Presto/2.9.170 Version/12.00</td><td>Segment C</td><td>Aurangabad, Meghalaya</td><td>NULL</td><td>NULL</td><td>NULL</td><td>Server</td></tr>\n",
                            "<tr><td>2022-05-16 19:55:43</td><td>97.253.103.59</td><td>77.16.101.53</td><td>26562</td><td>17416</td><td>TCP</td><td>379</td><td>Data</td><td>DNS</td><td>Qui numquam inventore repellat ratione fugit odit. Quidem est possimus voluptates reprehenderit v...</td><td>NULL</td><td>31.55</td><td>NULL</td><td>DDoS</td><td>Known Pattern B</td><td>Ignored</td><td>High</td><td>Ehsaan Dalal</td><td>Opera/9.24.(X11; Linux i686; fa-IR) Presto/2.9.175 Version/10.00</td><td>Segment A</td><td>Eluru, Manipur</td><td>NULL</td><td>Log Data</td><td>NULL</td><td>Server</td></tr>\n",
                            "<tr><td>2023-02-12 08:13:17</td><td>11.48.99.245</td><td>178.157.14.116</td><td>34489</td><td>20396</td><td>ICMP</td><td>1022</td><td>Data</td><td>DNS</td><td>Amet libero optio quidem praesentium libero. Ea magnam atque corporis ipsum iure iusto.\\nEveniet ...</td><td>IoC Detected</td><td>54.05</td><td>Alert Triggered</td><td>Intrusion</td><td>Known Pattern A</td><td>Logged</td><td>High</td><td>Yuvaan Dubey</td><td>Mozilla/5.0 (Macintosh; U; PPC Mac OS X 10_7_6) AppleWebKit/534.2 (KHTML, like Gecko) Chrome/45.0...</td><td>Segment A</td><td>Phagwara, Andhra Pradesh</td><td>192.31.159.5</td><td>Log Data</td><td>Alert Data</td><td>Firewall</td></tr>\n",
                            "<tr><td>2023-06-27 13:02:56</td><td>49.32.208.167</td><td>72.202.237.9</td><td>56296</td><td>20857</td><td>TCP</td><td>1281</td><td>Control</td><td>FTP</td><td>Veritatis nihil amet atque molestias aperiam minus. Velit hic aperiam iusto vitae nulla dolor max...</td><td>IoC Detected</td><td>56.34</td><td>Alert Triggered</td><td>Intrusion</td><td>Known Pattern A</td><td>Blocked</td><td>High</td><td>Zaina Iyer</td><td>Mozilla/5.0 (Macintosh; U; PPC Mac OS X 10_5_8) AppleWebKit/536.1 (KHTML, like Gecko) Chrome/38.0...</td><td>Segment B</td><td>Ambala, Tripura</td><td>NULL</td><td>Log Data</td><td>Alert Data</td><td>Server</td></tr>\n",
                            "<tr><td>2021-08-16 00:29:04</td><td>114.109.149.113</td><td>160.88.194.172</td><td>37918</td><td>50039</td><td>UDP</td><td>224</td><td>Data</td><td>HTTP</td><td>Consequatur ipsum autem reprehenderit quae. Doloribus dicta laboriosam porro consequatur dicta de...</td><td>NULL</td><td>16.51</td><td>Alert Triggered</td><td>Malware</td><td>Known Pattern B</td><td>Blocked</td><td>Medium</td><td>Mishti Chaudhuri</td><td>Mozilla/5.0 (Windows; U; Windows NT 6.0) AppleWebKit/533.28.5 (KHTML, like Gecko) Version/4.0 Saf...</td><td>Segment A</td><td>Rampur, Mizoram</td><td>87.128.245.244</td><td>NULL</td><td>NULL</td><td>Server</td></tr>\n",
                            "<tr><td>2022-07-20 15:28:50</td><td>177.21.83.200</td><td>196.218.124.169</td><td>35538</td><td>35006</td><td>ICMP</td><td>661</td><td>Data</td><td>HTTP</td><td>Sequi maxime voluptate ea. Eius officiis eaque. Nesciunt aspernatur rerum qui aperiam earum.\\nEiu...</td><td>NULL</td><td>24.91</td><td>Alert Triggered</td><td>Malware</td><td>Known Pattern B</td><td>Ignored</td><td>Medium</td><td>Hunar Sem</td><td>Mozilla/5.0 (iPod; U; CPU iPhone OS 4_3 like Mac OS X; xh-ZA) AppleWebKit/534.25.1 (KHTML, like G...</td><td>Segment B</td><td>Gangtok, Haryana</td><td>29.161.99.247</td><td>NULL</td><td>NULL</td><td>Server</td></tr>\n",
                            "<tr><td>2022-06-26 17:15:50</td><td>92.4.25.171</td><td>112.43.185.24</td><td>10903</td><td>36817</td><td>TCP</td><td>281</td><td>Control</td><td>HTTP</td><td>Nihil praesentium asperiores omnis ullam libero. Facilis eius aspernatur perspiciatis inventore v...</td><td>NULL</td><td>86.07</td><td>NULL</td><td>Malware</td><td>Known Pattern B</td><td>Ignored</td><td>Low</td><td>Mehul Raj</td><td>Opera/8.38.(X11; Linux x86_64; pt-BR) Presto/2.9.175 Version/12.00</td><td>Segment B</td><td>Nandyal, Mizoram</td><td>NULL</td><td>NULL</td><td>NULL</td><td>Firewall</td></tr>\n",
                            "<tr><td>2020-09-30 23:35:31</td><td>57.91.207.84</td><td>98.96.110.38</td><td>53471</td><td>38048</td><td>ICMP</td><td>64</td><td>Control</td><td>DNS</td><td>Earum sit est et eaque ipsam. Vero repellendus error iusto eveniet.</td><td>NULL</td><td>74.2</td><td>Alert Triggered</td><td>Intrusion</td><td>Known Pattern A</td><td>Blocked</td><td>Medium</td><td>Vaibhav Kala</td><td>Opera/8.54.(Windows NT 6.0; tg-TJ) Presto/2.9.170 Version/12.00</td><td>Segment B</td><td>Silchar, Kerala</td><td>NULL</td><td>Log Data</td><td>Alert Data</td><td>Server</td></tr>\n",
                            "<tr><td>2021-01-13 03:30:18</td><td>80.28.21.123</td><td>111.204.103.106</td><td>43729</td><td>10845</td><td>ICMP</td><td>1341</td><td>Data</td><td>HTTP</td><td>Ab voluptatibus nam aperiam. Est sed nostrum animi quae quas. Rerum minus possimus quis.\\nCupidit...</td><td>NULL</td><td>62.14</td><td>NULL</td><td>Malware</td><td>Known Pattern A</td><td>Ignored</td><td>Low</td><td>Siya Gera</td><td>Mozilla/5.0 (compatible; MSIE 7.0; Windows NT 10.0; Trident/4.1)</td><td>Segment C</td><td>Gudivada, Odisha</td><td>59.131.15.72</td><td>NULL</td><td>NULL</td><td>Firewall</td></tr>\n",
                            "<tr><td>2023-02-01 14:17:17</td><td>54.163.130.178</td><td>62.112.149.214</td><td>47795</td><td>35243</td><td>UDP</td><td>913</td><td>Data</td><td>DNS</td><td>Sit doloremque explicabo. Cupiditate placeat exercitationem. Dolores rerum iste necessitatibus li...</td><td>NULL</td><td>72.65</td><td>Alert Triggered</td><td>Malware</td><td>Known Pattern B</td><td>Logged</td><td>High</td><td>Inaaya  Soman</td><td>Mozilla/5.0 (X11; Linux i686; rv:1.9.7.20) Gecko/5645-10-22 09:50:59 Firefox/3.8</td><td>Segment B</td><td>Silchar, Maharashtra</td><td>155.121.88.187</td><td>NULL</td><td>NULL</td><td>Firewall</td></tr>\n",
                            "<tr><td>2023-09-15 22:35:21</td><td>130.163.192.252</td><td>12.192.2.112</td><td>24912</td><td>21176</td><td>TCP</td><td>425</td><td>Data</td><td>DNS</td><td>Voluptates nam doloremque. Eius amet officiis aperiam delectus mollitia pariatur. Ducimus aut in ...</td><td>NULL</td><td>91.56</td><td>Alert Triggered</td><td>Intrusion</td><td>Known Pattern B</td><td>Logged</td><td>Medium</td><td>Shaan Subramaniam</td><td>Opera/8.85.(X11; Linux x86_64; sk-SK) Presto/2.9.163 Version/11.00</td><td>Segment C</td><td>Bhiwandi, Tripura</td><td>NULL</td><td>Log Data</td><td>NULL</td><td>Firewall</td></tr>\n",
                            "<tr><td>2023-04-18 18:46:46</td><td>4.255.187.165</td><td>136.159.186.239</td><td>39934</td><td>5259</td><td>TCP</td><td>838</td><td>Control</td><td>HTTP</td><td>Sed facere culpa aliquam. Adipisci error quisquam reprehenderit itaque fugit illum. Minima exerci...</td><td>NULL</td><td>43.83</td><td>Alert Triggered</td><td>DDoS</td><td>Known Pattern B</td><td>Ignored</td><td>High</td><td>Samarth Ratti</td><td>Opera/8.72.(Windows NT 6.1; ia-FR) Presto/2.9.160 Version/12.00</td><td>Segment B</td><td>Solapur, Telangana</td><td>NULL</td><td>Log Data</td><td>NULL</td><td>Server</td></tr>\n",
                            "<tr><td>2023-02-21 08:02:55</td><td>212.164.196.41</td><td>32.26.31.49</td><td>16513</td><td>50583</td><td>TCP</td><td>969</td><td>Data</td><td>HTTP</td><td>Dolore nisi voluptatem. Debitis explicabo fuga perferendis esse omnis.\\nSit voluptatibus aliquid ...</td><td>NULL</td><td>40.46</td><td>NULL</td><td>DDoS</td><td>Known Pattern A</td><td>Logged</td><td>Low</td><td>Shayak Kapadia</td><td>Mozilla/5.0 (X11; Linux i686) AppleWebKit/536.0 (KHTML, like Gecko) Chrome/46.0.873.0 Safari/536.0</td><td>Segment B</td><td>Darbhanga, Mizoram</td><td>20.252.145.34</td><td>Log Data</td><td>Alert Data</td><td>Firewall</td></tr>\n",
                            "<tr><td>2020-12-29 03:50:47</td><td>119.101.120.119</td><td>47.125.34.52</td><td>4510</td><td>26783</td><td>TCP</td><td>124</td><td>Control</td><td>DNS</td><td>Qui sapiente laboriosam minima veritatis impedit vel. Placeat itaque incidunt non. Consequuntur q...</td><td>NULL</td><td>44.75</td><td>Alert Triggered</td><td>DDoS</td><td>Known Pattern B</td><td>Ignored</td><td>High</td><td>Faiyaz Sathe</td><td>Mozilla/5.0 (compatible; MSIE 6.0; Windows NT 10.0; Trident/4.0)</td><td>Segment C</td><td>Rampur, Rajasthan</td><td>NULL</td><td>NULL</td><td>NULL</td><td>Firewall</td></tr>\n",
                            "<tr><td>2020-07-27 02:00:53</td><td>104.176.150.78</td><td>110.80.185.102</td><td>55147</td><td>17595</td><td>TCP</td><td>461</td><td>Data</td><td>HTTP</td><td>Ipsa est placeat cumque ut id. Quisquam provident quidem beatae. Corporis nam aut expedita repreh...</td><td>IoC Detected</td><td>13.19</td><td>NULL</td><td>DDoS</td><td>Known Pattern B</td><td>Ignored</td><td>High</td><td>Zara Sachar</td><td>Mozilla/5.0 (iPhone; CPU iPhone OS 12_4_8 like Mac OS X) AppleWebKit/533.2 (KHTML, like Gecko) Fx...</td><td>Segment B</td><td>Ahmednagar, Uttarakhand</td><td>106.203.136.99</td><td>Log Data</td><td>Alert Data</td><td>Server</td></tr>\n",
                            "</table>\n",
                            "only showing top 20 rows\n"
                        ],
                        "text/plain": [
                            "+-------------------+-----------------+----------------------+-----------+----------------+--------+-------------+-----------+------------+----------------------------------------------------------------------------------------------------+------------------+--------------+---------------+-----------+----------------+------------+--------------+-------------------+----------------------------------------------------------------------------------------------------+---------------+------------------------+-----------------+-------------+--------------+----------+\n",
                            "|          Timestamp|Source IP Address|Destination IP Address|Source Port|Destination Port|Protocol|Packet Length|Packet Type|Traffic Type|                                                                                        Payload Data|Malware Indicators|Anomaly Scores|Alerts/Warnings|Attack Type|Attack Signature|Action Taken|Severity Level|   User Information|                                                                                  Device Information|Network Segment|       Geo-location Data|Proxy Information|Firewall Logs|IDS/IPS Alerts|Log Source|\n",
                            "+-------------------+-----------------+----------------------+-----------+----------------+--------+-------------+-----------+------------+----------------------------------------------------------------------------------------------------+------------------+--------------+---------------+-----------+----------------+------------+--------------+-------------------+----------------------------------------------------------------------------------------------------+---------------+------------------------+-----------------+-------------+--------------+----------+\n",
                            "|2023-05-30 08:33:58|    103.216.15.12|          84.9.164.252|      31225|           17616|    ICMP|          503|       Data|        HTTP|Qui natus odio asperiores nam. Optio nobis iusto accusamus ad perferendis esse at. Asperiores neq...|      IoC Detected|         28.67|           NULL|    Malware| Known Pattern B|      Logged|           Low|      Reyansh Dugal|                                     Mozilla/5.0 (compatible; MSIE 8.0; Windows NT 6.2; Trident/5.0)|      Segment A|      Jamshedpur, Sikkim|     150.9.97.135|     Log Data|          NULL|    Server|\n",
                            "|2020-08-26 09:08:30|   78.199.217.198|        66.191.137.154|      17245|           48166|    ICMP|         1174|       Data|        HTTP|Aperiam quos modi officiis veritatis rem. Omnis nulla dolore perspiciatis.\\nIllo animi mollitia v...|      IoC Detected|          51.5|           NULL|    Malware| Known Pattern A|     Blocked|           Low|         Sumer Rana|                                     Mozilla/5.0 (compatible; MSIE 8.0; Windows NT 6.0; Trident/4.0)|      Segment B|      Bilaspur, Nagaland|             NULL|     Log Data|          NULL|  Firewall|\n",
                            "|2022-11-13 09:23:25|     63.79.210.48|         198.219.82.17|      16811|           53600|     UDP|          306|    Control|        HTTP|                        Perferendis sapiente vitae soluta. Hic delectus quae nemo ea esse est rerum.|      IoC Detected|         87.42|Alert Triggered|       DDoS| Known Pattern B|     Ignored|           Low|       Himmat Karpe|                                     Mozilla/5.0 (compatible; MSIE 9.0; Windows NT 6.2; Trident/5.0)|      Segment C|       Bokaro, Rajasthan|   114.133.48.179|     Log Data|    Alert Data|  Firewall|\n",
                            "|2023-07-02 12:38:46|    163.42.196.10|       101.228.192.255|      20018|           32534|     UDP|          385|       Data|        HTTP|Totam maxime beatae expedita explicabo porro labore. Minima ab fugit officiis dicta perspiciatis ...|              NULL|         15.79|Alert Triggered|    Malware| Known Pattern B|     Blocked|        Medium|         Fateh Kibe|   Mozilla/5.0 (Macintosh; PPC Mac OS X 10_11_5; rv:1.9.6.20) Gecko/2583-02-14 13:30:10 Firefox/11.0|      Segment B|      Jaunpur, Rajasthan|             NULL|         NULL|    Alert Data|  Firewall|\n",
                            "|2023-07-16 15:11:07|    71.166.185.76|       189.243.174.238|       6131|           26646|     TCP|         1462|       Data|         DNS|Odit nesciunt dolorem nisi iste iusto. Animi voluptates soluta quis doloribus quas. Iure harum ni...|              NULL|          0.52|Alert Triggered|       DDoS| Known Pattern B|     Blocked|           Low|       Dhanush Chad|                                     Mozilla/5.0 (compatible; MSIE 5.0; Windows NT 6.2; Trident/3.0)|      Segment C|      Anantapur, Tripura|    149.6.110.119|         NULL|    Alert Data|  Firewall|\n",
                            "|2022-10-28 15:14:27|    198.102.5.160|       147.190.155.133|      17430|           52805|     UDP|         1423|       Data|        HTTP|Repellat quas illum harum fugit incidunt exercitationem illum. Voluptate asperiores aperiam magna...|              NULL|          5.76|           NULL|    Malware| Known Pattern A|      Logged|        Medium|Zeeshan Viswanathan|                                    Opera/8.58.(X11; Linux i686; nl-NL) Presto/2.9.170 Version/12.00|      Segment C|   Aurangabad, Meghalaya|             NULL|         NULL|          NULL|    Server|\n",
                            "|2022-05-16 19:55:43|    97.253.103.59|          77.16.101.53|      26562|           17416|     TCP|          379|       Data|         DNS|Qui numquam inventore repellat ratione fugit odit. Quidem est possimus voluptates reprehenderit v...|              NULL|         31.55|           NULL|       DDoS| Known Pattern B|     Ignored|          High|       Ehsaan Dalal|                                    Opera/9.24.(X11; Linux i686; fa-IR) Presto/2.9.175 Version/10.00|      Segment A|          Eluru, Manipur|             NULL|     Log Data|          NULL|    Server|\n",
                            "|2023-02-12 08:13:17|     11.48.99.245|        178.157.14.116|      34489|           20396|    ICMP|         1022|       Data|         DNS|Amet libero optio quidem praesentium libero. Ea magnam atque corporis ipsum iure iusto.\\nEveniet ...|      IoC Detected|         54.05|Alert Triggered|  Intrusion| Known Pattern A|      Logged|          High|       Yuvaan Dubey|Mozilla/5.0 (Macintosh; U; PPC Mac OS X 10_7_6) AppleWebKit/534.2 (KHTML, like Gecko) Chrome/45.0...|      Segment A|Phagwara, Andhra Pradesh|     192.31.159.5|     Log Data|    Alert Data|  Firewall|\n",
                            "|2023-06-27 13:02:56|    49.32.208.167|          72.202.237.9|      56296|           20857|     TCP|         1281|    Control|         FTP|Veritatis nihil amet atque molestias aperiam minus. Velit hic aperiam iusto vitae nulla dolor max...|      IoC Detected|         56.34|Alert Triggered|  Intrusion| Known Pattern A|     Blocked|          High|         Zaina Iyer|Mozilla/5.0 (Macintosh; U; PPC Mac OS X 10_5_8) AppleWebKit/536.1 (KHTML, like Gecko) Chrome/38.0...|      Segment B|         Ambala, Tripura|             NULL|     Log Data|    Alert Data|    Server|\n",
                            "|2021-08-16 00:29:04|  114.109.149.113|        160.88.194.172|      37918|           50039|     UDP|          224|       Data|        HTTP|Consequatur ipsum autem reprehenderit quae. Doloribus dicta laboriosam porro consequatur dicta de...|              NULL|         16.51|Alert Triggered|    Malware| Known Pattern B|     Blocked|        Medium|   Mishti Chaudhuri|Mozilla/5.0 (Windows; U; Windows NT 6.0) AppleWebKit/533.28.5 (KHTML, like Gecko) Version/4.0 Saf...|      Segment A|         Rampur, Mizoram|   87.128.245.244|         NULL|          NULL|    Server|\n",
                            "|2022-07-20 15:28:50|    177.21.83.200|       196.218.124.169|      35538|           35006|    ICMP|          661|       Data|        HTTP|Sequi maxime voluptate ea. Eius officiis eaque. Nesciunt aspernatur rerum qui aperiam earum.\\nEiu...|              NULL|         24.91|Alert Triggered|    Malware| Known Pattern B|     Ignored|        Medium|          Hunar Sem|Mozilla/5.0 (iPod; U; CPU iPhone OS 4_3 like Mac OS X; xh-ZA) AppleWebKit/534.25.1 (KHTML, like G...|      Segment B|        Gangtok, Haryana|    29.161.99.247|         NULL|          NULL|    Server|\n",
                            "|2022-06-26 17:15:50|      92.4.25.171|         112.43.185.24|      10903|           36817|     TCP|          281|    Control|        HTTP|Nihil praesentium asperiores omnis ullam libero. Facilis eius aspernatur perspiciatis inventore v...|              NULL|         86.07|           NULL|    Malware| Known Pattern B|     Ignored|           Low|          Mehul Raj|                                  Opera/8.38.(X11; Linux x86_64; pt-BR) Presto/2.9.175 Version/12.00|      Segment B|        Nandyal, Mizoram|             NULL|         NULL|          NULL|  Firewall|\n",
                            "|2020-09-30 23:35:31|     57.91.207.84|          98.96.110.38|      53471|           38048|    ICMP|           64|    Control|         DNS|                                 Earum sit est et eaque ipsam. Vero repellendus error iusto eveniet.|              NULL|          74.2|Alert Triggered|  Intrusion| Known Pattern A|     Blocked|        Medium|       Vaibhav Kala|                                     Opera/8.54.(Windows NT 6.0; tg-TJ) Presto/2.9.170 Version/12.00|      Segment B|         Silchar, Kerala|             NULL|     Log Data|    Alert Data|    Server|\n",
                            "|2021-01-13 03:30:18|     80.28.21.123|       111.204.103.106|      43729|           10845|    ICMP|         1341|       Data|        HTTP|Ab voluptatibus nam aperiam. Est sed nostrum animi quae quas. Rerum minus possimus quis.\\nCupidit...|              NULL|         62.14|           NULL|    Malware| Known Pattern A|     Ignored|           Low|          Siya Gera|                                    Mozilla/5.0 (compatible; MSIE 7.0; Windows NT 10.0; Trident/4.1)|      Segment C|        Gudivada, Odisha|     59.131.15.72|         NULL|          NULL|  Firewall|\n",
                            "|2023-02-01 14:17:17|   54.163.130.178|        62.112.149.214|      47795|           35243|     UDP|          913|       Data|         DNS|Sit doloremque explicabo. Cupiditate placeat exercitationem. Dolores rerum iste necessitatibus li...|              NULL|         72.65|Alert Triggered|    Malware| Known Pattern B|      Logged|          High|      Inaaya  Soman|                    Mozilla/5.0 (X11; Linux i686; rv:1.9.7.20) Gecko/5645-10-22 09:50:59 Firefox/3.8|      Segment B|    Silchar, Maharashtra|   155.121.88.187|         NULL|          NULL|  Firewall|\n",
                            "|2023-09-15 22:35:21|  130.163.192.252|          12.192.2.112|      24912|           21176|     TCP|          425|       Data|         DNS|Voluptates nam doloremque. Eius amet officiis aperiam delectus mollitia pariatur. Ducimus aut in ...|              NULL|         91.56|Alert Triggered|  Intrusion| Known Pattern B|      Logged|        Medium|  Shaan Subramaniam|                                  Opera/8.85.(X11; Linux x86_64; sk-SK) Presto/2.9.163 Version/11.00|      Segment C|       Bhiwandi, Tripura|             NULL|     Log Data|          NULL|  Firewall|\n",
                            "|2023-04-18 18:46:46|    4.255.187.165|       136.159.186.239|      39934|            5259|     TCP|          838|    Control|        HTTP|Sed facere culpa aliquam. Adipisci error quisquam reprehenderit itaque fugit illum. Minima exerci...|              NULL|         43.83|Alert Triggered|       DDoS| Known Pattern B|     Ignored|          High|      Samarth Ratti|                                     Opera/8.72.(Windows NT 6.1; ia-FR) Presto/2.9.160 Version/12.00|      Segment B|      Solapur, Telangana|             NULL|     Log Data|          NULL|    Server|\n",
                            "|2023-02-21 08:02:55|   212.164.196.41|           32.26.31.49|      16513|           50583|     TCP|          969|       Data|        HTTP|Dolore nisi voluptatem. Debitis explicabo fuga perferendis esse omnis.\\nSit voluptatibus aliquid ...|              NULL|         40.46|           NULL|       DDoS| Known Pattern A|      Logged|           Low|     Shayak Kapadia|  Mozilla/5.0 (X11; Linux i686) AppleWebKit/536.0 (KHTML, like Gecko) Chrome/46.0.873.0 Safari/536.0|      Segment B|      Darbhanga, Mizoram|    20.252.145.34|     Log Data|    Alert Data|  Firewall|\n",
                            "|2020-12-29 03:50:47|  119.101.120.119|          47.125.34.52|       4510|           26783|     TCP|          124|    Control|         DNS|Qui sapiente laboriosam minima veritatis impedit vel. Placeat itaque incidunt non. Consequuntur q...|              NULL|         44.75|Alert Triggered|       DDoS| Known Pattern B|     Ignored|          High|       Faiyaz Sathe|                                    Mozilla/5.0 (compatible; MSIE 6.0; Windows NT 10.0; Trident/4.0)|      Segment C|       Rampur, Rajasthan|             NULL|         NULL|          NULL|  Firewall|\n",
                            "|2020-07-27 02:00:53|   104.176.150.78|        110.80.185.102|      55147|           17595|     TCP|          461|       Data|        HTTP|Ipsa est placeat cumque ut id. Quisquam provident quidem beatae. Corporis nam aut expedita repreh...|      IoC Detected|         13.19|           NULL|       DDoS| Known Pattern B|     Ignored|          High|        Zara Sachar|Mozilla/5.0 (iPhone; CPU iPhone OS 12_4_8 like Mac OS X) AppleWebKit/533.2 (KHTML, like Gecko) Fx...|      Segment B| Ahmednagar, Uttarakhand|   106.203.136.99|     Log Data|    Alert Data|    Server|\n",
                            "+-------------------+-----------------+----------------------+-----------+----------------+--------+-------------+-----------+------------+----------------------------------------------------------------------------------------------------+------------------+--------------+---------------+-----------+----------------+------------+--------------+-------------------+----------------------------------------------------------------------------------------------------+---------------+------------------------+-----------------+-------------+--------------+----------+\n",
                            "only showing top 20 rows"
                        ]
                    },
                    "metadata": {},
                    "output_type": "display_data"
                }
            ],
            "source": [
                "display(df)"
            ]
        },
        {
            "cell_type": "markdown",
            "metadata": {},
            "source": [
                "### Descriptiva del dataset"
            ]
        },
        {
            "cell_type": "code",
            "execution_count": 5,
            "metadata": {},
            "outputs": [
                {
                    "name": "stderr",
                    "output_type": "stream",
                    "text": [
                        "                                                                                \r"
                    ]
                },
                {
                    "data": {
                        "text/html": [
                            "<table border='1'>\n",
                            "<tr><th>summary</th><th>Source IP Address</th><th>Destination IP Address</th><th>Source Port</th><th>Destination Port</th><th>Protocol</th><th>Packet Length</th><th>Packet Type</th><th>Traffic Type</th><th>Payload Data</th><th>Malware Indicators</th><th>Anomaly Scores</th><th>Alerts/Warnings</th><th>Attack Type</th><th>Attack Signature</th><th>Action Taken</th><th>Severity Level</th><th>User Information</th><th>Device Information</th><th>Network Segment</th><th>Geo-location Data</th><th>Proxy Information</th><th>Firewall Logs</th><th>IDS/IPS Alerts</th><th>Log Source</th></tr>\n",
                            "<tr><td>count</td><td>40000</td><td>40000</td><td>40000</td><td>40000</td><td>40000</td><td>40000</td><td>40000</td><td>40000</td><td>40000</td><td>20000</td><td>40000</td><td>19933</td><td>40000</td><td>40000</td><td>40000</td><td>40000</td><td>40000</td><td>40000</td><td>40000</td><td>40000</td><td>20149</td><td>20039</td><td>19950</td><td>40000</td></tr>\n",
                            "<tr><td>mean</td><td>NULL</td><td>NULL</td><td>32970.35645</td><td>33150.86865</td><td>NULL</td><td>781.452725</td><td>NULL</td><td>NULL</td><td>NULL</td><td>NULL</td><td>50.113473249999906</td><td>NULL</td><td>NULL</td><td>NULL</td><td>NULL</td><td>NULL</td><td>NULL</td><td>NULL</td><td>NULL</td><td>NULL</td><td>NULL</td><td>NULL</td><td>NULL</td><td>NULL</td></tr>\n",
                            "<tr><td>stddev</td><td>NULL</td><td>NULL</td><td>18560.425604487275</td><td>18574.66884156518</td><td>NULL</td><td>416.0441918646553</td><td>NULL</td><td>NULL</td><td>NULL</td><td>NULL</td><td>28.853598250518726</td><td>NULL</td><td>NULL</td><td>NULL</td><td>NULL</td><td>NULL</td><td>NULL</td><td>NULL</td><td>NULL</td><td>NULL</td><td>NULL</td><td>NULL</td><td>NULL</td><td>NULL</td></tr>\n",
                            "<tr><td>min</td><td>1.1.45.194</td><td>1.1.189.171</td><td>1027</td><td>1024</td><td>ICMP</td><td>64</td><td>Control</td><td>DNS</td><td>A ab tempora a. Culpa et fuga maxime. Quia ad blanditiis aliquam.\\nFugit quia perferendis totam a...</td><td>IoC Detected</td><td>0.0</td><td>Alert Triggered</td><td>DDoS</td><td>Known Pattern A</td><td>Blocked</td><td>High</td><td>Aaina Ahluwalia</td><td>Mozilla/5.0 (Android 1.0; Mobile; rv:14.0) Gecko/14.0 Firefox/14.0</td><td>Segment A</td><td>Adoni, Andhra Pradesh</td><td>1.10.186.95</td><td>Log Data</td><td>Alert Data</td><td>Firewall</td></tr>\n",
                            "<tr><td>25%</td><td>NULL</td><td>NULL</td><td>16848</td><td>17091</td><td>NULL</td><td>420</td><td>NULL</td><td>NULL</td><td>NULL</td><td>NULL</td><td>25.14</td><td>NULL</td><td>NULL</td><td>NULL</td><td>NULL</td><td>NULL</td><td>NULL</td><td>NULL</td><td>NULL</td><td>NULL</td><td>NULL</td><td>NULL</td><td>NULL</td><td>NULL</td></tr>\n",
                            "<tr><td>50%</td><td>NULL</td><td>NULL</td><td>32849</td><td>33001</td><td>NULL</td><td>782</td><td>NULL</td><td>NULL</td><td>NULL</td><td>NULL</td><td>50.34</td><td>NULL</td><td>NULL</td><td>NULL</td><td>NULL</td><td>NULL</td><td>NULL</td><td>NULL</td><td>NULL</td><td>NULL</td><td>NULL</td><td>NULL</td><td>NULL</td><td>NULL</td></tr>\n",
                            "<tr><td>75%</td><td>NULL</td><td>NULL</td><td>48924</td><td>49281</td><td>NULL</td><td>1143</td><td>NULL</td><td>NULL</td><td>NULL</td><td>NULL</td><td>75.03</td><td>NULL</td><td>NULL</td><td>NULL</td><td>NULL</td><td>NULL</td><td>NULL</td><td>NULL</td><td>NULL</td><td>NULL</td><td>NULL</td><td>NULL</td><td>NULL</td><td>NULL</td></tr>\n",
                            "<tr><td>max</td><td>99.99.250.252</td><td>99.98.160.72</td><td>65530</td><td>65535</td><td>UDP</td><td>1500</td><td>Data</td><td>HTTP</td><td>Voluptatum voluptatibus vel tempora harum non incidunt. Maxime ipsam adipisci nulla similique lib...</td><td>IoC Detected</td><td>100.0</td><td>Alert Triggered</td><td>Malware</td><td>Known Pattern B</td><td>Logged</td><td>Medium</td><td>Zoya Yohannan</td><td>Opera/9.99.(X11; Linux x86_64; zh-TW) Presto/2.9.166 Version/11.00</td><td>Segment C</td><td>Yamunanagar, West Bengal</td><td>99.97.192.156</td><td>Log Data</td><td>Alert Data</td><td>Server</td></tr>\n",
                            "</table>\n"
                        ],
                        "text/plain": [
                            "+-------+-----------------+----------------------+------------------+-----------------+--------+-----------------+-----------+------------+----------------------------------------------------------------------------------------------------+------------------+------------------+---------------+-----------+----------------+------------+--------------+----------------+------------------------------------------------------------------+---------------+------------------------+-----------------+-------------+--------------+----------+\n",
                            "|summary|Source IP Address|Destination IP Address|       Source Port| Destination Port|Protocol|    Packet Length|Packet Type|Traffic Type|                                                                                        Payload Data|Malware Indicators|    Anomaly Scores|Alerts/Warnings|Attack Type|Attack Signature|Action Taken|Severity Level|User Information|                                                Device Information|Network Segment|       Geo-location Data|Proxy Information|Firewall Logs|IDS/IPS Alerts|Log Source|\n",
                            "+-------+-----------------+----------------------+------------------+-----------------+--------+-----------------+-----------+------------+----------------------------------------------------------------------------------------------------+------------------+------------------+---------------+-----------+----------------+------------+--------------+----------------+------------------------------------------------------------------+---------------+------------------------+-----------------+-------------+--------------+----------+\n",
                            "|  count|            40000|                 40000|             40000|            40000|   40000|            40000|      40000|       40000|                                                                                               40000|             20000|             40000|          19933|      40000|           40000|       40000|         40000|           40000|                                                             40000|          40000|                   40000|            20149|        20039|         19950|     40000|\n",
                            "|   mean|             NULL|                  NULL|       32970.35645|      33150.86865|    NULL|       781.452725|       NULL|        NULL|                                                                                                NULL|              NULL|50.113473249999906|           NULL|       NULL|            NULL|        NULL|          NULL|            NULL|                                                              NULL|           NULL|                    NULL|             NULL|         NULL|          NULL|      NULL|\n",
                            "| stddev|             NULL|                  NULL|18560.425604487275|18574.66884156518|    NULL|416.0441918646553|       NULL|        NULL|                                                                                                NULL|              NULL|28.853598250518726|           NULL|       NULL|            NULL|        NULL|          NULL|            NULL|                                                              NULL|           NULL|                    NULL|             NULL|         NULL|          NULL|      NULL|\n",
                            "|    min|       1.1.45.194|           1.1.189.171|              1027|             1024|    ICMP|               64|    Control|         DNS|A ab tempora a. Culpa et fuga maxime. Quia ad blanditiis aliquam.\\nFugit quia perferendis totam a...|      IoC Detected|               0.0|Alert Triggered|       DDoS| Known Pattern A|     Blocked|          High| Aaina Ahluwalia|Mozilla/5.0 (Android 1.0; Mobile; rv:14.0) Gecko/14.0 Firefox/14.0|      Segment A|   Adoni, Andhra Pradesh|      1.10.186.95|     Log Data|    Alert Data|  Firewall|\n",
                            "|    25%|             NULL|                  NULL|             16848|            17091|    NULL|              420|       NULL|        NULL|                                                                                                NULL|              NULL|             25.14|           NULL|       NULL|            NULL|        NULL|          NULL|            NULL|                                                              NULL|           NULL|                    NULL|             NULL|         NULL|          NULL|      NULL|\n",
                            "|    50%|             NULL|                  NULL|             32849|            33001|    NULL|              782|       NULL|        NULL|                                                                                                NULL|              NULL|             50.34|           NULL|       NULL|            NULL|        NULL|          NULL|            NULL|                                                              NULL|           NULL|                    NULL|             NULL|         NULL|          NULL|      NULL|\n",
                            "|    75%|             NULL|                  NULL|             48924|            49281|    NULL|             1143|       NULL|        NULL|                                                                                                NULL|              NULL|             75.03|           NULL|       NULL|            NULL|        NULL|          NULL|            NULL|                                                              NULL|           NULL|                    NULL|             NULL|         NULL|          NULL|      NULL|\n",
                            "|    max|    99.99.250.252|          99.98.160.72|             65530|            65535|     UDP|             1500|       Data|        HTTP|Voluptatum voluptatibus vel tempora harum non incidunt. Maxime ipsam adipisci nulla similique lib...|      IoC Detected|             100.0|Alert Triggered|    Malware| Known Pattern B|      Logged|        Medium|   Zoya Yohannan|Opera/9.99.(X11; Linux x86_64; zh-TW) Presto/2.9.166 Version/11.00|      Segment C|Yamunanagar, West Bengal|    99.97.192.156|     Log Data|    Alert Data|    Server|\n",
                            "+-------+-----------------+----------------------+------------------+-----------------+--------+-----------------+-----------+------------+----------------------------------------------------------------------------------------------------+------------------+------------------+---------------+-----------+----------------+------------+--------------+----------------+------------------------------------------------------------------+---------------+------------------------+-----------------+-------------+--------------+----------+"
                        ]
                    },
                    "execution_count": 5,
                    "metadata": {},
                    "output_type": "execute_result"
                }
            ],
            "source": [
                "df.summary()"
            ]
        }
    ],
    "metadata": {
        "kernelspec": {
            "display_name": ".venv",
            "language": "python",
            "name": "python3"
        },
        "language_info": {
            "codemirror_mode": {
                "name": "ipython",
                "version": 3
            },
            "file_extension": ".py",
            "mimetype": "text/x-python",
            "name": "python",
            "nbconvert_exporter": "python",
            "pygments_lexer": "ipython3",
            "version": "3.10.12"
        }
    },
    "nbformat": 4,
    "nbformat_minor": 2
}
