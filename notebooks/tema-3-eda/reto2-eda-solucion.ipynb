{
    "cells": [
        {
            "cell_type": "markdown",
            "metadata": {},
            "source": [
                "# Reto 2: Exploratory Data Analysis\n"
            ]
        },
        {
            "cell_type": "markdown",
            "metadata": {},
            "source": [
                "### Instalación de paquetes necesarios\n",
                "Instalamos la librería de Python del curso, que contiene los módulos y funciones necesarios para el desarrollo del ejercicio"
            ]
        },
        {
            "cell_type": "code",
            "execution_count": 1,
            "metadata": {
                "execution": {
                    "iopub.execute_input": "2024-09-29T21:54:35.407430Z",
                    "iopub.status.busy": "2024-09-29T21:54:35.406544Z",
                    "iopub.status.idle": "2024-09-29T21:55:37.472380Z",
                    "shell.execute_reply": "2024-09-29T21:55:37.471075Z",
                    "shell.execute_reply.started": "2024-09-29T21:54:35.407379Z"
                },
                "trusted": true
            },
            "outputs": [],
            "source": [
                "# !pip install git+https://github.com/donielix/esic-bigdata-iv-blackops.git > /dev/null"
            ]
        },
        {
            "cell_type": "markdown",
            "metadata": {},
            "source": [
                "### Importación de paquetes necesarios\n",
                "Importamos algunas funciones auxiliares definidas dentro del paquete `blackops`, como `read_table`, necesaria para leer la tabla de nuestro interés. Para saber como funcionan (qué parámetros de entrada esperan y qué salida devuelven), pueden consultar su documentación"
            ]
        },
        {
            "cell_type": "code",
            "execution_count": 2,
            "metadata": {
                "_cell_guid": "b1076dfc-b9ad-4769-8c92-a6c4dae69d19",
                "_uuid": "8f2839f25d086af736a60e9eeb907d3b93b6e0e5",
                "execution": {
                    "iopub.execute_input": "2024-09-29T21:55:37.475090Z",
                    "iopub.status.busy": "2024-09-29T21:55:37.474678Z",
                    "iopub.status.idle": "2024-09-29T21:55:37.657082Z",
                    "shell.execute_reply": "2024-09-29T21:55:37.656012Z",
                    "shell.execute_reply.started": "2024-09-29T21:55:37.475049Z"
                },
                "trusted": true
            },
            "outputs": [],
            "source": [
                "from blackops.utils.catalog import read_table\n",
                "import pyspark.sql.functions as f"
            ]
        },
        {
            "cell_type": "markdown",
            "metadata": {},
            "source": [
                "### Apartado 1: Descriptivas generales\n",
                "Lee la tabla denominada `football_player_stats` utilizando la función `read_table`. Recuerda que en la función debes especificar la ruta en la que has ubicado el fichero `config.share`. Para más información, consulta la documentación de la función."
            ]
        },
        {
            "cell_type": "code",
            "execution_count": 3,
            "metadata": {},
            "outputs": [
                {
                    "name": "stderr",
                    "output_type": "stream",
                    "text": [
                        "24/10/27 12:58:37 WARN Utils: Your hostname, pop-os resolves to a loopback address: 127.0.1.1; using 192.168.1.39 instead (on interface enp3s0)\n",
                        "24/10/27 12:58:37 WARN Utils: Set SPARK_LOCAL_IP if you need to bind to another address\n",
                        "Ivy Default Cache set to: /home/dadiego/.ivy2/cache\n",
                        "The jars for the packages stored in: /home/dadiego/.ivy2/jars\n",
                        "io.delta#delta-spark_2.12 added as a dependency\n",
                        "io.delta#delta-sharing-spark_2.12 added as a dependency\n",
                        ":: resolving dependencies :: org.apache.spark#spark-submit-parent-86b15ea9-d512-4f94-9d18-4a9976fcaa53;1.0\n",
                        "\tconfs: [default]\n"
                    ]
                },
                {
                    "name": "stdout",
                    "output_type": "stream",
                    "text": [
                        ":: loading settings :: url = jar:file:/home/dadiego/projects/ESIC/esic-bigdata-iv-blackops/.venv/lib/python3.10/site-packages/pyspark/jars/ivy-2.5.1.jar!/org/apache/ivy/core/settings/ivysettings.xml\n"
                    ]
                },
                {
                    "name": "stderr",
                    "output_type": "stream",
                    "text": [
                        "\tfound io.delta#delta-spark_2.12;3.2.0 in central\n",
                        "\tfound io.delta#delta-storage;3.2.0 in central\n",
                        "\tfound org.antlr#antlr4-runtime;4.9.3 in central\n",
                        "\tfound io.delta#delta-sharing-spark_2.12;3.2.0 in central\n",
                        "\tfound io.delta#delta-sharing-client_2.12;1.0.5 in central\n",
                        "\tfound org.apache.httpcomponents#httpclient;4.5.13 in central\n",
                        "\tfound org.apache.httpcomponents#httpcore;4.4.13 in central\n",
                        "\tfound commons-logging#commons-logging;1.2 in central\n",
                        "\tfound commons-codec#commons-codec;1.11 in central\n",
                        ":: resolution report :: resolve 224ms :: artifacts dl 9ms\n",
                        "\t:: modules in use:\n",
                        "\tcommons-codec#commons-codec;1.11 from central in [default]\n",
                        "\tcommons-logging#commons-logging;1.2 from central in [default]\n",
                        "\tio.delta#delta-sharing-client_2.12;1.0.5 from central in [default]\n",
                        "\tio.delta#delta-sharing-spark_2.12;3.2.0 from central in [default]\n",
                        "\tio.delta#delta-spark_2.12;3.2.0 from central in [default]\n",
                        "\tio.delta#delta-storage;3.2.0 from central in [default]\n",
                        "\torg.antlr#antlr4-runtime;4.9.3 from central in [default]\n",
                        "\torg.apache.httpcomponents#httpclient;4.5.13 from central in [default]\n",
                        "\torg.apache.httpcomponents#httpcore;4.4.13 from central in [default]\n",
                        "\t---------------------------------------------------------------------\n",
                        "\t|                  |            modules            ||   artifacts   |\n",
                        "\t|       conf       | number| search|dwnlded|evicted|| number|dwnlded|\n",
                        "\t---------------------------------------------------------------------\n",
                        "\t|      default     |   9   |   0   |   0   |   0   ||   9   |   0   |\n",
                        "\t---------------------------------------------------------------------\n",
                        ":: retrieving :: org.apache.spark#spark-submit-parent-86b15ea9-d512-4f94-9d18-4a9976fcaa53\n",
                        "\tconfs: [default]\n",
                        "\t0 artifacts copied, 9 already retrieved (0kB/7ms)\n",
                        "24/10/27 12:58:37 WARN NativeCodeLoader: Unable to load native-hadoop library for your platform... using builtin-java classes where applicable\n",
                        "Setting default log level to \"WARN\".\n",
                        "To adjust logging level use sc.setLogLevel(newLevel). For SparkR, use setLogLevel(newLevel).\n"
                    ]
                }
            ],
            "source": [
                "# INTRODUCE EL CÓDIGO AQUÍ\n",
                "df = read_table(table_name=\"football_player_stats\", config_share_path=\"config.share\")"
            ]
        },
        {
            "cell_type": "markdown",
            "metadata": {},
            "source": [
                "Una vez leída la tabla y asignada a una variable (normalmente llamada `df`), obtén un resúmen descriptivo del dataset, en donde puedan apreciarse métricas como la cuenta de valores no nulos, la media, desviación típica, percentiles, mínimo, máximo, etc."
            ]
        },
        {
            "cell_type": "code",
            "execution_count": 4,
            "metadata": {},
            "outputs": [
                {
                    "name": "stderr",
                    "output_type": "stream",
                    "text": [
                        "24/10/27 12:58:45 WARN SparkStringUtils: Truncated the string representation of a plan since it was too large. This behavior can be adjusted by setting 'spark.sql.debug.maxToStringFields'.\n",
                        "                                                                                \r"
                    ]
                },
                {
                    "data": {
                        "text/html": [
                            "<table border='1'>\n",
                            "<tr><th>summary</th><th>Rk</th><th>Player</th><th>Nation</th><th>Pos</th><th>Squad</th><th>Comp</th><th>Age</th><th>Born</th><th>MP</th><th>Starts</th><th>Min</th><th>90s</th><th>Gls</th><th>Ast</th><th>G+A</th><th>G-PK</th><th>PK</th><th>PKatt</th><th>CrdY</th><th>CrdR</th><th>xG</th><th>npxG</th><th>xAG</th><th>npxG+xAG</th><th>PrgC</th><th>PrgP</th><th>PrgR</th><th>Gls_90</th><th>Ast_90</th><th>G+A_90</th><th>G-PK_90</th><th>G+A-PK_90</th><th>xG_90</th><th>xAG_90</th><th>xG+xAG_90</th><th>npxG_90</th><th>npxG+xAG_90</th></tr>\n",
                            "<tr><td>count</td><td>2852</td><td>2852</td><td>2849</td><td>2852</td><td>2852</td><td>2852</td><td>2848</td><td>2848</td><td>2852</td><td>2852</td><td>2852</td><td>2852</td><td>2852</td><td>2852</td><td>2852</td><td>2852</td><td>2852</td><td>2852</td><td>2852</td><td>2852</td><td>2851</td><td>2851</td><td>2851</td><td>2851</td><td>2851</td><td>2851</td><td>2851</td><td>2852</td><td>2852</td><td>2852</td><td>2852</td><td>2852</td><td>2851</td><td>2851</td><td>2851</td><td>2851</td><td>2851</td></tr>\n",
                            "<tr><td>mean</td><td>1426.5</td><td>NULL</td><td>NULL</td><td>NULL</td><td>NULL</td><td>NULL</td><td>25.06074438202247</td><td>1997.600070224719</td><td>18.96984572230014</td><td>13.514726507713885</td><td>1213.3015427769985</td><td>13.482328190743328</td><td>1.720196353436185</td><td>1.2219495091164094</td><td>2.9421458625525947</td><td>1.5655680224403927</td><td>0.15462833099579243</td><td>0.1931977559607293</td><td>2.654978962131837</td><td>0.11991584852734923</td><td>1.7464047702560477</td><td>1.5925990880392786</td><td>1.2315327955103437</td><td>2.823219922834094</td><td>21.482637670992634</td><td>46.889161697649946</td><td>46.42511399508944</td><td>0.12177769985974757</td><td>0.093295932678822</td><td>0.21491584852734916</td><td>0.11414095371668999</td><td>0.20729312762973343</td><td>0.1323325149070497</td><td>0.09900736583654873</td><td>0.2314380918975794</td><td>0.1241669589617674</td><td>0.2233321641529282</td></tr>\n",
                            "<tr><td>stddev</td><td>823.4458087816101</td><td>NULL</td><td>NULL</td><td>NULL</td><td>NULL</td><td>NULL</td><td>4.590520738869418</td><td>4.596293614784638</td><td>11.517930248018404</td><td>11.251226699349408</td><td>961.5840664011922</td><td>10.685044789842049</td><td>3.203531717458709</td><td>1.9653706653548997</td><td>4.6157681215121995</td><td>2.8403527811457163</td><td>0.7158105505726141</td><td>0.8117317697150929</td><td>2.7261609370111213</td><td>0.3548475645096901</td><td>2.896131154882146</td><td>2.518002120921979</td><td>1.7095741956450154</td><td>3.817546876565479</td><td>26.885500498228616</td><td>51.81476784373843</td><td>60.407205222143446</td><td>0.2841381876259927</td><td>0.36623762214252775</td><td>0.47298861733698894</td><td>0.2778017856437242</td><td>0.4679836907528918</td><td>0.2078263350381571</td><td>0.23682497115648354</td><td>0.33470725822709885</td><td>0.19848239705194426</td><td>0.32771058286160093</td></tr>\n",
                            "<tr><td>min</td><td>1</td><td>Aaron Cresswell</td><td>al ALB</td><td>DF</td><td>Alav&eacute;s</td><td>de Bundesliga</td><td>15</td><td>1982</td><td>1</td><td>0</td><td>1</td><td>0.0</td><td>0</td><td>0</td><td>0</td><td>0</td><td>0</td><td>0</td><td>0</td><td>0</td><td>0.0</td><td>0.0</td><td>0.0</td><td>0.0</td><td>0</td><td>0</td><td>0</td><td>0.0</td><td>0.0</td><td>0.0</td><td>0.0</td><td>0.0</td><td>0.0</td><td>0.0</td><td>0.0</td><td>0.0</td><td>0.0</td></tr>\n",
                            "<tr><td>25%</td><td>713</td><td>NULL</td><td>NULL</td><td>NULL</td><td>NULL</td><td>NULL</td><td>22</td><td>1994</td><td>8</td><td>2</td><td>296</td><td>3.3</td><td>0</td><td>0</td><td>0</td><td>0</td><td>0</td><td>0</td><td>0</td><td>0</td><td>0.1</td><td>0.1</td><td>0.1</td><td>0.2</td><td>2</td><td>5</td><td>3</td><td>0.0</td><td>0.0</td><td>0.0</td><td>0.0</td><td>0.0</td><td>0.02</td><td>0.01</td><td>0.05</td><td>0.02</td><td>0.05</td></tr>\n",
                            "<tr><td>50%</td><td>1426</td><td>NULL</td><td>NULL</td><td>NULL</td><td>NULL</td><td>NULL</td><td>25</td><td>1998</td><td>20</td><td>12</td><td>1113</td><td>12.4</td><td>0</td><td>0</td><td>1</td><td>0</td><td>0</td><td>0</td><td>2</td><td>0</td><td>0.7</td><td>0.7</td><td>0.6</td><td>1.4</td><td>12</td><td>31</td><td>21</td><td>0.0</td><td>0.0</td><td>0.09</td><td>0.0</td><td>0.09</td><td>0.06</td><td>0.06</td><td>0.14</td><td>0.06</td><td>0.14</td></tr>\n",
                            "<tr><td>75%</td><td>2139</td><td>NULL</td><td>NULL</td><td>NULL</td><td>NULL</td><td>NULL</td><td>28</td><td>2001</td><td>29</td><td>23</td><td>1987</td><td>22.1</td><td>2</td><td>2</td><td>4</td><td>2</td><td>0</td><td>0</td><td>4</td><td>0</td><td>2.0</td><td>1.9</td><td>1.7</td><td>3.7</td><td>30</td><td>73</td><td>71</td><td>0.15</td><td>0.12</td><td>0.29</td><td>0.14</td><td>0.28</td><td>0.18</td><td>0.13</td><td>0.33</td><td>0.17</td><td>0.31</td></tr>\n",
                            "<tr><td>max</td><td>2852</td><td>Łukasz Skorupski</td><td>zw ZIM</td><td>MF,FW</td><td>Wolves</td><td>it Serie A</td><td>40</td><td>2008</td><td>38</td><td>38</td><td>3420</td><td>38.0</td><td>36</td><td>14</td><td>44</td><td>31</td><td>10</td><td>10</td><td>17</td><td>3</td><td>30.6</td><td>26.7</td><td>11.8</td><td>33.0</td><td>218</td><td>392</td><td>508</td><td>6.0</td><td>11.25</td><td>11.25</td><td>6.0</td><td>11.25</td><td>4.55</td><td>6.85</td><td>6.85</td><td>4.55</td><td>6.85</td></tr>\n",
                            "</table>\n"
                        ],
                        "text/plain": [
                            "+-------+-----------------+----------------+------+-----+------+-------------+-----------------+-----------------+------------------+------------------+------------------+------------------+-----------------+------------------+------------------+------------------+-------------------+------------------+------------------+-------------------+------------------+------------------+------------------+-----------------+------------------+------------------+------------------+-------------------+-------------------+-------------------+-------------------+-------------------+------------------+-------------------+-------------------+-------------------+-------------------+\n",
                            "|summary|               Rk|          Player|Nation|  Pos| Squad|         Comp|              Age|             Born|                MP|            Starts|               Min|               90s|              Gls|               Ast|               G+A|              G-PK|                 PK|             PKatt|              CrdY|               CrdR|                xG|              npxG|               xAG|         npxG+xAG|              PrgC|              PrgP|              PrgR|             Gls_90|             Ast_90|             G+A_90|            G-PK_90|          G+A-PK_90|             xG_90|             xAG_90|          xG+xAG_90|            npxG_90|        npxG+xAG_90|\n",
                            "+-------+-----------------+----------------+------+-----+------+-------------+-----------------+-----------------+------------------+------------------+------------------+------------------+-----------------+------------------+------------------+------------------+-------------------+------------------+------------------+-------------------+------------------+------------------+------------------+-----------------+------------------+------------------+------------------+-------------------+-------------------+-------------------+-------------------+-------------------+------------------+-------------------+-------------------+-------------------+-------------------+\n",
                            "|  count|             2852|            2852|  2849| 2852|  2852|         2852|             2848|             2848|              2852|              2852|              2852|              2852|             2852|              2852|              2852|              2852|               2852|              2852|              2852|               2852|              2851|              2851|              2851|             2851|              2851|              2851|              2851|               2852|               2852|               2852|               2852|               2852|              2851|               2851|               2851|               2851|               2851|\n",
                            "|   mean|           1426.5|            NULL|  NULL| NULL|  NULL|         NULL|25.06074438202247|1997.600070224719| 18.96984572230014|13.514726507713885|1213.3015427769985|13.482328190743328|1.720196353436185|1.2219495091164094|2.9421458625525947|1.5655680224403927|0.15462833099579243|0.1931977559607293| 2.654978962131837|0.11991584852734923|1.7464047702560477|1.5925990880392786|1.2315327955103437|2.823219922834094|21.482637670992634|46.889161697649946| 46.42511399508944|0.12177769985974757|  0.093295932678822|0.21491584852734916|0.11414095371668999|0.20729312762973343|0.1323325149070497|0.09900736583654873| 0.2314380918975794| 0.1241669589617674| 0.2233321641529282|\n",
                            "| stddev|823.4458087816101|            NULL|  NULL| NULL|  NULL|         NULL|4.590520738869418|4.596293614784638|11.517930248018404|11.251226699349408| 961.5840664011922|10.685044789842049|3.203531717458709|1.9653706653548997|4.6157681215121995|2.8403527811457163| 0.7158105505726141|0.8117317697150929|2.7261609370111213| 0.3548475645096901| 2.896131154882146| 2.518002120921979|1.7095741956450154|3.817546876565479|26.885500498228616| 51.81476784373843|60.407205222143446| 0.2841381876259927|0.36623762214252775|0.47298861733698894| 0.2778017856437242| 0.4679836907528918|0.2078263350381571|0.23682497115648354|0.33470725822709885|0.19848239705194426|0.32771058286160093|\n",
                            "|    min|                1| Aaron Cresswell|al ALB|   DF|Alavés|de Bundesliga|               15|             1982|                 1|                 0|                 1|               0.0|                0|                 0|                 0|                 0|                  0|                 0|                 0|                  0|               0.0|               0.0|               0.0|              0.0|                 0|                 0|                 0|                0.0|                0.0|                0.0|                0.0|                0.0|               0.0|                0.0|                0.0|                0.0|                0.0|\n",
                            "|    25%|              713|            NULL|  NULL| NULL|  NULL|         NULL|               22|             1994|                 8|                 2|               296|               3.3|                0|                 0|                 0|                 0|                  0|                 0|                 0|                  0|               0.1|               0.1|               0.1|              0.2|                 2|                 5|                 3|                0.0|                0.0|                0.0|                0.0|                0.0|              0.02|               0.01|               0.05|               0.02|               0.05|\n",
                            "|    50%|             1426|            NULL|  NULL| NULL|  NULL|         NULL|               25|             1998|                20|                12|              1113|              12.4|                0|                 0|                 1|                 0|                  0|                 0|                 2|                  0|               0.7|               0.7|               0.6|              1.4|                12|                31|                21|                0.0|                0.0|               0.09|                0.0|               0.09|              0.06|               0.06|               0.14|               0.06|               0.14|\n",
                            "|    75%|             2139|            NULL|  NULL| NULL|  NULL|         NULL|               28|             2001|                29|                23|              1987|              22.1|                2|                 2|                 4|                 2|                  0|                 0|                 4|                  0|               2.0|               1.9|               1.7|              3.7|                30|                73|                71|               0.15|               0.12|               0.29|               0.14|               0.28|              0.18|               0.13|               0.33|               0.17|               0.31|\n",
                            "|    max|             2852|Łukasz Skorupski|zw ZIM|MF,FW|Wolves|   it Serie A|               40|             2008|                38|                38|              3420|              38.0|               36|                14|                44|                31|                 10|                10|                17|                  3|              30.6|              26.7|              11.8|             33.0|               218|               392|               508|                6.0|              11.25|              11.25|                6.0|              11.25|              4.55|               6.85|               6.85|               4.55|               6.85|\n",
                            "+-------+-----------------+----------------+------+-----+------+-------------+-----------------+-----------------+------------------+------------------+------------------+------------------+-----------------+------------------+------------------+------------------+-------------------+------------------+------------------+-------------------+------------------+------------------+------------------+-----------------+------------------+------------------+------------------+-------------------+-------------------+-------------------+-------------------+-------------------+------------------+-------------------+-------------------+-------------------+-------------------+"
                        ]
                    },
                    "execution_count": 4,
                    "metadata": {},
                    "output_type": "execute_result"
                }
            ],
            "source": [
                "# INTRODUCE EL CÓDIGO AQUÍ\n",
                "df.summary()"
            ]
        },
        {
            "cell_type": "markdown",
            "metadata": {},
            "source": [
                "En base a las estadísticas obtenidas, responde a la siguiente pregunta: entre todos los jugadores, ¿cuál es la edad mínima y máxima que presentan?:\n",
                "\n",
                "- edad mínima: 15 años\n",
                "- edad máxima: 40 años"
            ]
        },
        {
            "cell_type": "markdown",
            "metadata": {},
            "source": [
                "Muestra una tabla con aquellos jugadores que no tienen ninguna nacionalidad registrada"
            ]
        },
        {
            "cell_type": "code",
            "execution_count": 5,
            "metadata": {},
            "outputs": [
                {
                    "name": "stderr",
                    "output_type": "stream",
                    "text": [
                        "                                                                                \r"
                    ]
                },
                {
                    "data": {
                        "text/html": [
                            "<table border='1'>\n",
                            "<tr><th>Rk</th><th>Player</th><th>Nation</th><th>Pos</th><th>Squad</th><th>Comp</th><th>Age</th><th>Born</th><th>MP</th><th>Starts</th><th>Min</th><th>90s</th><th>Gls</th><th>Ast</th><th>G+A</th><th>G-PK</th><th>PK</th><th>PKatt</th><th>CrdY</th><th>CrdR</th><th>xG</th><th>npxG</th><th>xAG</th><th>npxG+xAG</th><th>PrgC</th><th>PrgP</th><th>PrgR</th><th>Gls_90</th><th>Ast_90</th><th>G+A_90</th><th>G-PK_90</th><th>G+A-PK_90</th><th>xG_90</th><th>xAG_90</th><th>xG+xAG_90</th><th>npxG_90</th><th>npxG+xAG_90</th></tr>\n",
                            "<tr><td>1396</td><td>Mahmut K&uuml;c&uuml;ksahin</td><td>NULL</td><td>MF</td><td>Augsburg</td><td>de Bundesliga</td><td>19</td><td>2004</td><td>1</td><td>0</td><td>1</td><td>0.0</td><td>0</td><td>0</td><td>0</td><td>0</td><td>0</td><td>0</td><td>0</td><td>0</td><td>0.0</td><td>0.0</td><td>0.0</td><td>0.0</td><td>0</td><td>0</td><td>0</td><td>0.0</td><td>0.0</td><td>0.0</td><td>0.0</td><td>0.0</td><td>0.0</td><td>0.0</td><td>0.0</td><td>0.0</td><td>0.0</td></tr>\n",
                            "<tr><td>2075</td><td>Marco Pellegrino</td><td>NULL</td><td>DF</td><td>Salernitana</td><td>it Serie A</td><td>NULL</td><td>NULL</td><td>10</td><td>5</td><td>545</td><td>6.1</td><td>0</td><td>0</td><td>0</td><td>0</td><td>0</td><td>0</td><td>1</td><td>0</td><td>0.0</td><td>0.0</td><td>0.0</td><td>0.1</td><td>0</td><td>7</td><td>1</td><td>0.0</td><td>0.0</td><td>0.0</td><td>0.0</td><td>0.0</td><td>0.01</td><td>0.01</td><td>0.01</td><td>0.01</td><td>0.01</td></tr>\n",
                            "<tr><td>2076</td><td>Marco Pellegrino</td><td>NULL</td><td>DF</td><td>Milan</td><td>it Serie A</td><td>NULL</td><td>NULL</td><td>1</td><td>0</td><td>68</td><td>0.8</td><td>0</td><td>0</td><td>0</td><td>0</td><td>0</td><td>0</td><td>0</td><td>0</td><td>0.0</td><td>0.0</td><td>0.0</td><td>0.0</td><td>1</td><td>3</td><td>0</td><td>0.0</td><td>0.0</td><td>0.0</td><td>0.0</td><td>0.0</td><td>0.03</td><td>0.0</td><td>0.03</td><td>0.03</td><td>0.03</td></tr>\n",
                            "</table>\n"
                        ],
                        "text/plain": [
                            "+----+-----------------+------+---+-----------+-------------+----+----+---+------+---+---+---+---+---+----+---+-----+----+----+---+----+---+--------+----+----+----+------+------+------+-------+---------+-----+------+---------+-------+-----------+\n",
                            "|  Rk|           Player|Nation|Pos|      Squad|         Comp| Age|Born| MP|Starts|Min|90s|Gls|Ast|G+A|G-PK| PK|PKatt|CrdY|CrdR| xG|npxG|xAG|npxG+xAG|PrgC|PrgP|PrgR|Gls_90|Ast_90|G+A_90|G-PK_90|G+A-PK_90|xG_90|xAG_90|xG+xAG_90|npxG_90|npxG+xAG_90|\n",
                            "+----+-----------------+------+---+-----------+-------------+----+----+---+------+---+---+---+---+---+----+---+-----+----+----+---+----+---+--------+----+----+----+------+------+------+-------+---------+-----+------+---------+-------+-----------+\n",
                            "|1396|Mahmut Kücüksahin|  NULL| MF|   Augsburg|de Bundesliga|  19|2004|  1|     0|  1|0.0|  0|  0|  0|   0|  0|    0|   0|   0|0.0| 0.0|0.0|     0.0|   0|   0|   0|   0.0|   0.0|   0.0|    0.0|      0.0|  0.0|   0.0|      0.0|    0.0|        0.0|\n",
                            "|2075| Marco Pellegrino|  NULL| DF|Salernitana|   it Serie A|NULL|NULL| 10|     5|545|6.1|  0|  0|  0|   0|  0|    0|   1|   0|0.0| 0.0|0.0|     0.1|   0|   7|   1|   0.0|   0.0|   0.0|    0.0|      0.0| 0.01|  0.01|     0.01|   0.01|       0.01|\n",
                            "|2076| Marco Pellegrino|  NULL| DF|      Milan|   it Serie A|NULL|NULL|  1|     0| 68|0.8|  0|  0|  0|   0|  0|    0|   0|   0|0.0| 0.0|0.0|     0.0|   1|   3|   0|   0.0|   0.0|   0.0|    0.0|      0.0| 0.03|   0.0|     0.03|   0.03|       0.03|\n",
                            "+----+-----------------+------+---+-----------+-------------+----+----+---+------+---+---+---+---+---+----+---+-----+----+----+---+----+---+--------+----+----+----+------+------+------+-------+---------+-----+------+---------+-------+-----------+"
                        ]
                    },
                    "execution_count": 5,
                    "metadata": {},
                    "output_type": "execute_result"
                }
            ],
            "source": [
                "# INTRODUCE EL CÓDIGO AQUÍ\n",
                "df.filter(f.col(\"Nation\").isNull())"
            ]
        },
        {
            "cell_type": "markdown",
            "metadata": {},
            "source": [
                "### Apartado 2: Visualizaciones\n",
                "1. Muestra un histograma con la distribución de la edad de los jugadores. Utiliza para ello 26 binnings"
            ]
        },
        {
            "cell_type": "code",
            "execution_count": 6,
            "metadata": {},
            "outputs": [
                {
                    "name": "stderr",
                    "output_type": "stream",
                    "text": [
                        "/home/dadiego/projects/ESIC/esic-bigdata-iv-blackops/.venv/lib/python3.10/site-packages/pyspark/pandas/__init__.py:50: UserWarning: 'PYARROW_IGNORE_TIMEZONE' environment variable was not set. It is required to set this environment variable to '1' in both driver and executor sides if you use pyarrow>=2.0.0. pandas-on-Spark will set it for you but it does not work if there is a Spark context already launched.\n",
                        "  warnings.warn(\n"
                    ]
                },
                {
                    "data": {
                        "application/vnd.plotly.v1+json": {
                            "config": {
                                "plotlyServerURL": "https://plot.ly"
                            },
                            "data": [
                                {
                                    "hovertemplate": "variable=Age<br>value=%{text}<br>count=%{y}",
                                    "name": "Age",
                                    "text": [
                                        "[15.0, 15.961538462)",
                                        "[15.961538462, 16.923076923)",
                                        "[16.923076923, 17.884615385)",
                                        "[17.884615385, 18.846153846)",
                                        "[18.846153846, 19.807692308)",
                                        "[19.807692308, 20.769230769)",
                                        "[20.769230769, 21.730769231)",
                                        "[21.730769231, 22.692307692)",
                                        "[22.692307692, 23.653846154)",
                                        "[23.653846154, 24.615384615)",
                                        "[24.615384615, 25.576923077)",
                                        "[25.576923077, 26.538461538)",
                                        "[26.538461538, 27.5)",
                                        "[27.5, 28.461538462)",
                                        "[28.461538462, 29.423076923)",
                                        "[29.423076923, 30.384615385)",
                                        "[30.384615385, 31.346153846)",
                                        "[31.346153846, 32.307692308)",
                                        "[32.307692308, 33.269230769)",
                                        "[33.269230769, 34.230769231)",
                                        "[34.230769231, 35.192307692)",
                                        "[35.192307692, 36.153846154)",
                                        "[36.153846154, 37.115384615)",
                                        "[37.115384615, 38.076923077)",
                                        "[38.076923077, 39.038461538)",
                                        "[39.038461538, 40.0]"
                                    ],
                                    "type": "bar",
                                    "x": [
                                        15.48076923076923,
                                        16.442307692307693,
                                        17.403846153846153,
                                        18.365384615384613,
                                        19.326923076923077,
                                        20.28846153846154,
                                        21.25,
                                        22.21153846153846,
                                        23.173076923076923,
                                        24.134615384615383,
                                        25.096153846153847,
                                        26.057692307692307,
                                        27.01923076923077,
                                        27.98076923076923,
                                        28.942307692307693,
                                        29.903846153846153,
                                        30.865384615384617,
                                        31.826923076923077,
                                        32.78846153846154,
                                        33.75,
                                        34.71153846153846,
                                        35.67307692307692,
                                        36.63461538461539,
                                        37.59615384615385,
                                        38.55769230769231,
                                        39.519230769230774
                                    ],
                                    "y": [
                                        3,
                                        8,
                                        52,
                                        142,
                                        145,
                                        161,
                                        195,
                                        203,
                                        226,
                                        211,
                                        244,
                                        231,
                                        182,
                                        175,
                                        154,
                                        139,
                                        106,
                                        94,
                                        63,
                                        42,
                                        30,
                                        19,
                                        12,
                                        5,
                                        3,
                                        3
                                    ]
                                }
                            ],
                            "layout": {
                                "barmode": "stack",
                                "template": {
                                    "data": {
                                        "bar": [
                                            {
                                                "error_x": {
                                                    "color": "#2a3f5f"
                                                },
                                                "error_y": {
                                                    "color": "#2a3f5f"
                                                },
                                                "marker": {
                                                    "line": {
                                                        "color": "#E5ECF6",
                                                        "width": 0.5
                                                    },
                                                    "pattern": {
                                                        "fillmode": "overlay",
                                                        "size": 10,
                                                        "solidity": 0.2
                                                    }
                                                },
                                                "type": "bar"
                                            }
                                        ],
                                        "barpolar": [
                                            {
                                                "marker": {
                                                    "line": {
                                                        "color": "#E5ECF6",
                                                        "width": 0.5
                                                    },
                                                    "pattern": {
                                                        "fillmode": "overlay",
                                                        "size": 10,
                                                        "solidity": 0.2
                                                    }
                                                },
                                                "type": "barpolar"
                                            }
                                        ],
                                        "carpet": [
                                            {
                                                "aaxis": {
                                                    "endlinecolor": "#2a3f5f",
                                                    "gridcolor": "white",
                                                    "linecolor": "white",
                                                    "minorgridcolor": "white",
                                                    "startlinecolor": "#2a3f5f"
                                                },
                                                "baxis": {
                                                    "endlinecolor": "#2a3f5f",
                                                    "gridcolor": "white",
                                                    "linecolor": "white",
                                                    "minorgridcolor": "white",
                                                    "startlinecolor": "#2a3f5f"
                                                },
                                                "type": "carpet"
                                            }
                                        ],
                                        "choropleth": [
                                            {
                                                "colorbar": {
                                                    "outlinewidth": 0,
                                                    "ticks": ""
                                                },
                                                "type": "choropleth"
                                            }
                                        ],
                                        "contour": [
                                            {
                                                "colorbar": {
                                                    "outlinewidth": 0,
                                                    "ticks": ""
                                                },
                                                "colorscale": [
                                                    [
                                                        0,
                                                        "#0d0887"
                                                    ],
                                                    [
                                                        0.1111111111111111,
                                                        "#46039f"
                                                    ],
                                                    [
                                                        0.2222222222222222,
                                                        "#7201a8"
                                                    ],
                                                    [
                                                        0.3333333333333333,
                                                        "#9c179e"
                                                    ],
                                                    [
                                                        0.4444444444444444,
                                                        "#bd3786"
                                                    ],
                                                    [
                                                        0.5555555555555556,
                                                        "#d8576b"
                                                    ],
                                                    [
                                                        0.6666666666666666,
                                                        "#ed7953"
                                                    ],
                                                    [
                                                        0.7777777777777778,
                                                        "#fb9f3a"
                                                    ],
                                                    [
                                                        0.8888888888888888,
                                                        "#fdca26"
                                                    ],
                                                    [
                                                        1,
                                                        "#f0f921"
                                                    ]
                                                ],
                                                "type": "contour"
                                            }
                                        ],
                                        "contourcarpet": [
                                            {
                                                "colorbar": {
                                                    "outlinewidth": 0,
                                                    "ticks": ""
                                                },
                                                "type": "contourcarpet"
                                            }
                                        ],
                                        "heatmap": [
                                            {
                                                "colorbar": {
                                                    "outlinewidth": 0,
                                                    "ticks": ""
                                                },
                                                "colorscale": [
                                                    [
                                                        0,
                                                        "#0d0887"
                                                    ],
                                                    [
                                                        0.1111111111111111,
                                                        "#46039f"
                                                    ],
                                                    [
                                                        0.2222222222222222,
                                                        "#7201a8"
                                                    ],
                                                    [
                                                        0.3333333333333333,
                                                        "#9c179e"
                                                    ],
                                                    [
                                                        0.4444444444444444,
                                                        "#bd3786"
                                                    ],
                                                    [
                                                        0.5555555555555556,
                                                        "#d8576b"
                                                    ],
                                                    [
                                                        0.6666666666666666,
                                                        "#ed7953"
                                                    ],
                                                    [
                                                        0.7777777777777778,
                                                        "#fb9f3a"
                                                    ],
                                                    [
                                                        0.8888888888888888,
                                                        "#fdca26"
                                                    ],
                                                    [
                                                        1,
                                                        "#f0f921"
                                                    ]
                                                ],
                                                "type": "heatmap"
                                            }
                                        ],
                                        "heatmapgl": [
                                            {
                                                "colorbar": {
                                                    "outlinewidth": 0,
                                                    "ticks": ""
                                                },
                                                "colorscale": [
                                                    [
                                                        0,
                                                        "#0d0887"
                                                    ],
                                                    [
                                                        0.1111111111111111,
                                                        "#46039f"
                                                    ],
                                                    [
                                                        0.2222222222222222,
                                                        "#7201a8"
                                                    ],
                                                    [
                                                        0.3333333333333333,
                                                        "#9c179e"
                                                    ],
                                                    [
                                                        0.4444444444444444,
                                                        "#bd3786"
                                                    ],
                                                    [
                                                        0.5555555555555556,
                                                        "#d8576b"
                                                    ],
                                                    [
                                                        0.6666666666666666,
                                                        "#ed7953"
                                                    ],
                                                    [
                                                        0.7777777777777778,
                                                        "#fb9f3a"
                                                    ],
                                                    [
                                                        0.8888888888888888,
                                                        "#fdca26"
                                                    ],
                                                    [
                                                        1,
                                                        "#f0f921"
                                                    ]
                                                ],
                                                "type": "heatmapgl"
                                            }
                                        ],
                                        "histogram": [
                                            {
                                                "marker": {
                                                    "pattern": {
                                                        "fillmode": "overlay",
                                                        "size": 10,
                                                        "solidity": 0.2
                                                    }
                                                },
                                                "type": "histogram"
                                            }
                                        ],
                                        "histogram2d": [
                                            {
                                                "colorbar": {
                                                    "outlinewidth": 0,
                                                    "ticks": ""
                                                },
                                                "colorscale": [
                                                    [
                                                        0,
                                                        "#0d0887"
                                                    ],
                                                    [
                                                        0.1111111111111111,
                                                        "#46039f"
                                                    ],
                                                    [
                                                        0.2222222222222222,
                                                        "#7201a8"
                                                    ],
                                                    [
                                                        0.3333333333333333,
                                                        "#9c179e"
                                                    ],
                                                    [
                                                        0.4444444444444444,
                                                        "#bd3786"
                                                    ],
                                                    [
                                                        0.5555555555555556,
                                                        "#d8576b"
                                                    ],
                                                    [
                                                        0.6666666666666666,
                                                        "#ed7953"
                                                    ],
                                                    [
                                                        0.7777777777777778,
                                                        "#fb9f3a"
                                                    ],
                                                    [
                                                        0.8888888888888888,
                                                        "#fdca26"
                                                    ],
                                                    [
                                                        1,
                                                        "#f0f921"
                                                    ]
                                                ],
                                                "type": "histogram2d"
                                            }
                                        ],
                                        "histogram2dcontour": [
                                            {
                                                "colorbar": {
                                                    "outlinewidth": 0,
                                                    "ticks": ""
                                                },
                                                "colorscale": [
                                                    [
                                                        0,
                                                        "#0d0887"
                                                    ],
                                                    [
                                                        0.1111111111111111,
                                                        "#46039f"
                                                    ],
                                                    [
                                                        0.2222222222222222,
                                                        "#7201a8"
                                                    ],
                                                    [
                                                        0.3333333333333333,
                                                        "#9c179e"
                                                    ],
                                                    [
                                                        0.4444444444444444,
                                                        "#bd3786"
                                                    ],
                                                    [
                                                        0.5555555555555556,
                                                        "#d8576b"
                                                    ],
                                                    [
                                                        0.6666666666666666,
                                                        "#ed7953"
                                                    ],
                                                    [
                                                        0.7777777777777778,
                                                        "#fb9f3a"
                                                    ],
                                                    [
                                                        0.8888888888888888,
                                                        "#fdca26"
                                                    ],
                                                    [
                                                        1,
                                                        "#f0f921"
                                                    ]
                                                ],
                                                "type": "histogram2dcontour"
                                            }
                                        ],
                                        "mesh3d": [
                                            {
                                                "colorbar": {
                                                    "outlinewidth": 0,
                                                    "ticks": ""
                                                },
                                                "type": "mesh3d"
                                            }
                                        ],
                                        "parcoords": [
                                            {
                                                "line": {
                                                    "colorbar": {
                                                        "outlinewidth": 0,
                                                        "ticks": ""
                                                    }
                                                },
                                                "type": "parcoords"
                                            }
                                        ],
                                        "pie": [
                                            {
                                                "automargin": true,
                                                "type": "pie"
                                            }
                                        ],
                                        "scatter": [
                                            {
                                                "fillpattern": {
                                                    "fillmode": "overlay",
                                                    "size": 10,
                                                    "solidity": 0.2
                                                },
                                                "type": "scatter"
                                            }
                                        ],
                                        "scatter3d": [
                                            {
                                                "line": {
                                                    "colorbar": {
                                                        "outlinewidth": 0,
                                                        "ticks": ""
                                                    }
                                                },
                                                "marker": {
                                                    "colorbar": {
                                                        "outlinewidth": 0,
                                                        "ticks": ""
                                                    }
                                                },
                                                "type": "scatter3d"
                                            }
                                        ],
                                        "scattercarpet": [
                                            {
                                                "marker": {
                                                    "colorbar": {
                                                        "outlinewidth": 0,
                                                        "ticks": ""
                                                    }
                                                },
                                                "type": "scattercarpet"
                                            }
                                        ],
                                        "scattergeo": [
                                            {
                                                "marker": {
                                                    "colorbar": {
                                                        "outlinewidth": 0,
                                                        "ticks": ""
                                                    }
                                                },
                                                "type": "scattergeo"
                                            }
                                        ],
                                        "scattergl": [
                                            {
                                                "marker": {
                                                    "colorbar": {
                                                        "outlinewidth": 0,
                                                        "ticks": ""
                                                    }
                                                },
                                                "type": "scattergl"
                                            }
                                        ],
                                        "scattermapbox": [
                                            {
                                                "marker": {
                                                    "colorbar": {
                                                        "outlinewidth": 0,
                                                        "ticks": ""
                                                    }
                                                },
                                                "type": "scattermapbox"
                                            }
                                        ],
                                        "scatterpolar": [
                                            {
                                                "marker": {
                                                    "colorbar": {
                                                        "outlinewidth": 0,
                                                        "ticks": ""
                                                    }
                                                },
                                                "type": "scatterpolar"
                                            }
                                        ],
                                        "scatterpolargl": [
                                            {
                                                "marker": {
                                                    "colorbar": {
                                                        "outlinewidth": 0,
                                                        "ticks": ""
                                                    }
                                                },
                                                "type": "scatterpolargl"
                                            }
                                        ],
                                        "scatterternary": [
                                            {
                                                "marker": {
                                                    "colorbar": {
                                                        "outlinewidth": 0,
                                                        "ticks": ""
                                                    }
                                                },
                                                "type": "scatterternary"
                                            }
                                        ],
                                        "surface": [
                                            {
                                                "colorbar": {
                                                    "outlinewidth": 0,
                                                    "ticks": ""
                                                },
                                                "colorscale": [
                                                    [
                                                        0,
                                                        "#0d0887"
                                                    ],
                                                    [
                                                        0.1111111111111111,
                                                        "#46039f"
                                                    ],
                                                    [
                                                        0.2222222222222222,
                                                        "#7201a8"
                                                    ],
                                                    [
                                                        0.3333333333333333,
                                                        "#9c179e"
                                                    ],
                                                    [
                                                        0.4444444444444444,
                                                        "#bd3786"
                                                    ],
                                                    [
                                                        0.5555555555555556,
                                                        "#d8576b"
                                                    ],
                                                    [
                                                        0.6666666666666666,
                                                        "#ed7953"
                                                    ],
                                                    [
                                                        0.7777777777777778,
                                                        "#fb9f3a"
                                                    ],
                                                    [
                                                        0.8888888888888888,
                                                        "#fdca26"
                                                    ],
                                                    [
                                                        1,
                                                        "#f0f921"
                                                    ]
                                                ],
                                                "type": "surface"
                                            }
                                        ],
                                        "table": [
                                            {
                                                "cells": {
                                                    "fill": {
                                                        "color": "#EBF0F8"
                                                    },
                                                    "line": {
                                                        "color": "white"
                                                    }
                                                },
                                                "header": {
                                                    "fill": {
                                                        "color": "#C8D4E3"
                                                    },
                                                    "line": {
                                                        "color": "white"
                                                    }
                                                },
                                                "type": "table"
                                            }
                                        ]
                                    },
                                    "layout": {
                                        "annotationdefaults": {
                                            "arrowcolor": "#2a3f5f",
                                            "arrowhead": 0,
                                            "arrowwidth": 1
                                        },
                                        "autotypenumbers": "strict",
                                        "coloraxis": {
                                            "colorbar": {
                                                "outlinewidth": 0,
                                                "ticks": ""
                                            }
                                        },
                                        "colorscale": {
                                            "diverging": [
                                                [
                                                    0,
                                                    "#8e0152"
                                                ],
                                                [
                                                    0.1,
                                                    "#c51b7d"
                                                ],
                                                [
                                                    0.2,
                                                    "#de77ae"
                                                ],
                                                [
                                                    0.3,
                                                    "#f1b6da"
                                                ],
                                                [
                                                    0.4,
                                                    "#fde0ef"
                                                ],
                                                [
                                                    0.5,
                                                    "#f7f7f7"
                                                ],
                                                [
                                                    0.6,
                                                    "#e6f5d0"
                                                ],
                                                [
                                                    0.7,
                                                    "#b8e186"
                                                ],
                                                [
                                                    0.8,
                                                    "#7fbc41"
                                                ],
                                                [
                                                    0.9,
                                                    "#4d9221"
                                                ],
                                                [
                                                    1,
                                                    "#276419"
                                                ]
                                            ],
                                            "sequential": [
                                                [
                                                    0,
                                                    "#0d0887"
                                                ],
                                                [
                                                    0.1111111111111111,
                                                    "#46039f"
                                                ],
                                                [
                                                    0.2222222222222222,
                                                    "#7201a8"
                                                ],
                                                [
                                                    0.3333333333333333,
                                                    "#9c179e"
                                                ],
                                                [
                                                    0.4444444444444444,
                                                    "#bd3786"
                                                ],
                                                [
                                                    0.5555555555555556,
                                                    "#d8576b"
                                                ],
                                                [
                                                    0.6666666666666666,
                                                    "#ed7953"
                                                ],
                                                [
                                                    0.7777777777777778,
                                                    "#fb9f3a"
                                                ],
                                                [
                                                    0.8888888888888888,
                                                    "#fdca26"
                                                ],
                                                [
                                                    1,
                                                    "#f0f921"
                                                ]
                                            ],
                                            "sequentialminus": [
                                                [
                                                    0,
                                                    "#0d0887"
                                                ],
                                                [
                                                    0.1111111111111111,
                                                    "#46039f"
                                                ],
                                                [
                                                    0.2222222222222222,
                                                    "#7201a8"
                                                ],
                                                [
                                                    0.3333333333333333,
                                                    "#9c179e"
                                                ],
                                                [
                                                    0.4444444444444444,
                                                    "#bd3786"
                                                ],
                                                [
                                                    0.5555555555555556,
                                                    "#d8576b"
                                                ],
                                                [
                                                    0.6666666666666666,
                                                    "#ed7953"
                                                ],
                                                [
                                                    0.7777777777777778,
                                                    "#fb9f3a"
                                                ],
                                                [
                                                    0.8888888888888888,
                                                    "#fdca26"
                                                ],
                                                [
                                                    1,
                                                    "#f0f921"
                                                ]
                                            ]
                                        },
                                        "colorway": [
                                            "#636efa",
                                            "#EF553B",
                                            "#00cc96",
                                            "#ab63fa",
                                            "#FFA15A",
                                            "#19d3f3",
                                            "#FF6692",
                                            "#B6E880",
                                            "#FF97FF",
                                            "#FECB52"
                                        ],
                                        "font": {
                                            "color": "#2a3f5f"
                                        },
                                        "geo": {
                                            "bgcolor": "white",
                                            "lakecolor": "white",
                                            "landcolor": "#E5ECF6",
                                            "showlakes": true,
                                            "showland": true,
                                            "subunitcolor": "white"
                                        },
                                        "hoverlabel": {
                                            "align": "left"
                                        },
                                        "hovermode": "closest",
                                        "mapbox": {
                                            "style": "light"
                                        },
                                        "paper_bgcolor": "white",
                                        "plot_bgcolor": "#E5ECF6",
                                        "polar": {
                                            "angularaxis": {
                                                "gridcolor": "white",
                                                "linecolor": "white",
                                                "ticks": ""
                                            },
                                            "bgcolor": "#E5ECF6",
                                            "radialaxis": {
                                                "gridcolor": "white",
                                                "linecolor": "white",
                                                "ticks": ""
                                            }
                                        },
                                        "scene": {
                                            "xaxis": {
                                                "backgroundcolor": "#E5ECF6",
                                                "gridcolor": "white",
                                                "gridwidth": 2,
                                                "linecolor": "white",
                                                "showbackground": true,
                                                "ticks": "",
                                                "zerolinecolor": "white"
                                            },
                                            "yaxis": {
                                                "backgroundcolor": "#E5ECF6",
                                                "gridcolor": "white",
                                                "gridwidth": 2,
                                                "linecolor": "white",
                                                "showbackground": true,
                                                "ticks": "",
                                                "zerolinecolor": "white"
                                            },
                                            "zaxis": {
                                                "backgroundcolor": "#E5ECF6",
                                                "gridcolor": "white",
                                                "gridwidth": 2,
                                                "linecolor": "white",
                                                "showbackground": true,
                                                "ticks": "",
                                                "zerolinecolor": "white"
                                            }
                                        },
                                        "shapedefaults": {
                                            "line": {
                                                "color": "#2a3f5f"
                                            }
                                        },
                                        "ternary": {
                                            "aaxis": {
                                                "gridcolor": "white",
                                                "linecolor": "white",
                                                "ticks": ""
                                            },
                                            "baxis": {
                                                "gridcolor": "white",
                                                "linecolor": "white",
                                                "ticks": ""
                                            },
                                            "bgcolor": "#E5ECF6",
                                            "caxis": {
                                                "gridcolor": "white",
                                                "linecolor": "white",
                                                "ticks": ""
                                            }
                                        },
                                        "title": {
                                            "x": 0.05
                                        },
                                        "xaxis": {
                                            "automargin": true,
                                            "gridcolor": "white",
                                            "linecolor": "white",
                                            "ticks": "",
                                            "title": {
                                                "standoff": 15
                                            },
                                            "zerolinecolor": "white",
                                            "zerolinewidth": 2
                                        },
                                        "yaxis": {
                                            "automargin": true,
                                            "gridcolor": "white",
                                            "linecolor": "white",
                                            "ticks": "",
                                            "title": {
                                                "standoff": 15
                                            },
                                            "zerolinecolor": "white",
                                            "zerolinewidth": 2
                                        }
                                    }
                                },
                                "xaxis": {
                                    "title": {
                                        "text": "value"
                                    }
                                },
                                "yaxis": {
                                    "title": {
                                        "text": "count"
                                    }
                                }
                            }
                        }
                    },
                    "metadata": {},
                    "output_type": "display_data"
                }
            ],
            "source": [
                "# INTRODUCE EL CÓDIGO AQUÍ\n",
                "df.select(\"Age\").pandas_api().plot.hist(bins=26)"
            ]
        },
        {
            "cell_type": "markdown",
            "metadata": {},
            "source": [
                "2. Ahora nos interesa conocer, por cada equipo, cuál es la media de edad de la plantilla, distribuida según la posición en el campo, para así visualizar si hay que cubrir  ciertas posiciones con nuevos jugadores jóvenes o no.\n",
                "\n",
                "    Buscamos una tabla en la que la primera columna denote los diferentes equipos, y el resto de columnas represente las distintas posiciones. El valor de cada celda representará la media de edad para el equipo y posición correspondiente."
            ]
        },
        {
            "cell_type": "code",
            "execution_count": 10,
            "metadata": {},
            "outputs": [
                {
                    "data": {
                        "text/html": [
                            "<table border='1'>\n",
                            "<tr><th>Squad</th><th>DF</th><th>DF,FW</th><th>DF,MF</th><th>FW</th><th>FW,DF</th><th>FW,MF</th><th>GK</th><th>MF</th><th>MF,DF</th><th>MF,FW</th></tr>\n",
                            "<tr><td>Alav&eacute;s</td><td>24.625</td><td>NULL</td><td>NULL</td><td>21.0</td><td>NULL</td><td>25.444444444444443</td><td>24.0</td><td>23.5</td><td>NULL</td><td>22.0</td></tr>\n",
                            "<tr><td>Almer&iacute;a</td><td>23.90909090909091</td><td>NULL</td><td>25.0</td><td>24.166666666666668</td><td>22.0</td><td>22.4</td><td>30.0</td><td>25.0</td><td>NULL</td><td>25.0</td></tr>\n",
                            "<tr><td>Arsenal</td><td>24.75</td><td>NULL</td><td>NULL</td><td>22.0</td><td>NULL</td><td>28.0</td><td>26.0</td><td>26.6</td><td>30.0</td><td>23.5</td></tr>\n",
                            "<tr><td>Aston Villa</td><td>28.0</td><td>27.0</td><td>NULL</td><td>21.666666666666668</td><td>NULL</td><td>22.25</td><td>31.5</td><td>22.666666666666668</td><td>24.0</td><td>26.2</td></tr>\n",
                            "<tr><td>Atalanta</td><td>26.076923076923077</td><td>NULL</td><td>NULL</td><td>25.666666666666668</td><td>NULL</td><td>26.333333333333332</td><td>28.0</td><td>23.4</td><td>32.0</td><td>27.0</td></tr>\n",
                            "<tr><td>Athletic Club</td><td>27.857142857142858</td><td>NULL</td><td>24.0</td><td>23.857142857142858</td><td>NULL</td><td>37.0</td><td>24.0</td><td>26.714285714285715</td><td>22.0</td><td>30.0</td></tr>\n",
                            "<tr><td>Atl&eacute;tico Madrid</td><td>29.545454545454547</td><td>NULL</td><td>23.0</td><td>26.0</td><td>NULL</td><td>30.0</td><td>30.0</td><td>24.571428571428573</td><td>28.0</td><td>NULL</td></tr>\n",
                            "<tr><td>Augsburg</td><td>26.0</td><td>NULL</td><td>NULL</td><td>24.0</td><td>27.0</td><td>26.333333333333332</td><td>27.5</td><td>23.333333333333332</td><td>20.666666666666668</td><td>25.0</td></tr>\n",
                            "<tr><td>Barcelona</td><td>23.77777777777778</td><td>NULL</td><td>27.0</td><td>22.8</td><td>NULL</td><td>21.333333333333332</td><td>27.5</td><td>27.0</td><td>31.0</td><td>19.5</td></tr>\n",
                            "<tr><td>Bayern Munich</td><td>24.666666666666668</td><td>NULL</td><td>27.5</td><td>23.166666666666668</td><td>NULL</td><td>21.5</td><td>31.333333333333332</td><td>23.5</td><td>28.0</td><td>29.0</td></tr>\n",
                            "<tr><td>Betis</td><td>26.181818181818183</td><td>27.0</td><td>NULL</td><td>26.11111111111111</td><td>NULL</td><td>25.0</td><td>31.0</td><td>27.5</td><td>NULL</td><td>30.0</td></tr>\n",
                            "<tr><td>Bochum</td><td>27.375</td><td>27.0</td><td>24.0</td><td>25.666666666666668</td><td>NULL</td><td>29.25</td><td>35.0</td><td>29.666666666666668</td><td>NULL</td><td>26.333333333333332</td></tr>\n",
                            "<tr><td>Bologna</td><td>25.11111111111111</td><td>NULL</td><td>NULL</td><td>22.0</td><td>NULL</td><td>24.0</td><td>24.666666666666668</td><td>25.333333333333332</td><td>NULL</td><td>19.0</td></tr>\n",
                            "<tr><td>Bournemouth</td><td>23.75</td><td>NULL</td><td>NULL</td><td>22.8</td><td>21.0</td><td>26.5</td><td>28.0</td><td>25.0</td><td>NULL</td><td>24.5</td></tr>\n",
                            "<tr><td>Brentford</td><td>26.9</td><td>21.5</td><td>20.0</td><td>25.5</td><td>22.0</td><td>21.0</td><td>29.0</td><td>24.666666666666668</td><td>25.0</td><td>NULL</td></tr>\n",
                            "<tr><td>Brest</td><td>25.0</td><td>24.0</td><td>NULL</td><td>24.2</td><td>NULL</td><td>24.5</td><td>28.0</td><td>26.6</td><td>NULL</td><td>22.333333333333332</td></tr>\n",
                            "<tr><td>Brighton</td><td>25.125</td><td>20.5</td><td>37.0</td><td>20.75</td><td>24.0</td><td>23.666666666666668</td><td>26.0</td><td>22.666666666666668</td><td>28.0</td><td>24.666666666666668</td></tr>\n",
                            "<tr><td>Burnley</td><td>24.0</td><td>NULL</td><td>24.0</td><td>25.333333333333332</td><td>NULL</td><td>24.0</td><td>22.0</td><td>28.25</td><td>22.0</td><td>23.0</td></tr>\n",
                            "<tr><td>Cagliari</td><td>25.5</td><td>NULL</td><td>26.5</td><td>31.666666666666668</td><td>NULL</td><td>22.4</td><td>30.333333333333332</td><td>22.75</td><td>27.0</td><td>31.333333333333332</td></tr>\n",
                            "<tr><td>Celta Vigo</td><td>25.333333333333332</td><td>NULL</td><td>25.8</td><td>25.5</td><td>NULL</td><td>19.0</td><td>31.0</td><td>21.666666666666668</td><td>24.6</td><td>25.5</td></tr>\n",
                            "</table>\n",
                            "only showing top 20 rows\n"
                        ],
                        "text/plain": [
                            "+---------------+------------------+-----+-----+------------------+-----+------------------+------------------+------------------+------------------+------------------+\n",
                            "|          Squad|                DF|DF,FW|DF,MF|                FW|FW,DF|             FW,MF|                GK|                MF|             MF,DF|             MF,FW|\n",
                            "+---------------+------------------+-----+-----+------------------+-----+------------------+------------------+------------------+------------------+------------------+\n",
                            "|         Alavés|            24.625| NULL| NULL|              21.0| NULL|25.444444444444443|              24.0|              23.5|              NULL|              22.0|\n",
                            "|        Almería| 23.90909090909091| NULL| 25.0|24.166666666666668| 22.0|              22.4|              30.0|              25.0|              NULL|              25.0|\n",
                            "|        Arsenal|             24.75| NULL| NULL|              22.0| NULL|              28.0|              26.0|              26.6|              30.0|              23.5|\n",
                            "|    Aston Villa|              28.0| 27.0| NULL|21.666666666666668| NULL|             22.25|              31.5|22.666666666666668|              24.0|              26.2|\n",
                            "|       Atalanta|26.076923076923077| NULL| NULL|25.666666666666668| NULL|26.333333333333332|              28.0|              23.4|              32.0|              27.0|\n",
                            "|  Athletic Club|27.857142857142858| NULL| 24.0|23.857142857142858| NULL|              37.0|              24.0|26.714285714285715|              22.0|              30.0|\n",
                            "|Atlético Madrid|29.545454545454547| NULL| 23.0|              26.0| NULL|              30.0|              30.0|24.571428571428573|              28.0|              NULL|\n",
                            "|       Augsburg|              26.0| NULL| NULL|              24.0| 27.0|26.333333333333332|              27.5|23.333333333333332|20.666666666666668|              25.0|\n",
                            "|      Barcelona| 23.77777777777778| NULL| 27.0|              22.8| NULL|21.333333333333332|              27.5|              27.0|              31.0|              19.5|\n",
                            "|  Bayern Munich|24.666666666666668| NULL| 27.5|23.166666666666668| NULL|              21.5|31.333333333333332|              23.5|              28.0|              29.0|\n",
                            "|          Betis|26.181818181818183| 27.0| NULL| 26.11111111111111| NULL|              25.0|              31.0|              27.5|              NULL|              30.0|\n",
                            "|         Bochum|            27.375| 27.0| 24.0|25.666666666666668| NULL|             29.25|              35.0|29.666666666666668|              NULL|26.333333333333332|\n",
                            "|        Bologna| 25.11111111111111| NULL| NULL|              22.0| NULL|              24.0|24.666666666666668|25.333333333333332|              NULL|              19.0|\n",
                            "|    Bournemouth|             23.75| NULL| NULL|              22.8| 21.0|              26.5|              28.0|              25.0|              NULL|              24.5|\n",
                            "|      Brentford|              26.9| 21.5| 20.0|              25.5| 22.0|              21.0|              29.0|24.666666666666668|              25.0|              NULL|\n",
                            "|          Brest|              25.0| 24.0| NULL|              24.2| NULL|              24.5|              28.0|              26.6|              NULL|22.333333333333332|\n",
                            "|       Brighton|            25.125| 20.5| 37.0|             20.75| 24.0|23.666666666666668|              26.0|22.666666666666668|              28.0|24.666666666666668|\n",
                            "|        Burnley|              24.0| NULL| 24.0|25.333333333333332| NULL|              24.0|              22.0|             28.25|              22.0|              23.0|\n",
                            "|       Cagliari|              25.5| NULL| 26.5|31.666666666666668| NULL|              22.4|30.333333333333332|             22.75|              27.0|31.333333333333332|\n",
                            "|     Celta Vigo|25.333333333333332| NULL| 25.8|              25.5| NULL|              19.0|              31.0|21.666666666666668|              24.6|              25.5|\n",
                            "+---------------+------------------+-----+-----+------------------+-----+------------------+------------------+------------------+------------------+------------------+\n",
                            "only showing top 20 rows"
                        ]
                    },
                    "execution_count": 10,
                    "metadata": {},
                    "output_type": "execute_result"
                }
            ],
            "source": [
                "# INTRODUCE EL CÓDIGO AQUÍ\n",
                "df.groupBy(\"Squad\").pivot(\"Pos\").avg(\"Age\").orderBy(\"Squad\")"
            ]
        },
        {
            "cell_type": "markdown",
            "metadata": {},
            "source": [
                "3. Por último, muestra una gráfica con el número total de tarjetas rojas por cada equipo, solo para el top 5 de equipos con más tarjetas rojas"
            ]
        },
        {
            "cell_type": "code",
            "execution_count": 15,
            "metadata": {},
            "outputs": [
                {
                    "data": {
                        "application/vnd.plotly.v1+json": {
                            "config": {
                                "plotlyServerURL": "https://plot.ly"
                            },
                            "data": [
                                {
                                    "alignmentgroup": "True",
                                    "hovertemplate": "variable=sum(CrdR)<br>Squad=%{x}<br>value=%{y}<extra></extra>",
                                    "legendgroup": "sum(CrdR)",
                                    "marker": {
                                        "color": "#636efa",
                                        "pattern": {
                                            "shape": ""
                                        }
                                    },
                                    "name": "sum(CrdR)",
                                    "offsetgroup": "sum(CrdR)",
                                    "orientation": "v",
                                    "showlegend": true,
                                    "textposition": "auto",
                                    "type": "bar",
                                    "x": [
                                        "Getafe",
                                        "Villarreal",
                                        "Milan",
                                        "Monaco",
                                        "Burnley"
                                    ],
                                    "xaxis": "x",
                                    "y": [
                                        10,
                                        8,
                                        8,
                                        8,
                                        7
                                    ],
                                    "yaxis": "y"
                                }
                            ],
                            "layout": {
                                "barmode": "relative",
                                "legend": {
                                    "title": {
                                        "text": "variable"
                                    },
                                    "tracegroupgap": 0
                                },
                                "margin": {
                                    "t": 60
                                },
                                "template": {
                                    "data": {
                                        "bar": [
                                            {
                                                "error_x": {
                                                    "color": "#2a3f5f"
                                                },
                                                "error_y": {
                                                    "color": "#2a3f5f"
                                                },
                                                "marker": {
                                                    "line": {
                                                        "color": "#E5ECF6",
                                                        "width": 0.5
                                                    },
                                                    "pattern": {
                                                        "fillmode": "overlay",
                                                        "size": 10,
                                                        "solidity": 0.2
                                                    }
                                                },
                                                "type": "bar"
                                            }
                                        ],
                                        "barpolar": [
                                            {
                                                "marker": {
                                                    "line": {
                                                        "color": "#E5ECF6",
                                                        "width": 0.5
                                                    },
                                                    "pattern": {
                                                        "fillmode": "overlay",
                                                        "size": 10,
                                                        "solidity": 0.2
                                                    }
                                                },
                                                "type": "barpolar"
                                            }
                                        ],
                                        "carpet": [
                                            {
                                                "aaxis": {
                                                    "endlinecolor": "#2a3f5f",
                                                    "gridcolor": "white",
                                                    "linecolor": "white",
                                                    "minorgridcolor": "white",
                                                    "startlinecolor": "#2a3f5f"
                                                },
                                                "baxis": {
                                                    "endlinecolor": "#2a3f5f",
                                                    "gridcolor": "white",
                                                    "linecolor": "white",
                                                    "minorgridcolor": "white",
                                                    "startlinecolor": "#2a3f5f"
                                                },
                                                "type": "carpet"
                                            }
                                        ],
                                        "choropleth": [
                                            {
                                                "colorbar": {
                                                    "outlinewidth": 0,
                                                    "ticks": ""
                                                },
                                                "type": "choropleth"
                                            }
                                        ],
                                        "contour": [
                                            {
                                                "colorbar": {
                                                    "outlinewidth": 0,
                                                    "ticks": ""
                                                },
                                                "colorscale": [
                                                    [
                                                        0,
                                                        "#0d0887"
                                                    ],
                                                    [
                                                        0.1111111111111111,
                                                        "#46039f"
                                                    ],
                                                    [
                                                        0.2222222222222222,
                                                        "#7201a8"
                                                    ],
                                                    [
                                                        0.3333333333333333,
                                                        "#9c179e"
                                                    ],
                                                    [
                                                        0.4444444444444444,
                                                        "#bd3786"
                                                    ],
                                                    [
                                                        0.5555555555555556,
                                                        "#d8576b"
                                                    ],
                                                    [
                                                        0.6666666666666666,
                                                        "#ed7953"
                                                    ],
                                                    [
                                                        0.7777777777777778,
                                                        "#fb9f3a"
                                                    ],
                                                    [
                                                        0.8888888888888888,
                                                        "#fdca26"
                                                    ],
                                                    [
                                                        1,
                                                        "#f0f921"
                                                    ]
                                                ],
                                                "type": "contour"
                                            }
                                        ],
                                        "contourcarpet": [
                                            {
                                                "colorbar": {
                                                    "outlinewidth": 0,
                                                    "ticks": ""
                                                },
                                                "type": "contourcarpet"
                                            }
                                        ],
                                        "heatmap": [
                                            {
                                                "colorbar": {
                                                    "outlinewidth": 0,
                                                    "ticks": ""
                                                },
                                                "colorscale": [
                                                    [
                                                        0,
                                                        "#0d0887"
                                                    ],
                                                    [
                                                        0.1111111111111111,
                                                        "#46039f"
                                                    ],
                                                    [
                                                        0.2222222222222222,
                                                        "#7201a8"
                                                    ],
                                                    [
                                                        0.3333333333333333,
                                                        "#9c179e"
                                                    ],
                                                    [
                                                        0.4444444444444444,
                                                        "#bd3786"
                                                    ],
                                                    [
                                                        0.5555555555555556,
                                                        "#d8576b"
                                                    ],
                                                    [
                                                        0.6666666666666666,
                                                        "#ed7953"
                                                    ],
                                                    [
                                                        0.7777777777777778,
                                                        "#fb9f3a"
                                                    ],
                                                    [
                                                        0.8888888888888888,
                                                        "#fdca26"
                                                    ],
                                                    [
                                                        1,
                                                        "#f0f921"
                                                    ]
                                                ],
                                                "type": "heatmap"
                                            }
                                        ],
                                        "heatmapgl": [
                                            {
                                                "colorbar": {
                                                    "outlinewidth": 0,
                                                    "ticks": ""
                                                },
                                                "colorscale": [
                                                    [
                                                        0,
                                                        "#0d0887"
                                                    ],
                                                    [
                                                        0.1111111111111111,
                                                        "#46039f"
                                                    ],
                                                    [
                                                        0.2222222222222222,
                                                        "#7201a8"
                                                    ],
                                                    [
                                                        0.3333333333333333,
                                                        "#9c179e"
                                                    ],
                                                    [
                                                        0.4444444444444444,
                                                        "#bd3786"
                                                    ],
                                                    [
                                                        0.5555555555555556,
                                                        "#d8576b"
                                                    ],
                                                    [
                                                        0.6666666666666666,
                                                        "#ed7953"
                                                    ],
                                                    [
                                                        0.7777777777777778,
                                                        "#fb9f3a"
                                                    ],
                                                    [
                                                        0.8888888888888888,
                                                        "#fdca26"
                                                    ],
                                                    [
                                                        1,
                                                        "#f0f921"
                                                    ]
                                                ],
                                                "type": "heatmapgl"
                                            }
                                        ],
                                        "histogram": [
                                            {
                                                "marker": {
                                                    "pattern": {
                                                        "fillmode": "overlay",
                                                        "size": 10,
                                                        "solidity": 0.2
                                                    }
                                                },
                                                "type": "histogram"
                                            }
                                        ],
                                        "histogram2d": [
                                            {
                                                "colorbar": {
                                                    "outlinewidth": 0,
                                                    "ticks": ""
                                                },
                                                "colorscale": [
                                                    [
                                                        0,
                                                        "#0d0887"
                                                    ],
                                                    [
                                                        0.1111111111111111,
                                                        "#46039f"
                                                    ],
                                                    [
                                                        0.2222222222222222,
                                                        "#7201a8"
                                                    ],
                                                    [
                                                        0.3333333333333333,
                                                        "#9c179e"
                                                    ],
                                                    [
                                                        0.4444444444444444,
                                                        "#bd3786"
                                                    ],
                                                    [
                                                        0.5555555555555556,
                                                        "#d8576b"
                                                    ],
                                                    [
                                                        0.6666666666666666,
                                                        "#ed7953"
                                                    ],
                                                    [
                                                        0.7777777777777778,
                                                        "#fb9f3a"
                                                    ],
                                                    [
                                                        0.8888888888888888,
                                                        "#fdca26"
                                                    ],
                                                    [
                                                        1,
                                                        "#f0f921"
                                                    ]
                                                ],
                                                "type": "histogram2d"
                                            }
                                        ],
                                        "histogram2dcontour": [
                                            {
                                                "colorbar": {
                                                    "outlinewidth": 0,
                                                    "ticks": ""
                                                },
                                                "colorscale": [
                                                    [
                                                        0,
                                                        "#0d0887"
                                                    ],
                                                    [
                                                        0.1111111111111111,
                                                        "#46039f"
                                                    ],
                                                    [
                                                        0.2222222222222222,
                                                        "#7201a8"
                                                    ],
                                                    [
                                                        0.3333333333333333,
                                                        "#9c179e"
                                                    ],
                                                    [
                                                        0.4444444444444444,
                                                        "#bd3786"
                                                    ],
                                                    [
                                                        0.5555555555555556,
                                                        "#d8576b"
                                                    ],
                                                    [
                                                        0.6666666666666666,
                                                        "#ed7953"
                                                    ],
                                                    [
                                                        0.7777777777777778,
                                                        "#fb9f3a"
                                                    ],
                                                    [
                                                        0.8888888888888888,
                                                        "#fdca26"
                                                    ],
                                                    [
                                                        1,
                                                        "#f0f921"
                                                    ]
                                                ],
                                                "type": "histogram2dcontour"
                                            }
                                        ],
                                        "mesh3d": [
                                            {
                                                "colorbar": {
                                                    "outlinewidth": 0,
                                                    "ticks": ""
                                                },
                                                "type": "mesh3d"
                                            }
                                        ],
                                        "parcoords": [
                                            {
                                                "line": {
                                                    "colorbar": {
                                                        "outlinewidth": 0,
                                                        "ticks": ""
                                                    }
                                                },
                                                "type": "parcoords"
                                            }
                                        ],
                                        "pie": [
                                            {
                                                "automargin": true,
                                                "type": "pie"
                                            }
                                        ],
                                        "scatter": [
                                            {
                                                "fillpattern": {
                                                    "fillmode": "overlay",
                                                    "size": 10,
                                                    "solidity": 0.2
                                                },
                                                "type": "scatter"
                                            }
                                        ],
                                        "scatter3d": [
                                            {
                                                "line": {
                                                    "colorbar": {
                                                        "outlinewidth": 0,
                                                        "ticks": ""
                                                    }
                                                },
                                                "marker": {
                                                    "colorbar": {
                                                        "outlinewidth": 0,
                                                        "ticks": ""
                                                    }
                                                },
                                                "type": "scatter3d"
                                            }
                                        ],
                                        "scattercarpet": [
                                            {
                                                "marker": {
                                                    "colorbar": {
                                                        "outlinewidth": 0,
                                                        "ticks": ""
                                                    }
                                                },
                                                "type": "scattercarpet"
                                            }
                                        ],
                                        "scattergeo": [
                                            {
                                                "marker": {
                                                    "colorbar": {
                                                        "outlinewidth": 0,
                                                        "ticks": ""
                                                    }
                                                },
                                                "type": "scattergeo"
                                            }
                                        ],
                                        "scattergl": [
                                            {
                                                "marker": {
                                                    "colorbar": {
                                                        "outlinewidth": 0,
                                                        "ticks": ""
                                                    }
                                                },
                                                "type": "scattergl"
                                            }
                                        ],
                                        "scattermapbox": [
                                            {
                                                "marker": {
                                                    "colorbar": {
                                                        "outlinewidth": 0,
                                                        "ticks": ""
                                                    }
                                                },
                                                "type": "scattermapbox"
                                            }
                                        ],
                                        "scatterpolar": [
                                            {
                                                "marker": {
                                                    "colorbar": {
                                                        "outlinewidth": 0,
                                                        "ticks": ""
                                                    }
                                                },
                                                "type": "scatterpolar"
                                            }
                                        ],
                                        "scatterpolargl": [
                                            {
                                                "marker": {
                                                    "colorbar": {
                                                        "outlinewidth": 0,
                                                        "ticks": ""
                                                    }
                                                },
                                                "type": "scatterpolargl"
                                            }
                                        ],
                                        "scatterternary": [
                                            {
                                                "marker": {
                                                    "colorbar": {
                                                        "outlinewidth": 0,
                                                        "ticks": ""
                                                    }
                                                },
                                                "type": "scatterternary"
                                            }
                                        ],
                                        "surface": [
                                            {
                                                "colorbar": {
                                                    "outlinewidth": 0,
                                                    "ticks": ""
                                                },
                                                "colorscale": [
                                                    [
                                                        0,
                                                        "#0d0887"
                                                    ],
                                                    [
                                                        0.1111111111111111,
                                                        "#46039f"
                                                    ],
                                                    [
                                                        0.2222222222222222,
                                                        "#7201a8"
                                                    ],
                                                    [
                                                        0.3333333333333333,
                                                        "#9c179e"
                                                    ],
                                                    [
                                                        0.4444444444444444,
                                                        "#bd3786"
                                                    ],
                                                    [
                                                        0.5555555555555556,
                                                        "#d8576b"
                                                    ],
                                                    [
                                                        0.6666666666666666,
                                                        "#ed7953"
                                                    ],
                                                    [
                                                        0.7777777777777778,
                                                        "#fb9f3a"
                                                    ],
                                                    [
                                                        0.8888888888888888,
                                                        "#fdca26"
                                                    ],
                                                    [
                                                        1,
                                                        "#f0f921"
                                                    ]
                                                ],
                                                "type": "surface"
                                            }
                                        ],
                                        "table": [
                                            {
                                                "cells": {
                                                    "fill": {
                                                        "color": "#EBF0F8"
                                                    },
                                                    "line": {
                                                        "color": "white"
                                                    }
                                                },
                                                "header": {
                                                    "fill": {
                                                        "color": "#C8D4E3"
                                                    },
                                                    "line": {
                                                        "color": "white"
                                                    }
                                                },
                                                "type": "table"
                                            }
                                        ]
                                    },
                                    "layout": {
                                        "annotationdefaults": {
                                            "arrowcolor": "#2a3f5f",
                                            "arrowhead": 0,
                                            "arrowwidth": 1
                                        },
                                        "autotypenumbers": "strict",
                                        "coloraxis": {
                                            "colorbar": {
                                                "outlinewidth": 0,
                                                "ticks": ""
                                            }
                                        },
                                        "colorscale": {
                                            "diverging": [
                                                [
                                                    0,
                                                    "#8e0152"
                                                ],
                                                [
                                                    0.1,
                                                    "#c51b7d"
                                                ],
                                                [
                                                    0.2,
                                                    "#de77ae"
                                                ],
                                                [
                                                    0.3,
                                                    "#f1b6da"
                                                ],
                                                [
                                                    0.4,
                                                    "#fde0ef"
                                                ],
                                                [
                                                    0.5,
                                                    "#f7f7f7"
                                                ],
                                                [
                                                    0.6,
                                                    "#e6f5d0"
                                                ],
                                                [
                                                    0.7,
                                                    "#b8e186"
                                                ],
                                                [
                                                    0.8,
                                                    "#7fbc41"
                                                ],
                                                [
                                                    0.9,
                                                    "#4d9221"
                                                ],
                                                [
                                                    1,
                                                    "#276419"
                                                ]
                                            ],
                                            "sequential": [
                                                [
                                                    0,
                                                    "#0d0887"
                                                ],
                                                [
                                                    0.1111111111111111,
                                                    "#46039f"
                                                ],
                                                [
                                                    0.2222222222222222,
                                                    "#7201a8"
                                                ],
                                                [
                                                    0.3333333333333333,
                                                    "#9c179e"
                                                ],
                                                [
                                                    0.4444444444444444,
                                                    "#bd3786"
                                                ],
                                                [
                                                    0.5555555555555556,
                                                    "#d8576b"
                                                ],
                                                [
                                                    0.6666666666666666,
                                                    "#ed7953"
                                                ],
                                                [
                                                    0.7777777777777778,
                                                    "#fb9f3a"
                                                ],
                                                [
                                                    0.8888888888888888,
                                                    "#fdca26"
                                                ],
                                                [
                                                    1,
                                                    "#f0f921"
                                                ]
                                            ],
                                            "sequentialminus": [
                                                [
                                                    0,
                                                    "#0d0887"
                                                ],
                                                [
                                                    0.1111111111111111,
                                                    "#46039f"
                                                ],
                                                [
                                                    0.2222222222222222,
                                                    "#7201a8"
                                                ],
                                                [
                                                    0.3333333333333333,
                                                    "#9c179e"
                                                ],
                                                [
                                                    0.4444444444444444,
                                                    "#bd3786"
                                                ],
                                                [
                                                    0.5555555555555556,
                                                    "#d8576b"
                                                ],
                                                [
                                                    0.6666666666666666,
                                                    "#ed7953"
                                                ],
                                                [
                                                    0.7777777777777778,
                                                    "#fb9f3a"
                                                ],
                                                [
                                                    0.8888888888888888,
                                                    "#fdca26"
                                                ],
                                                [
                                                    1,
                                                    "#f0f921"
                                                ]
                                            ]
                                        },
                                        "colorway": [
                                            "#636efa",
                                            "#EF553B",
                                            "#00cc96",
                                            "#ab63fa",
                                            "#FFA15A",
                                            "#19d3f3",
                                            "#FF6692",
                                            "#B6E880",
                                            "#FF97FF",
                                            "#FECB52"
                                        ],
                                        "font": {
                                            "color": "#2a3f5f"
                                        },
                                        "geo": {
                                            "bgcolor": "white",
                                            "lakecolor": "white",
                                            "landcolor": "#E5ECF6",
                                            "showlakes": true,
                                            "showland": true,
                                            "subunitcolor": "white"
                                        },
                                        "hoverlabel": {
                                            "align": "left"
                                        },
                                        "hovermode": "closest",
                                        "mapbox": {
                                            "style": "light"
                                        },
                                        "paper_bgcolor": "white",
                                        "plot_bgcolor": "#E5ECF6",
                                        "polar": {
                                            "angularaxis": {
                                                "gridcolor": "white",
                                                "linecolor": "white",
                                                "ticks": ""
                                            },
                                            "bgcolor": "#E5ECF6",
                                            "radialaxis": {
                                                "gridcolor": "white",
                                                "linecolor": "white",
                                                "ticks": ""
                                            }
                                        },
                                        "scene": {
                                            "xaxis": {
                                                "backgroundcolor": "#E5ECF6",
                                                "gridcolor": "white",
                                                "gridwidth": 2,
                                                "linecolor": "white",
                                                "showbackground": true,
                                                "ticks": "",
                                                "zerolinecolor": "white"
                                            },
                                            "yaxis": {
                                                "backgroundcolor": "#E5ECF6",
                                                "gridcolor": "white",
                                                "gridwidth": 2,
                                                "linecolor": "white",
                                                "showbackground": true,
                                                "ticks": "",
                                                "zerolinecolor": "white"
                                            },
                                            "zaxis": {
                                                "backgroundcolor": "#E5ECF6",
                                                "gridcolor": "white",
                                                "gridwidth": 2,
                                                "linecolor": "white",
                                                "showbackground": true,
                                                "ticks": "",
                                                "zerolinecolor": "white"
                                            }
                                        },
                                        "shapedefaults": {
                                            "line": {
                                                "color": "#2a3f5f"
                                            }
                                        },
                                        "ternary": {
                                            "aaxis": {
                                                "gridcolor": "white",
                                                "linecolor": "white",
                                                "ticks": ""
                                            },
                                            "baxis": {
                                                "gridcolor": "white",
                                                "linecolor": "white",
                                                "ticks": ""
                                            },
                                            "bgcolor": "#E5ECF6",
                                            "caxis": {
                                                "gridcolor": "white",
                                                "linecolor": "white",
                                                "ticks": ""
                                            }
                                        },
                                        "title": {
                                            "x": 0.05
                                        },
                                        "xaxis": {
                                            "automargin": true,
                                            "gridcolor": "white",
                                            "linecolor": "white",
                                            "ticks": "",
                                            "title": {
                                                "standoff": 15
                                            },
                                            "zerolinecolor": "white",
                                            "zerolinewidth": 2
                                        },
                                        "yaxis": {
                                            "automargin": true,
                                            "gridcolor": "white",
                                            "linecolor": "white",
                                            "ticks": "",
                                            "title": {
                                                "standoff": 15
                                            },
                                            "zerolinecolor": "white",
                                            "zerolinewidth": 2
                                        }
                                    }
                                },
                                "xaxis": {
                                    "anchor": "y",
                                    "domain": [
                                        0,
                                        1
                                    ],
                                    "title": {
                                        "text": "Squad"
                                    }
                                },
                                "yaxis": {
                                    "anchor": "x",
                                    "domain": [
                                        0,
                                        1
                                    ],
                                    "title": {
                                        "text": "value"
                                    }
                                }
                            }
                        }
                    },
                    "metadata": {},
                    "output_type": "display_data"
                }
            ],
            "source": [
                "# INTRODUCE EL CÓDIGO AQUÍ\n",
                "df.groupBy(\"Squad\").sum(\"CrdR\").sort(\"sum(CrdR)\", ascending=False).limit(5).pandas_api(\"Squad\").plot.bar()"
            ]
        },
        {
            "cell_type": "code",
            "execution_count": null,
            "metadata": {},
            "outputs": [],
            "source": []
        }
    ],
    "metadata": {
        "kaggle": {
            "accelerator": "none",
            "dataSources": [],
            "isGpuEnabled": false,
            "isInternetEnabled": true,
            "language": "python",
            "sourceType": "notebook"
        },
        "kernelspec": {
            "display_name": ".venv",
            "language": "python",
            "name": "python3"
        },
        "language_info": {
            "codemirror_mode": {
                "name": "ipython",
                "version": 3
            },
            "file_extension": ".py",
            "mimetype": "text/x-python",
            "name": "python",
            "nbconvert_exporter": "python",
            "pygments_lexer": "ipython3",
            "version": "3.10.12"
        }
    },
    "nbformat": 4,
    "nbformat_minor": 4
}
