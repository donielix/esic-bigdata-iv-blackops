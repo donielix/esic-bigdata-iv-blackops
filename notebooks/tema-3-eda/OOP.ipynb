{
 "cells": [
  {
   "cell_type": "markdown",
   "metadata": {},
   "source": [
    "# Programación orientada a objetos\n",
    "## Introducción\n",
    "En este Notebook aprenderemos los conceptos básicos de la programación orientada a objetos en Python.\n",
    "\n",
    "La programación orientada a objetos (OOP, por sus siglas en inglés) es un paradigma de programación que ofrece una manera de estructurar programas de forma que las propiedades y comportamientos se agrupen en objetos individuales.\n",
    "\n",
    "Conceptualmente, los objetos son como los componentes de un sistema. Podemos concebir un programa como una especie de línea de ensamblaje en una fábrica. En cada etapa de la línea de ensamblaje, un componente del sistema procesa algún material, transformando en última instancia la materia prima en un producto terminado.\n",
    "\n",
    "Un objeto contiene datos (denominados \"atributos\"), como los materiales en bruto o preprocesados en cada paso de la línea de ensamblaje, y comportamientos (denominados \"métodos\"), como la acción que realiza cada componente de la línea de ensamblaje.\n",
    "\n",
    "Aterrizando estos conceptos, un objeto podría por ejemplo representar a una persona con propiedades como nombre, edad y dirección, y comportamientos tales como caminar, hablar, respirar y correr. O podría representar un correo electrónico con propiedades como una lista de destinatarios, asunto y cuerpo, y comportamientos como añadir archivos adjuntos y enviar el correo.\n",
    "\n",
    "Dicho de otro modo, la programación orientada a objetos es un enfoque para modelar elementos concretos del mundo real, como coches, así como relaciones entre elementos, como empresas y empleados o estudiantes y profesores. La OOP modela entidades del mundo real como objetos de software que tienen datos asociados y pueden realizar ciertas operaciones.\n",
    "\n",
    "Lo fundamental es que los objetos están en el centro de la programación orientada a objetos en Python. En otros paradigmas de programación, los objetos solo representan datos. En la OOP, además, determinan la estructura general del programa.\n",
    "\n",
    "## Objetos en Python\n",
    "Una de las ventajas de Python es que se trata de un lenguaje muy dinámico, orientado a objetos, y por tanto todo dentro de Python es un objeto. Es decir, cualquier cadena de texto, número, fecha, booleano, función, módulo, etc es un objeto (llamado `object` en Python), con sus atributos y sus métodos. Esto puede comprobarse fácilmente utilizando la función `isinstance`"
   ]
  },
  {
   "cell_type": "code",
   "execution_count": 1,
   "metadata": {},
   "outputs": [],
   "source": [
    "import pandas as pd\n",
    "from typing import List"
   ]
  },
  {
   "cell_type": "code",
   "execution_count": 2,
   "metadata": {},
   "outputs": [
    {
     "name": "stdout",
     "output_type": "stream",
     "text": [
      "True\n",
      "True\n",
      "True\n",
      "True\n"
     ]
    }
   ],
   "source": [
    "# una cadena de texto es un objeto\n",
    "print(isinstance(\"esto_es_un_objeto\", object))\n",
    "\n",
    "# un número es un objeto\n",
    "print(isinstance(1, object))\n",
    "\n",
    "# una función (de tipo lambda en este caso) es un objeto\n",
    "print(isinstance(lambda x: x, object))\n",
    "\n",
    "# el propio módulo de pandas que hemos importado es un objeto\n",
    "print(isinstance(pd, object))"
   ]
  },
  {
   "cell_type": "markdown",
   "metadata": {},
   "source": [
    "Por ejemplo, si definimos la función `suma`, que devuelve la suma de los dos argumentos de entrada que recibe, esta función no deja de ser un objeto, y por tanto tendrá sus atributos (sus propiedades internas, como la documentación de la función), y sus métodos (acciones como borrar la documentación)"
   ]
  },
  {
   "cell_type": "code",
   "execution_count": 3,
   "metadata": {},
   "outputs": [],
   "source": [
    "def suma(a, b):\n",
    "    \"\"\"\n",
    "    Esta función devuelve la suma de dos de sus argumentos\n",
    "    \"\"\"\n",
    "    return a + b"
   ]
  },
  {
   "cell_type": "markdown",
   "metadata": {},
   "source": [
    "Ejemplo de acceso al atributo `__doc__` del objeto `suma`, que contiene la documentación que hemos introducido en la propia función"
   ]
  },
  {
   "cell_type": "code",
   "execution_count": 4,
   "metadata": {},
   "outputs": [
    {
     "name": "stdout",
     "output_type": "stream",
     "text": [
      "\n",
      "    Esta función devuelve la suma de dos de sus argumentos\n",
      "    \n"
     ]
    }
   ],
   "source": [
    "print(suma.__doc__)"
   ]
  },
  {
   "cell_type": "markdown",
   "metadata": {},
   "source": [
    "Ejemplo de llamada a un método (acción) del objeto `suma`. En este caso se trata del método `__delattr__`, que elimina un atributo de este objeto. Eliminaremos así la documentación"
   ]
  },
  {
   "cell_type": "code",
   "execution_count": 5,
   "metadata": {},
   "outputs": [],
   "source": [
    "suma.__delattr__(\"__doc__\")"
   ]
  },
  {
   "cell_type": "markdown",
   "metadata": {},
   "source": [
    "Podemos comprobar cómo ahora ya no hay nada en el atributo `__doc__` original."
   ]
  },
  {
   "cell_type": "code",
   "execution_count": 6,
   "metadata": {},
   "outputs": [
    {
     "name": "stdout",
     "output_type": "stream",
     "text": [
      "None\n"
     ]
    }
   ],
   "source": [
    "print(suma.__doc__)"
   ]
  },
  {
   "cell_type": "markdown",
   "metadata": {},
   "source": [
    "## Clases en Python\n",
    "Son un tipo de objeto que representa una entidad de manera estructurada.\n",
    "\n",
    "En Python, definimos una clase usando la palabra clave `class` seguida de un nombre y dos puntos. Luego utilizamos `.__init__()` para declarar qué atributos debe tener cada instancia de la clase:\n",
    "\n",
    "```python\n",
    "class Employee:\n",
    "    def __init__(self, name, age):\n",
    "        self.name = name\n",
    "        self.age = age\n",
    "```\n",
    "\n",
    "¿Pero qué significa todo esto? ¿Y por qué necesitamos clases en primer lugar? Retrocedamos un poco y consideremos el uso de estructuras de datos primitivas integradas como alternativa.\n",
    "\n",
    "Las estructuras de datos primitivas —como números, cadenas y listas— están diseñadas para representar piezas de información simples, como el precio de una manzana, el nombre de un libro o nuestros colores favoritos, respectivamente. ¿Qué pasa si queremos representar algo más complejo?\n",
    "\n",
    "Por ejemplo, podríamos querer hacer un seguimiento de los empleados en una organización. Necesitaríamos almacenar información básica sobre cada empleado, como su nombre, edad, puesto y el año en que comenzó a trabajar.\n",
    "\n",
    "Una forma de hacerlo sería representar a cada empleado como una lista:\n",
    "\n",
    "```python\n",
    "kirk = [\"James Kirk\", 34, \"Captain\", 2265]\n",
    "spock = [\"Spock\", 35, \"Science Officer\", 2254]\n",
    "mccoy = [\"Leonard McCoy\", \"Chief Medical Officer\", 2266]\n",
    "```\n",
    "\n",
    "Este enfoque presenta varios problemas:\n",
    "\n",
    "* Primero, puede dificultar la gestión de archivos de código más extensos. Si hacemos referencia a `kirk[0]` varias líneas después de donde declaramos la lista `kirk`, ¿recordaremos que el elemento con índice 0 es el nombre del empleado?\n",
    "\n",
    "* Segundo, esto puede introducir errores si los empleados no tienen la misma cantidad de elementos en sus respectivas listas. En la lista de `mccoy` anterior, falta la edad, por lo que `mccoy[1]` devolverá \"Chief Medical Officer\" en lugar de la edad del Dr. McCoy.\n",
    "\n",
    "Una excelente manera de hacer que este tipo de código sea más manejable y fácil de mantener es usando clases."
   ]
  },
  {
   "cell_type": "code",
   "execution_count": 7,
   "metadata": {},
   "outputs": [],
   "source": [
    "# Definición de la clase, en este caso se corresponde con la entidad \"Empleado\"\n",
    "class Employee:\n",
    "    def __init__(self, name, age):\n",
    "        self.name = name\n",
    "        self.age = age"
   ]
  },
  {
   "cell_type": "code",
   "execution_count": 8,
   "metadata": {},
   "outputs": [],
   "source": [
    "# Instanciamos esta clase para dos empleados\n",
    "julia = Employee(name=\"Julia\", age=28)\n",
    "pedro = Employee(name=\"Pedro\", age=25)"
   ]
  },
  {
   "cell_type": "code",
   "execution_count": 9,
   "metadata": {},
   "outputs": [
    {
     "name": "stdout",
     "output_type": "stream",
     "text": [
      "Julia\n",
      "25\n"
     ]
    }
   ],
   "source": [
    "# Accedemos a atributos de estas instancias\n",
    "print(julia.name)\n",
    "print(pedro.age)"
   ]
  },
  {
   "cell_type": "markdown",
   "metadata": {},
   "source": [
    "## Clases vs Instancias\n",
    "\n",
    "Las clases nos permiten crear estructuras de datos definidas por el usuario. Las clases definen funciones llamadas métodos, que identifican los comportamientos y acciones que un objeto creado a partir de la clase puede realizar con sus datos.\n",
    "\n",
    "Comenzaremos creando una clase llamada `Perro` que almacenará información sobre las características y comportamientos que un perro individual puede tener.\n",
    "\n",
    "Una clase es un plano para definir algo. No contiene datos por sí misma. La clase `Perro` especifica que se necesita un nombre y una edad para definir a un perro, pero no contiene el nombre o la edad de un perro específico.\n",
    "\n",
    "Mientras que la clase es el plano, una instancia es un objeto que se construye a partir de una clase y contiene datos reales. Una instancia de la clase `Perro` ya no es un plano. Es un perro real con un nombre, como Zeus, que tiene 12 años.\n",
    "\n",
    "Dicho de otra forma, una clase es como un formulario o cuestionario. Una instancia es como un formulario que hemos llenado con información. Así como muchas personas pueden llenar el mismo formulario con su propia información única, podemos crear muchas instancias a partir de una sola clase.\n",
    "\n",
    "**Definición de Clase**\n",
    "\n",
    "Empezamos todas las definiciones de clase con la palabra clave `class`, luego añadimos el nombre de la clase y dos puntos. Python considerará cualquier código indentado debajo de la definición de la clase como parte del cuerpo de la clase.\n",
    "\n",
    "Aquí tenemos un ejemplo de una clase `Perro`:\n"
   ]
  },
  {
   "cell_type": "code",
   "execution_count": 10,
   "metadata": {},
   "outputs": [],
   "source": [
    "class Perro:\n",
    "    pass"
   ]
  },
  {
   "cell_type": "markdown",
   "metadata": {},
   "source": [
    "El cuerpo de la clase `Perro` consiste en una sola declaración: la palabra clave `pass`. Esto solo es un marcador de posición que indica dónde eventualmente irá el código. Esto nos permite ejecutar el código sin que Python genere un error.\n",
    "\n",
    "> **_Nota_**: Los nombres de las clases en Python se escriben siguiendo la convención de CapitalizedWords. Por ejemplo, una clase para una raza específica de perro, como el Jack Russell Terrier, se escribiría como `JackRussellTerrier`.\n",
    "\n",
    "La clase `Perro` no es muy interesante en este momento, así que la mejoraremos un poco definiendo algunas propiedades que todos los objetos `Perro` deberían tener. Hay varias propiedades que podemos elegir, incluyendo el nombre, la edad, el color del pelaje y la raza. Para mantener el ejemplo simple, solo usaremos el nombre y la edad.\n",
    "\n",
    "Definimos las propiedades que todos los objetos `Perro` deben tener en un método llamado `.__init__()`. Cada vez que creamos un nuevo objeto `Perro`, `.__init__()` establece el estado inicial del objeto asignando valores a las propiedades del objeto. Es decir, `.__init__()` inicializa cada nueva instancia de la clase.\n",
    "\n",
    "Podemos darle a `.__init__()` cualquier cantidad de parámetros, pero el primer parámetro siempre será una variable llamada `self`. Cuando creamos una nueva instancia de clase, Python pasa automáticamente la instancia al parámetro `self` en `.__init__()` para que Python pueda definir los nuevos atributos en el objeto."
   ]
  },
  {
   "cell_type": "code",
   "execution_count": 11,
   "metadata": {},
   "outputs": [],
   "source": [
    "class Perro:\n",
    "    def __init__(self, nombre: str, edad: int):\n",
    "        self.nombre = nombre\n",
    "        self.edad = edad"
   ]
  },
  {
   "cell_type": "markdown",
   "metadata": {},
   "source": [
    "En el cuerpo de `.__init__()`, hay dos declaraciones que utilizan la variable self:\n",
    "\n",
    "* `self.name = name` crea un atributo llamado name y le asigna el valor del parámetro name.\n",
    "* `self.age = age` crea un atributo llamado age y le asigna el valor del parámetro age.\n",
    "\n",
    "Los atributos creados en `.__init__()` se llaman atributos de instancia. El valor de un atributo de instancia es específico para una instancia particular de la clase. Todos los objetos de tipo `Perro` tienen un nombre y una edad, pero los valores de estos atributos dependerán de cada instancia específica de `Perro`.\n",
    "\n",
    "Por otro lado, los atributos de clase son atributos que tienen el mismo valor para todas las instancias de la clase. Puedes definir un atributo de clase asignando un valor a una variable fuera de `.__init__()`.\n",
    "\n",
    "Por ejemplo, la siguiente clase `Perro` tiene un atributo de clase llamado `especie` con el valor \"Canis familiaris\":"
   ]
  },
  {
   "cell_type": "code",
   "execution_count": 12,
   "metadata": {},
   "outputs": [],
   "source": [
    "class Perro:\n",
    "    especie = \"Canis familiaris\"\n",
    "\n",
    "    def __init__(self, nombre, edad):\n",
    "        self.nombre = nombre\n",
    "        self.edad = edad"
   ]
  },
  {
   "cell_type": "markdown",
   "metadata": {},
   "source": [
    "Definimos los atributos de clase directamente debajo de la primera línea con el nombre de la clase e indéntalos con cuatro espacios. Siempre debemos asignarles un valor inicial. Cuando creas una instancia de la clase, Python asigna automáticamente a los atributos de clase sus valores iniciales.\n",
    "\n",
    "Usaremos atributos de clase para definir propiedades que deben tener el mismo valor para todas las instancias de la clase. Usaremos atributos de instancia para las propiedades que varían de una instancia a otra.\n",
    "\n",
    "Ahora que hemos definido la clase (i.e el formulario) `Perro`, vamos a crear algunas instancias de perros"
   ]
  },
  {
   "cell_type": "markdown",
   "metadata": {},
   "source": [
    "## Instancias\n",
    "Crear un nuevo objeto a partir de una clase se llama instanciar una clase. Podemos crear un nuevo objeto escribiendo el nombre de la clase, seguido de paréntesis de apertura y cierre, y rellenando en su interior los argumentos especificados en el inicializador de la clase, `__init__()`"
   ]
  },
  {
   "cell_type": "code",
   "execution_count": 13,
   "metadata": {},
   "outputs": [
    {
     "data": {
      "text/plain": [
       "<__main__.Perro at 0x7f454643d750>"
      ]
     },
     "execution_count": 13,
     "metadata": {},
     "output_type": "execute_result"
    }
   ],
   "source": [
    "Perro(nombre=\"Zeus\", edad=12)"
   ]
  },
  {
   "cell_type": "markdown",
   "metadata": {},
   "source": [
    "Hemos instanciado la clase `Perro` para crear un objeto de tipo `Perro`, con un determinado nombre y edad.\n",
    "\n",
    "En el resultado mostrado arriba, podemos ver que ahora tenemos un nuevo objeto `Perro` en una determinada dirección de memoria `0x...`. Esta cadena de letras y números que parece extraña es una dirección de memoria que indica dónde almacena Python el objeto `Perro` en la memoria de nuestro equipo. Notemos que la dirección en nuestra pantalla será diferente.\n",
    "\n",
    "Ahora instanciemos la clase `Perro` una segunda vez para crear otro objeto de tipo `Perro`\n"
   ]
  },
  {
   "cell_type": "code",
   "execution_count": 14,
   "metadata": {},
   "outputs": [
    {
     "data": {
      "text/plain": [
       "<__main__.Perro at 0x7f458757f010>"
      ]
     },
     "execution_count": 14,
     "metadata": {},
     "output_type": "execute_result"
    }
   ],
   "source": [
    "Perro(nombre=\"Luna\", edad=5)"
   ]
  },
  {
   "cell_type": "markdown",
   "metadata": {},
   "source": [
    "La nueva instancia de `Perro` se encuentra en una dirección de memoria diferente. Esto se debe a que es una instancia completamente nueva y única, distinta del primer objeto `Perro` que creamos (aunque tuviese los mismos atributos).\n",
    "\n",
    "Para ver esto de otra manera, escribamos lo siguiente:"
   ]
  },
  {
   "cell_type": "code",
   "execution_count": 15,
   "metadata": {},
   "outputs": [],
   "source": [
    "nala1 = Perro(nombre=\"Nala\", edad=5)\n",
    "nala2 = Perro(nombre=\"Nala\", edad=5)"
   ]
  },
  {
   "cell_type": "markdown",
   "metadata": {},
   "source": [
    "En este código, creamos dos nuevos objetos `Perro`, con los mismos atributos de nombre y edad, y los asignamos a las variables `nala1` y `nala2`. Cuando comparamos `nala1` y `nala2` usando el operador `==`, el resultado es `False`. Aunque `nala1` y `nala2` son ambos instancias de la clase `Perro`, representan dos objetos distintos en la memoria."
   ]
  },
  {
   "cell_type": "code",
   "execution_count": 16,
   "metadata": {},
   "outputs": [
    {
     "data": {
      "text/plain": [
       "False"
      ]
     },
     "execution_count": 16,
     "metadata": {},
     "output_type": "execute_result"
    }
   ],
   "source": [
    "nala1 == nala2"
   ]
  },
  {
   "cell_type": "markdown",
   "metadata": {},
   "source": [
    "Podemos acceder a los atributos de una determinada instancia utilizando la notación por puntos"
   ]
  },
  {
   "cell_type": "code",
   "execution_count": 17,
   "metadata": {},
   "outputs": [
    {
     "data": {
      "text/plain": [
       "'Nala'"
      ]
     },
     "execution_count": 17,
     "metadata": {},
     "output_type": "execute_result"
    }
   ],
   "source": [
    "nala1.nombre"
   ]
  },
  {
   "cell_type": "code",
   "execution_count": 18,
   "metadata": {},
   "outputs": [
    {
     "data": {
      "text/plain": [
       "'Canis familiaris'"
      ]
     },
     "execution_count": 18,
     "metadata": {},
     "output_type": "execute_result"
    }
   ],
   "source": [
    "# Atributo de clase: común para todos los perros\n",
    "nala1.especie"
   ]
  },
  {
   "cell_type": "markdown",
   "metadata": {},
   "source": [
    "Una de las mayores ventajas de usar clases para organizar datos es que se garantiza que las instancias tendrán los atributos que esperamos. Todas las instancias de la clase *Dog* tienen los atributos `.especie`, `.nombre` y `.edad`, por lo que podremos usar esos atributos con confianza, sabiendo que siempre devolverán un valor.\n",
    "\n",
    "Aunque la existencia de los atributos está garantizada, sus valores pueden cambiar dinámicamente:"
   ]
  },
  {
   "cell_type": "code",
   "execution_count": 19,
   "metadata": {},
   "outputs": [
    {
     "name": "stdout",
     "output_type": "stream",
     "text": [
      "6\n"
     ]
    }
   ],
   "source": [
    "nala1.edad += 1\n",
    "print(nala1.edad)"
   ]
  },
  {
   "cell_type": "markdown",
   "metadata": {},
   "source": [
    "### Métodos de Instancia\n",
    "Los métodos de instancia son funciones que definimos dentro de una clase y que solo se pueden llamar en una instancia de esa clase. Al igual que `.__init__()`, un método de instancia siempre toma `self` como su primer parámetro (es una referencia a la propia instancia).\n",
    "\n",
    "Actualicemos la clase `Perro`:"
   ]
  },
  {
   "cell_type": "code",
   "execution_count": 20,
   "metadata": {},
   "outputs": [],
   "source": [
    "class Perro:\n",
    "    especie = \"Canis familiaris\"\n",
    "\n",
    "    def __init__(self, nombre, edad):\n",
    "        self.nombre = nombre\n",
    "        self.edad = edad\n",
    "\n",
    "    # Método de instancia\n",
    "    def descripcion(self):\n",
    "        return f\"{self.nombre} tiene {self.edad} años\"\n",
    "\n",
    "    # Otro método de instancia\n",
    "    def hablar(self, sound):\n",
    "        return f\"{self.nombre} dice {sound}\""
   ]
  },
  {
   "cell_type": "markdown",
   "metadata": {},
   "source": [
    "Esta clase `Perro` tiene dos métodos de instancia:\n",
    "\n",
    "- `.descripcion()` devuelve una cadena de texto que muestra el nombre y la edad del perro.\n",
    "- `.hablar()` tiene un parámetro llamado `sound` (sonido) y devuelve una cadena de texto que contiene el nombre del perro y el sonido que hace.\n",
    "\n",
    "Veamos los métodos de instancia en acción:"
   ]
  },
  {
   "cell_type": "code",
   "execution_count": 21,
   "metadata": {},
   "outputs": [],
   "source": [
    "miles = Perro(\"Miles\", 4)"
   ]
  },
  {
   "cell_type": "code",
   "execution_count": 22,
   "metadata": {},
   "outputs": [
    {
     "data": {
      "text/plain": [
       "'Miles tiene 4 años'"
      ]
     },
     "execution_count": 22,
     "metadata": {},
     "output_type": "execute_result"
    }
   ],
   "source": [
    "miles.descripcion()"
   ]
  },
  {
   "cell_type": "code",
   "execution_count": 23,
   "metadata": {},
   "outputs": [
    {
     "data": {
      "text/plain": [
       "'Miles dice Woof Woof'"
      ]
     },
     "execution_count": 23,
     "metadata": {},
     "output_type": "execute_result"
    }
   ],
   "source": [
    "miles.hablar(\"Woof Woof\")"
   ]
  },
  {
   "cell_type": "code",
   "execution_count": 24,
   "metadata": {},
   "outputs": [
    {
     "data": {
      "text/plain": [
       "'Miles dice Bow Wow'"
      ]
     },
     "execution_count": 24,
     "metadata": {},
     "output_type": "execute_result"
    }
   ],
   "source": [
    "miles.hablar(\"Bow Wow\")"
   ]
  },
  {
   "cell_type": "markdown",
   "metadata": {},
   "source": [
    "En la clase `Perro` anterior, `.descripcion()` devuelve una cadena de texto que contiene información sobre la instancia `miles` del perro. Cuando creamos nuestras propias clases, es una buena práctica tener un método que devuelva una cadena con información útil sobre una instancia de la clase. Sin embargo, `.descripcion()` no es la forma más \"pythónica\" de hacer esto.\n",
    "\n",
    "Por ejemplo, cuando creamos un objeto de lista, podemos usar `print()` para mostrar una cadena que se asemeja a la lista:"
   ]
  },
  {
   "cell_type": "code",
   "execution_count": 25,
   "metadata": {},
   "outputs": [
    {
     "name": "stdout",
     "output_type": "stream",
     "text": [
      "['Miles', 'Buddy', 'Jack']\n"
     ]
    }
   ],
   "source": [
    "names = [\"Miles\", \"Buddy\", \"Jack\"]\n",
    "print(names)"
   ]
  },
  {
   "cell_type": "markdown",
   "metadata": {},
   "source": [
    "Sin embargo, si intentamos imprimir el objeto `miles`, lo que obtenemos por salida es simplemente su dirección de memoria:"
   ]
  },
  {
   "cell_type": "code",
   "execution_count": 26,
   "metadata": {},
   "outputs": [
    {
     "name": "stdout",
     "output_type": "stream",
     "text": [
      "<__main__.Perro object at 0x7f4587556260>\n"
     ]
    }
   ],
   "source": [
    "print(miles)"
   ]
  },
  {
   "cell_type": "markdown",
   "metadata": {},
   "source": [
    "Este mensaje no es muy útil. Podemos cambiar lo que se imprime definiendo un método de instancia especial llamado `.__str__()`.\n",
    "\n",
    "En la ventana del editor, cambia el nombre del método `.descripcion()` de la clase `Perro` a `.__str__()`:\n",
    "\n",
    "```python\n",
    "class Perro:\n",
    "    # ...\n",
    "\n",
    "    def __str__(self):\n",
    "        return f\"{self.nombre} tiene {self.edad} años\"\n",
    "```"
   ]
  },
  {
   "cell_type": "code",
   "execution_count": 27,
   "metadata": {},
   "outputs": [],
   "source": [
    "Perro.__str__ = Perro.descripcion"
   ]
  },
  {
   "cell_type": "code",
   "execution_count": 28,
   "metadata": {},
   "outputs": [
    {
     "name": "stdout",
     "output_type": "stream",
     "text": [
      "Miles tiene 4 años\n"
     ]
    }
   ],
   "source": [
    "print(miles)"
   ]
  },
  {
   "cell_type": "markdown",
   "metadata": {},
   "source": [
    "Ahora, cuando imprimimos por pantalla `miles`, obtenemos un resultado mucho más amigable:\n",
    "\n",
    "Métodos como `.__init__()` y `.__str__()` se llaman \"métodos dunder\" porque comienzan y terminan con dos guiones bajos (double underscore). Existen muchos métodos dunder que podemos utilizar para personalizar clases en Python."
   ]
  },
  {
   "cell_type": "markdown",
   "metadata": {},
   "source": [
    "## Ejercicio 1\n",
    "Crea una clase llamada `Coche`, con los atributos `color` y `kilometraje`.\n",
    "\n",
    "Luego, crea dos objetos de la clase `Coche`: un coche azul con veinte mil km y un coche rojo con treinta mil km, y muestra en pantalla sus colores y kilometraje. La salida debería verse así:\n",
    "\n",
    "El coche azul tiene 20000 km  \n",
    "El coche rojo tiene 30000 km"
   ]
  },
  {
   "cell_type": "code",
   "execution_count": 29,
   "metadata": {},
   "outputs": [],
   "source": [
    "# INTRODUCE EL CÓDIGO AQUÍ"
   ]
  },
  {
   "cell_type": "markdown",
   "metadata": {},
   "source": [
    "## Herencia de clases\n",
    "\n",
    "La herencia es el proceso por el cual una clase adquiere los atributos y métodos de otra. Las clases recién creadas se llaman clases hijas, y las clases de las que derivan estas clases hijas se llaman clases padre.\n",
    "\n",
    "Para heredar de una clase padre, creamos una nueva clase e incluimos el nombre de la clase padre entre paréntesis:"
   ]
  },
  {
   "cell_type": "code",
   "execution_count": 30,
   "metadata": {},
   "outputs": [],
   "source": [
    "class Padre:\n",
    "    color_ojos = \"marrón\"\n",
    "\n",
    "\n",
    "class Hijo(Padre):\n",
    "    pass"
   ]
  },
  {
   "cell_type": "markdown",
   "metadata": {},
   "source": [
    "En este ejemplo sencillo, la clase hija `Hijo` hereda de la clase padre `Padre`. Como las clases hijas adquieren los atributos y métodos de las clases padre, `Hijo.color_ojos` también es `\"marrón\"` sin que lo definamos explícitamente.\n",
    "\n",
    "Las clases hijas pueden sobrescribir o ampliar los atributos y métodos de las clases padre. En otras palabras, las clases hijas heredan todos los atributos y métodos de los padres, pero también pueden especificar atributos y métodos únicos para sí mismas.\n",
    "\n",
    "Podemos pensar en la herencia de objetos como algo similar a la herencia genética:\n",
    "\n",
    "Es posible que hayamos heredado el color de ojos de nuestros padres. Es un atributo con el que nacimos. Pero quizá decidamos usar lentes de contacto de color azul. Suponiendo que nuestros padres no tienen los ojos azules, acabamos de sobrescribir el atributo del color de ojos que heredamos de ellos:"
   ]
  },
  {
   "cell_type": "code",
   "execution_count": 31,
   "metadata": {},
   "outputs": [],
   "source": [
    "class Padre:\n",
    "    color_ojos = \"marrón\"\n",
    "\n",
    "\n",
    "class Hijo(Padre):\n",
    "    color_ojos = \"azul\""
   ]
  },
  {
   "cell_type": "code",
   "execution_count": 32,
   "metadata": {},
   "outputs": [
    {
     "data": {
      "text/plain": [
       "'azul'"
      ]
     },
     "execution_count": 32,
     "metadata": {},
     "output_type": "execute_result"
    }
   ],
   "source": [
    "Hijo.color_ojos"
   ]
  },
  {
   "cell_type": "markdown",
   "metadata": {},
   "source": [
    "Si cambiamos el ejemplo de código de esta manera, entonces `Hijo.color_ojos` será `\"azul\"`.\n",
    "\n",
    "También heredamos, en cierto sentido, el idioma de nuestros padres. Si nuestros padres hablan inglés, nosotros también hablaremos inglés. Ahora imaginemos que decidimos aprender un segundo idioma, como alemán. En este caso, hemos ampliado nuestros atributos porque hemos agregado un atributo que nuestros padres no tienen:"
   ]
  },
  {
   "cell_type": "code",
   "execution_count": 33,
   "metadata": {},
   "outputs": [],
   "source": [
    "class Padre:\n",
    "    habla = [\"Inglés\"]\n",
    "\n",
    "\n",
    "class Hijo(Padre):\n",
    "    def __init__(self):\n",
    "        self.habla = self.habla + [\"Alemán\"]"
   ]
  },
  {
   "cell_type": "code",
   "execution_count": 34,
   "metadata": {},
   "outputs": [
    {
     "data": {
      "text/plain": [
       "['Inglés']"
      ]
     },
     "execution_count": 34,
     "metadata": {},
     "output_type": "execute_result"
    }
   ],
   "source": [
    "Padre.habla"
   ]
  },
  {
   "cell_type": "code",
   "execution_count": 35,
   "metadata": {},
   "outputs": [
    {
     "data": {
      "text/plain": [
       "['Inglés', 'Alemán']"
      ]
     },
     "execution_count": 35,
     "metadata": {},
     "output_type": "execute_result"
    }
   ],
   "source": [
    "hijo = Hijo()\n",
    "hijo.habla"
   ]
  },
  {
   "cell_type": "markdown",
   "metadata": {},
   "source": [
    "Desde cualquier clase hija, puede llamarse a la clase padre a través de la función especial `super()`"
   ]
  },
  {
   "cell_type": "code",
   "execution_count": 36,
   "metadata": {},
   "outputs": [],
   "source": [
    "class Padre:\n",
    "    def __init__(self, nombre: str):\n",
    "        self.nombre = nombre\n",
    "\n",
    "\n",
    "class Hijo(Padre):\n",
    "    def __init__(self, nombre: str, edad: int):\n",
    "        super().__init__(nombre)\n",
    "        self.edad = edad"
   ]
  },
  {
   "cell_type": "code",
   "execution_count": 37,
   "metadata": {},
   "outputs": [
    {
     "name": "stdout",
     "output_type": "stream",
     "text": [
      "Alex\n",
      "26\n"
     ]
    }
   ],
   "source": [
    "hijo = Hijo(nombre=\"Alex\", edad=26)\n",
    "print(hijo.nombre)\n",
    "print(hijo.edad)"
   ]
  },
  {
   "cell_type": "markdown",
   "metadata": {},
   "source": [
    "## Modelado de entidades\n",
    "\n",
    "Modelar un diagrama entidad-relación (ER) en Python utilizando clases es útil para estructurar y organizar datos de una manera orientada a objetos. Esto permite gestionar entidades, relaciones y sus atributos en código Python de forma modular y reutilizable. Veamos un ejemplo.\n",
    "\n",
    "Supongamos que queremos modelar un sistema de gestión de una biblioteca con tres entidades principales:\n",
    "\n",
    "1. **Libro**: Representa los libros de la biblioteca.\n",
    "2. **Autor**: Representa a los autores de los libros.\n",
    "3. **Biblioteca**: Representa la biblioteca en sí y su colección de libros.\n",
    "\n",
    "Además, la relación entre estas entidades se da en que:\n",
    "- Un autor puede escribir múltiples libros.\n",
    "- Un libro tiene uno o más autores.\n",
    "\n",
    "Podríamos definir este modelo en Python usando clases:\n"
   ]
  },
  {
   "cell_type": "code",
   "execution_count": 38,
   "metadata": {},
   "outputs": [],
   "source": [
    "class Libro:\n",
    "    def __init__(self, titulo: str, anio_publicacion: int):\n",
    "        self.titulo = titulo\n",
    "        self.anio_publicacion = anio_publicacion\n",
    "        self.autores: List[Autor] = []  # Lista de autores de este libro\n",
    "\n",
    "    def __str__(self):\n",
    "        return f\"Libro: '{self.titulo}', Año: {self.anio_publicacion}\"\n",
    "\n",
    "\n",
    "class Autor:\n",
    "    def __init__(self, nombre: str):\n",
    "        self.nombre = nombre\n",
    "        self.libros: List[Libro] = []  # Lista de libros escritos por este autor\n",
    "\n",
    "    def agregar_libro(self, libro: Libro):\n",
    "        self.libros.append(libro)\n",
    "        libro.autores.append(self)  # Relación bidireccional\n",
    "\n",
    "    def __str__(self):\n",
    "        return f\"Autor: {self.nombre}\"\n",
    "\n",
    "\n",
    "class Biblioteca:\n",
    "    def __init__(self, nombre: str):\n",
    "        self.nombre = nombre\n",
    "        self.libros: List[Libro] = []\n",
    "\n",
    "    def agregar_libro(self, libro: Libro):\n",
    "        self.libros.append(libro)\n",
    "\n",
    "    def mostrar_libros(self):\n",
    "        for libro in self.libros:\n",
    "            print(f\"{libro} - Autores: {[autor.nombre for autor in libro.autores]}\")\n",
    "\n",
    "    def __str__(self):\n",
    "        return f\"Biblioteca: {self.nombre}\""
   ]
  },
  {
   "cell_type": "markdown",
   "metadata": {},
   "source": [
    "**Uso del Modelo**\n",
    "\n",
    "Veamos cómo podríamos usar estas clases para crear autores, libros y una biblioteca que los contenga:"
   ]
  },
  {
   "cell_type": "code",
   "execution_count": 39,
   "metadata": {},
   "outputs": [
    {
     "name": "stdout",
     "output_type": "stream",
     "text": [
      "Autor: Gabriel García Márquez Autor: J.K. Rowling\n"
     ]
    }
   ],
   "source": [
    "# Crear autores\n",
    "autor1 = Autor(\"Gabriel García Márquez\")\n",
    "autor2 = Autor(\"J.K. Rowling\")\n",
    "\n",
    "print(autor1, autor2, end=\"\\n\")"
   ]
  },
  {
   "cell_type": "code",
   "execution_count": 40,
   "metadata": {},
   "outputs": [
    {
     "name": "stdout",
     "output_type": "stream",
     "text": [
      "Libro: 'Cien años de soledad', Año: 1967 Libro: 'Harry Potter y la piedra filosofal', Año: 1997\n"
     ]
    }
   ],
   "source": [
    "# Crear libros\n",
    "libro1 = Libro(\"Cien años de soledad\", 1967)\n",
    "libro2 = Libro(\"Harry Potter y la piedra filosofal\", 1997)\n",
    "\n",
    "print(libro1, libro2, end=\"\\n\")"
   ]
  },
  {
   "cell_type": "code",
   "execution_count": 41,
   "metadata": {},
   "outputs": [],
   "source": [
    "# Asociar autores con libros\n",
    "autor1.agregar_libro(libro1)  # Gabriel García Márquez escribió \"Cien años de soledad\"\n",
    "autor2.agregar_libro(\n",
    "    libro2\n",
    ")  # J.K. Rowling escribió \"Harry Potter y la piedra filosofal\""
   ]
  },
  {
   "cell_type": "code",
   "execution_count": 42,
   "metadata": {},
   "outputs": [],
   "source": [
    "# Crear una biblioteca y agregar los libros\n",
    "biblioteca = Biblioteca(\"Biblioteca Central\")\n",
    "biblioteca.agregar_libro(libro1)\n",
    "biblioteca.agregar_libro(libro2)"
   ]
  },
  {
   "cell_type": "code",
   "execution_count": 43,
   "metadata": {},
   "outputs": [
    {
     "name": "stdout",
     "output_type": "stream",
     "text": [
      "Libro: 'Cien años de soledad', Año: 1967 - Autores: ['Gabriel García Márquez']\n",
      "Libro: 'Harry Potter y la piedra filosofal', Año: 1997 - Autores: ['J.K. Rowling']\n"
     ]
    }
   ],
   "source": [
    "# Mostrar libros y sus autores en la biblioteca\n",
    "biblioteca.mostrar_libros()"
   ]
  },
  {
   "cell_type": "markdown",
   "metadata": {},
   "source": [
    "**Utilidad de Este Enfoque**\n",
    "\n",
    "1. **Modularidad**: Cada entidad (Libro, Autor, Biblioteca) está encapsulada en su propia clase, lo que facilita la lectura y el mantenimiento del código.\n",
    "2. **Reutilización**: Podemos crear múltiples bibliotecas, autores y libros, y establecer relaciones entre ellos sin repetir código.\n",
    "3. **Relaciones**: La estructura bidireccional permite que un autor tenga varios libros y que un libro tenga varios autores. Además, las clases permiten gestionar relaciones y agregar fácilmente lógica adicional si el modelo crece.\n",
    "4. **Escalabilidad**: Con esta base, podríamos extender el modelo fácilmente para añadir relaciones como préstamos de libros, miembros de la biblioteca, etc."
   ]
  },
  {
   "cell_type": "markdown",
   "metadata": {},
   "source": [
    "## Ejercicio 2\n",
    "\n",
    "Una empresa dedicada a la venta de productos necesita un sistema en Python para gestionar la información de sus **clientes** y **productos**. Para ello, deberás crear un modelo usando clases que permita representar diferentes tipos de productos y clientes, así como la relación entre ellos.\n",
    "\n",
    "#### Requisitos\n",
    "\n",
    "1. **Clase Cliente**:\n",
    "   - Crea una clase `Cliente` que tenga los siguientes atributos:\n",
    "     - `nombre`: el nombre del cliente.\n",
    "     - `email`: el email de contacto.\n",
    "   - Añade un método para mostrar la información del cliente en formato texto.\n",
    "   \n",
    "2. **Clases Producto y sus Subclases**:\n",
    "   - Crea una clase base `Producto` con atributos básicos como:\n",
    "     - `nombre`: el nombre del producto.\n",
    "     - `precio`: el precio del producto.\n",
    "   - Añade un método para mostrar la información del producto.\n",
    "   - A partir de `Producto`, crea dos subclases:\n",
    "     - `ProductoFisico`: representa productos físicos, como mobiliario u ordenadores. Añade un atributo adicional `peso`.\n",
    "     - `ProductoDigital`: representa productos digitales, como software o suscripciones. Añade un atributo adicional `licencia` que representa el tipo de licencia del producto (por ejemplo, \"individual\" o \"corporativa\").\n",
    "   \n",
    "3. **Clase Pedido**:\n",
    "   - Crea una clase `Pedido` que represente una compra realizada por un cliente. Deberá tener los siguientes atributos:\n",
    "     - `cliente`: el cliente que realiza el pedido (instancia de `Cliente`).\n",
    "     - `productos`: una lista de productos comprados (puede incluir tanto `ProductoFisico` como `ProductoDigital`).\n",
    "   - Añade un método para agregar un producto (físico o digital) al pedido.\n",
    "   - Añade un método para calcular el precio total del pedido sumando los precios de todos los productos.\n",
    "   - Añade un método para mostrar el resumen del pedido, con el nombre del cliente, los productos adquiridos y el precio total.\n",
    "\n",
    "#### Ejercicio\n",
    "\n",
    "1. Crea al menos dos clientes.\n",
    "2. Crea varios productos, tanto físicos como digitales.\n",
    "3. Crea al menos dos pedidos distintos que incluyan productos de diferentes tipos.\n",
    "4. Muestra el resumen de cada pedido, incluyendo el nombre del cliente, los productos comprados y el precio total del pedido.\n",
    "\n",
    "#### Ejemplo de Salida Esperada\n",
    "\n",
    "El código debería ser capaz de producir un resumen como el siguiente:\n",
    "\n",
    "```\n",
    "Pedido de Cliente: Marta Gómez\n",
    "Productos:\n",
    "- Ordenador portátil (Producto Físico) - Precio: 900€, Peso: 2.5kg\n",
    "- Software Contable (Producto Digital) - Precio: 200€, Licencia: individual\n",
    "Precio Total: 1100€\n",
    "\n",
    "Pedido de Cliente: Carlos Ramírez\n",
    "Productos:\n",
    "- Silla de Oficina (Producto Físico) - Precio: 120€, Peso: 7kg\n",
    "Precio Total: 120€\n",
    "```"
   ]
  },
  {
   "cell_type": "code",
   "execution_count": 44,
   "metadata": {},
   "outputs": [],
   "source": [
    "# INTRODUCE AQUÍ EL CÓDIGO"
   ]
  },
  {
   "cell_type": "code",
   "execution_count": null,
   "metadata": {},
   "outputs": [],
   "source": []
  }
 ],
 "metadata": {
  "kernelspec": {
   "display_name": ".venv",
   "language": "python",
   "name": "python3"
  },
  "language_info": {
   "codemirror_mode": {
    "name": "ipython",
    "version": 3
   },
   "file_extension": ".py",
   "mimetype": "text/x-python",
   "name": "python",
   "nbconvert_exporter": "python",
   "pygments_lexer": "ipython3",
   "version": "3.10.12"
  }
 },
 "nbformat": 4,
 "nbformat_minor": 2
}
